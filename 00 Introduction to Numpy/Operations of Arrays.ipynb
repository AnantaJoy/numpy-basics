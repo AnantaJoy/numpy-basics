{
 "cells": [
  {
   "cell_type": "code",
   "execution_count": 1,
   "metadata": {},
   "outputs": [
    {
     "data": {
      "text/plain": [
       "'1.23.1'"
      ]
     },
     "execution_count": 1,
     "metadata": {},
     "output_type": "execute_result"
    }
   ],
   "source": [
    "import numpy as np\n",
    "import pandas as pd\n",
    "import csv\n",
    "np.__version__"
   ]
  },
  {
   "cell_type": "code",
   "execution_count": 10,
   "metadata": {},
   "outputs": [
    {
     "data": {
      "text/plain": [
       "array([[41, 43, 45, 47, 49, 51, 53, 55, 57, 59]])"
      ]
     },
     "execution_count": 10,
     "metadata": {},
     "output_type": "execute_result"
    }
   ],
   "source": [
    "# an 1D array of 10 elements \n",
    "arr = np.array([1, 2, 3, 4, 5, 6, 7, 8, 9, 10])\n",
    "arr2 = np.array([np.arange(40,50)])\n",
    "arr + arr2"
   ]
  },
  {
   "cell_type": "code",
   "execution_count": 11,
   "metadata": {},
   "outputs": [
    {
     "data": {
      "text/plain": [
       "array([[39, 39, 39, 39, 39, 39, 39, 39, 39, 39]])"
      ]
     },
     "execution_count": 11,
     "metadata": {},
     "output_type": "execute_result"
    }
   ],
   "source": [
    "# subtract two arrays\n",
    "arr2 - arr"
   ]
  },
  {
   "cell_type": "code",
   "execution_count": 12,
   "metadata": {},
   "outputs": [
    {
     "data": {
      "text/plain": [
       "array([[ 1,  2,  3,  4,  5],\n",
       "       [ 6,  7,  8,  9, 10]])"
      ]
     },
     "execution_count": 12,
     "metadata": {},
     "output_type": "execute_result"
    }
   ],
   "source": [
    "# reshape an array\n",
    "arr.reshape(2, 5)\n"
   ]
  },
  {
   "cell_type": "code",
   "execution_count": 14,
   "metadata": {},
   "outputs": [
    {
     "data": {
      "text/plain": [
       "array([[ 1,  6],\n",
       "       [ 2,  7],\n",
       "       [ 3,  8],\n",
       "       [ 4,  9],\n",
       "       [ 5, 10]])"
      ]
     },
     "execution_count": 14,
     "metadata": {},
     "output_type": "execute_result"
    }
   ],
   "source": [
    "# transpose an array\n",
    "arr.reshape(2, 5).T"
   ]
  },
  {
   "cell_type": "code",
   "execution_count": 2,
   "metadata": {},
   "outputs": [
    {
     "name": "stdout",
     "output_type": "stream",
     "text": [
      "['9', 'MONTENEGRO, JULIETA.', 'julietamontenegro2021@gmail.com', '0', '2', '0', '2', '1,33', '3', '3', '3', '3,00', '1,67', '', '', '', '', '', '', '', '', '']\n"
     ]
    }
   ],
   "source": [
    "import csv\n",
    "with open('dataset.csv', newline='') as f:\n",
    "    reader = csv.reader(f)\n",
    "    data = list(reader)\n",
    "print(data[11])"
   ]
  },
  {
   "cell_type": "code",
   "execution_count": 3,
   "metadata": {},
   "outputs": [
    {
     "data": {
      "text/plain": [
       "array([['ID', 'Nombre', 'Mail', ..., '', '', ''],\n",
       "       ['', '', '', ..., '', '', 'GRADO COMPETENCIA 3'],\n",
       "       ['', '', '', ..., 'ind3', 'GRADO tpf (promedio)', ''],\n",
       "       ...,\n",
       "       ['202', 'PONCE, IVAN.', '', ..., '', '', ''],\n",
       "       ['203', 'RODRIGUEZ, LUCIA BELEN.', '', ..., '1', '1,00', '-0,33'],\n",
       "       ['204', 'ROJAS, MICAELA.', '', ..., '1', '1,00', '0,00']],\n",
       "      dtype='<U39')"
      ]
     },
     "execution_count": 3,
     "metadata": {},
     "output_type": "execute_result"
    }
   ],
   "source": [
    "arr = np.array(data)\n",
    "arr"
   ]
  },
  {
   "cell_type": "code",
   "execution_count": 4,
   "metadata": {},
   "outputs": [
    {
     "data": {
      "text/plain": [
       "(202, 22)"
      ]
     },
     "execution_count": 4,
     "metadata": {},
     "output_type": "execute_result"
    }
   ],
   "source": [
    "arr.shape"
   ]
  },
  {
   "cell_type": "code",
   "execution_count": 5,
   "metadata": {},
   "outputs": [
    {
     "data": {
      "text/plain": [
       "array(['9', 'MONTENEGRO, JULIETA.', 'julietamontenegro2021@gmail.com',\n",
       "       '0', '2', '0', '2', '1,33', '3', '3', '3', '3,00', '1,67', '', '',\n",
       "       '', '', '', '', '', '', ''], dtype='<U39')"
      ]
     },
     "execution_count": 5,
     "metadata": {},
     "output_type": "execute_result"
    }
   ],
   "source": [
    "arr[11,:]"
   ]
  },
  {
   "cell_type": "code",
   "execution_count": 7,
   "metadata": {},
   "outputs": [
    {
     "data": {
      "text/html": [
       "<div>\n",
       "<style scoped>\n",
       "    .dataframe tbody tr th:only-of-type {\n",
       "        vertical-align: middle;\n",
       "    }\n",
       "\n",
       "    .dataframe tbody tr th {\n",
       "        vertical-align: top;\n",
       "    }\n",
       "\n",
       "    .dataframe thead th {\n",
       "        text-align: right;\n",
       "    }\n",
       "</style>\n",
       "<table border=\"1\" class=\"dataframe\">\n",
       "  <thead>\n",
       "    <tr style=\"text-align: right;\">\n",
       "      <th></th>\n",
       "      <th>ID</th>\n",
       "      <th>Nombre</th>\n",
       "      <th>Mail</th>\n",
       "      <th>SIMULADOR</th>\n",
       "      <th>Competencia resolucion de problemas</th>\n",
       "      <th>Unnamed: 5</th>\n",
       "      <th>Unnamed: 6</th>\n",
       "      <th>Unnamed: 7</th>\n",
       "      <th>Unnamed: 8</th>\n",
       "      <th>Unnamed: 9</th>\n",
       "      <th>...</th>\n",
       "      <th>Unnamed: 12</th>\n",
       "      <th>Competencia traspolacion de habilidades</th>\n",
       "      <th>Unnamed: 14</th>\n",
       "      <th>Unnamed: 15</th>\n",
       "      <th>Unnamed: 16</th>\n",
       "      <th>Unnamed: 17</th>\n",
       "      <th>Unnamed: 18</th>\n",
       "      <th>Unnamed: 19</th>\n",
       "      <th>Unnamed: 20</th>\n",
       "      <th>Unnamed: 21</th>\n",
       "    </tr>\n",
       "  </thead>\n",
       "  <tbody>\n",
       "    <tr>\n",
       "      <th>0</th>\n",
       "      <td>NaN</td>\n",
       "      <td>NaN</td>\n",
       "      <td>NaN</td>\n",
       "      <td>NaN</td>\n",
       "      <td>Diagnostico</td>\n",
       "      <td>NaN</td>\n",
       "      <td>NaN</td>\n",
       "      <td>NaN</td>\n",
       "      <td>trabajo practico final</td>\n",
       "      <td>NaN</td>\n",
       "      <td>...</td>\n",
       "      <td>GRADO COMPETENCIA 1</td>\n",
       "      <td>Diagnostico</td>\n",
       "      <td>NaN</td>\n",
       "      <td>NaN</td>\n",
       "      <td>NaN</td>\n",
       "      <td>trabajo practico final</td>\n",
       "      <td>NaN</td>\n",
       "      <td>NaN</td>\n",
       "      <td>NaN</td>\n",
       "      <td>GRADO COMPETENCIA 3</td>\n",
       "    </tr>\n",
       "    <tr>\n",
       "      <th>1</th>\n",
       "      <td>NaN</td>\n",
       "      <td>NaN</td>\n",
       "      <td>NaN</td>\n",
       "      <td>NaN</td>\n",
       "      <td>ind1</td>\n",
       "      <td>ind2</td>\n",
       "      <td>ind3</td>\n",
       "      <td>GRADO diagnostico (promedio)</td>\n",
       "      <td>ind1</td>\n",
       "      <td>ind2</td>\n",
       "      <td>...</td>\n",
       "      <td>NaN</td>\n",
       "      <td>ind1</td>\n",
       "      <td>ind2</td>\n",
       "      <td>ind3</td>\n",
       "      <td>GRADO diagnostico (promedio)</td>\n",
       "      <td>ind1</td>\n",
       "      <td>ind2</td>\n",
       "      <td>ind3</td>\n",
       "      <td>GRADO tpf (promedio)</td>\n",
       "      <td>NaN</td>\n",
       "    </tr>\n",
       "    <tr>\n",
       "      <th>2</th>\n",
       "      <td>1.0</td>\n",
       "      <td>NaN</td>\n",
       "      <td>altamiranoevelyn22@gmail.com</td>\n",
       "      <td>0.0</td>\n",
       "      <td>2</td>\n",
       "      <td>0</td>\n",
       "      <td>1</td>\n",
       "      <td>1,00</td>\n",
       "      <td>2</td>\n",
       "      <td>3</td>\n",
       "      <td>...</td>\n",
       "      <td>1,67</td>\n",
       "      <td>NaN</td>\n",
       "      <td>NaN</td>\n",
       "      <td>NaN</td>\n",
       "      <td>NaN</td>\n",
       "      <td>NaN</td>\n",
       "      <td>NaN</td>\n",
       "      <td>NaN</td>\n",
       "      <td>NaN</td>\n",
       "      <td>NaN</td>\n",
       "    </tr>\n",
       "    <tr>\n",
       "      <th>3</th>\n",
       "      <td>2.0</td>\n",
       "      <td>NaN</td>\n",
       "      <td>ana_chejo@hotmail.com</td>\n",
       "      <td>0.0</td>\n",
       "      <td>4</td>\n",
       "      <td>0</td>\n",
       "      <td>4</td>\n",
       "      <td>2,67</td>\n",
       "      <td>3</td>\n",
       "      <td>2</td>\n",
       "      <td>...</td>\n",
       "      <td>-0,33</td>\n",
       "      <td>NaN</td>\n",
       "      <td>NaN</td>\n",
       "      <td>NaN</td>\n",
       "      <td>NaN</td>\n",
       "      <td>NaN</td>\n",
       "      <td>NaN</td>\n",
       "      <td>NaN</td>\n",
       "      <td>NaN</td>\n",
       "      <td>NaN</td>\n",
       "    </tr>\n",
       "    <tr>\n",
       "      <th>4</th>\n",
       "      <td>3.0</td>\n",
       "      <td>NaN</td>\n",
       "      <td>barbara_arroyo@outlook.com</td>\n",
       "      <td>0.0</td>\n",
       "      <td>3</td>\n",
       "      <td>0</td>\n",
       "      <td>2</td>\n",
       "      <td>1,67</td>\n",
       "      <td>4</td>\n",
       "      <td>4</td>\n",
       "      <td>...</td>\n",
       "      <td>2,33</td>\n",
       "      <td>NaN</td>\n",
       "      <td>NaN</td>\n",
       "      <td>NaN</td>\n",
       "      <td>NaN</td>\n",
       "      <td>NaN</td>\n",
       "      <td>NaN</td>\n",
       "      <td>NaN</td>\n",
       "      <td>NaN</td>\n",
       "      <td>NaN</td>\n",
       "    </tr>\n",
       "    <tr>\n",
       "      <th>...</th>\n",
       "      <td>...</td>\n",
       "      <td>...</td>\n",
       "      <td>...</td>\n",
       "      <td>...</td>\n",
       "      <td>...</td>\n",
       "      <td>...</td>\n",
       "      <td>...</td>\n",
       "      <td>...</td>\n",
       "      <td>...</td>\n",
       "      <td>...</td>\n",
       "      <td>...</td>\n",
       "      <td>...</td>\n",
       "      <td>...</td>\n",
       "      <td>...</td>\n",
       "      <td>...</td>\n",
       "      <td>...</td>\n",
       "      <td>...</td>\n",
       "      <td>...</td>\n",
       "      <td>...</td>\n",
       "      <td>...</td>\n",
       "      <td>...</td>\n",
       "    </tr>\n",
       "    <tr>\n",
       "      <th>196</th>\n",
       "      <td>200.0</td>\n",
       "      <td>PALACIOS SINCHE, ANDREA JAZMIN.</td>\n",
       "      <td>NaN</td>\n",
       "      <td>2.0</td>\n",
       "      <td>NaN</td>\n",
       "      <td>NaN</td>\n",
       "      <td>NaN</td>\n",
       "      <td>NaN</td>\n",
       "      <td>NaN</td>\n",
       "      <td>NaN</td>\n",
       "      <td>...</td>\n",
       "      <td>NaN</td>\n",
       "      <td>1</td>\n",
       "      <td>3</td>\n",
       "      <td>2</td>\n",
       "      <td>2,00</td>\n",
       "      <td>1</td>\n",
       "      <td>3</td>\n",
       "      <td>2</td>\n",
       "      <td>2,00</td>\n",
       "      <td>0,00</td>\n",
       "    </tr>\n",
       "    <tr>\n",
       "      <th>197</th>\n",
       "      <td>201.0</td>\n",
       "      <td>PARRA, AGUSTINA SOLEDAD.</td>\n",
       "      <td>NaN</td>\n",
       "      <td>2.0</td>\n",
       "      <td>NaN</td>\n",
       "      <td>NaN</td>\n",
       "      <td>NaN</td>\n",
       "      <td>NaN</td>\n",
       "      <td>NaN</td>\n",
       "      <td>NaN</td>\n",
       "      <td>...</td>\n",
       "      <td>NaN</td>\n",
       "      <td>NaN</td>\n",
       "      <td>NaN</td>\n",
       "      <td>NaN</td>\n",
       "      <td>NaN</td>\n",
       "      <td>NaN</td>\n",
       "      <td>NaN</td>\n",
       "      <td>NaN</td>\n",
       "      <td>NaN</td>\n",
       "      <td>NaN</td>\n",
       "    </tr>\n",
       "    <tr>\n",
       "      <th>198</th>\n",
       "      <td>202.0</td>\n",
       "      <td>PONCE, IVAN.</td>\n",
       "      <td>NaN</td>\n",
       "      <td>2.0</td>\n",
       "      <td>NaN</td>\n",
       "      <td>NaN</td>\n",
       "      <td>NaN</td>\n",
       "      <td>NaN</td>\n",
       "      <td>NaN</td>\n",
       "      <td>NaN</td>\n",
       "      <td>...</td>\n",
       "      <td>NaN</td>\n",
       "      <td>NaN</td>\n",
       "      <td>NaN</td>\n",
       "      <td>NaN</td>\n",
       "      <td>NaN</td>\n",
       "      <td>NaN</td>\n",
       "      <td>NaN</td>\n",
       "      <td>NaN</td>\n",
       "      <td>NaN</td>\n",
       "      <td>NaN</td>\n",
       "    </tr>\n",
       "    <tr>\n",
       "      <th>199</th>\n",
       "      <td>203.0</td>\n",
       "      <td>RODRIGUEZ, LUCIA BELEN.</td>\n",
       "      <td>NaN</td>\n",
       "      <td>2.0</td>\n",
       "      <td>NaN</td>\n",
       "      <td>NaN</td>\n",
       "      <td>NaN</td>\n",
       "      <td>NaN</td>\n",
       "      <td>NaN</td>\n",
       "      <td>NaN</td>\n",
       "      <td>...</td>\n",
       "      <td>NaN</td>\n",
       "      <td>1</td>\n",
       "      <td>2</td>\n",
       "      <td>1</td>\n",
       "      <td>1,33</td>\n",
       "      <td>1</td>\n",
       "      <td>1</td>\n",
       "      <td>1</td>\n",
       "      <td>1,00</td>\n",
       "      <td>-0,33</td>\n",
       "    </tr>\n",
       "    <tr>\n",
       "      <th>200</th>\n",
       "      <td>204.0</td>\n",
       "      <td>ROJAS, MICAELA.</td>\n",
       "      <td>NaN</td>\n",
       "      <td>2.0</td>\n",
       "      <td>NaN</td>\n",
       "      <td>NaN</td>\n",
       "      <td>NaN</td>\n",
       "      <td>NaN</td>\n",
       "      <td>NaN</td>\n",
       "      <td>NaN</td>\n",
       "      <td>...</td>\n",
       "      <td>NaN</td>\n",
       "      <td>1</td>\n",
       "      <td>1</td>\n",
       "      <td>1</td>\n",
       "      <td>1,00</td>\n",
       "      <td>1</td>\n",
       "      <td>1</td>\n",
       "      <td>1</td>\n",
       "      <td>1,00</td>\n",
       "      <td>0,00</td>\n",
       "    </tr>\n",
       "  </tbody>\n",
       "</table>\n",
       "<p>201 rows × 22 columns</p>\n",
       "</div>"
      ],
      "text/plain": [
       "        ID                           Nombre                          Mail  \\\n",
       "0      NaN                              NaN                           NaN   \n",
       "1      NaN                              NaN                           NaN   \n",
       "2      1.0                              NaN  altamiranoevelyn22@gmail.com   \n",
       "3      2.0                              NaN         ana_chejo@hotmail.com   \n",
       "4      3.0                              NaN    barbara_arroyo@outlook.com   \n",
       "..     ...                              ...                           ...   \n",
       "196  200.0  PALACIOS SINCHE, ANDREA JAZMIN.                           NaN   \n",
       "197  201.0         PARRA, AGUSTINA SOLEDAD.                           NaN   \n",
       "198  202.0                     PONCE, IVAN.                           NaN   \n",
       "199  203.0          RODRIGUEZ, LUCIA BELEN.                           NaN   \n",
       "200  204.0                  ROJAS, MICAELA.                           NaN   \n",
       "\n",
       "     SIMULADOR Competencia resolucion de problemas Unnamed: 5 Unnamed: 6  \\\n",
       "0          NaN                         Diagnostico        NaN        NaN   \n",
       "1          NaN                                ind1       ind2       ind3   \n",
       "2          0.0                                   2          0          1   \n",
       "3          0.0                                   4          0          4   \n",
       "4          0.0                                   3          0          2   \n",
       "..         ...                                 ...        ...        ...   \n",
       "196        2.0                                 NaN        NaN        NaN   \n",
       "197        2.0                                 NaN        NaN        NaN   \n",
       "198        2.0                                 NaN        NaN        NaN   \n",
       "199        2.0                                 NaN        NaN        NaN   \n",
       "200        2.0                                 NaN        NaN        NaN   \n",
       "\n",
       "                       Unnamed: 7              Unnamed: 8 Unnamed: 9  ...  \\\n",
       "0                             NaN  trabajo practico final        NaN  ...   \n",
       "1    GRADO diagnostico (promedio)                    ind1       ind2  ...   \n",
       "2                            1,00                       2          3  ...   \n",
       "3                            2,67                       3          2  ...   \n",
       "4                            1,67                       4          4  ...   \n",
       "..                            ...                     ...        ...  ...   \n",
       "196                           NaN                     NaN        NaN  ...   \n",
       "197                           NaN                     NaN        NaN  ...   \n",
       "198                           NaN                     NaN        NaN  ...   \n",
       "199                           NaN                     NaN        NaN  ...   \n",
       "200                           NaN                     NaN        NaN  ...   \n",
       "\n",
       "             Unnamed: 12 Competencia traspolacion de habilidades Unnamed: 14  \\\n",
       "0    GRADO COMPETENCIA 1                             Diagnostico         NaN   \n",
       "1                    NaN                                    ind1        ind2   \n",
       "2                   1,67                                     NaN         NaN   \n",
       "3                  -0,33                                     NaN         NaN   \n",
       "4                   2,33                                     NaN         NaN   \n",
       "..                   ...                                     ...         ...   \n",
       "196                  NaN                                       1           3   \n",
       "197                  NaN                                     NaN         NaN   \n",
       "198                  NaN                                     NaN         NaN   \n",
       "199                  NaN                                       1           2   \n",
       "200                  NaN                                       1           1   \n",
       "\n",
       "    Unnamed: 15                   Unnamed: 16             Unnamed: 17  \\\n",
       "0           NaN                           NaN  trabajo practico final   \n",
       "1          ind3  GRADO diagnostico (promedio)                    ind1   \n",
       "2           NaN                           NaN                     NaN   \n",
       "3           NaN                           NaN                     NaN   \n",
       "4           NaN                           NaN                     NaN   \n",
       "..          ...                           ...                     ...   \n",
       "196           2                          2,00                       1   \n",
       "197         NaN                           NaN                     NaN   \n",
       "198         NaN                           NaN                     NaN   \n",
       "199           1                          1,33                       1   \n",
       "200           1                          1,00                       1   \n",
       "\n",
       "    Unnamed: 18 Unnamed: 19           Unnamed: 20          Unnamed: 21  \n",
       "0           NaN         NaN                   NaN  GRADO COMPETENCIA 3  \n",
       "1          ind2        ind3  GRADO tpf (promedio)                  NaN  \n",
       "2           NaN         NaN                   NaN                  NaN  \n",
       "3           NaN         NaN                   NaN                  NaN  \n",
       "4           NaN         NaN                   NaN                  NaN  \n",
       "..          ...         ...                   ...                  ...  \n",
       "196           3           2                  2,00                 0,00  \n",
       "197         NaN         NaN                   NaN                  NaN  \n",
       "198         NaN         NaN                   NaN                  NaN  \n",
       "199           1           1                  1,00                -0,33  \n",
       "200           1           1                  1,00                 0,00  \n",
       "\n",
       "[201 rows x 22 columns]"
      ]
     },
     "execution_count": 7,
     "metadata": {},
     "output_type": "execute_result"
    }
   ],
   "source": [
    "df = pd.read_csv('dataset.csv')\n",
    "df"
   ]
  },
  {
   "cell_type": "code",
   "execution_count": null,
   "metadata": {},
   "outputs": [],
   "source": []
  }
 ],
 "metadata": {
  "kernelspec": {
   "display_name": "Python 3 (ipykernel)",
   "language": "python",
   "name": "python3"
  },
  "language_info": {
   "codemirror_mode": {
    "name": "ipython",
    "version": 3
   },
   "file_extension": ".py",
   "mimetype": "text/x-python",
   "name": "python",
   "nbconvert_exporter": "python",
   "pygments_lexer": "ipython3",
   "version": "3.10.12"
  }
 },
 "nbformat": 4,
 "nbformat_minor": 2
}
