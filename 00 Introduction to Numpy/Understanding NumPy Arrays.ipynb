{
 "cells": [
  {
   "cell_type": "markdown",
   "metadata": {},
   "source": [
    "`Numpy`\n",
    " >Numpy means Numerical Python. It is a Python library used for working with arrays. It also has functions for working in domain of linear algebra, fourier transform, and matrices. Numpy was created in 2005 by Travis Oliphant. It is an open source project and you can use it freely. Numpy stands for Numerical Python.\n",
    "\n",
    "* Contains only single data type \n"
   ]
  },
  {
   "cell_type": "code",
   "execution_count": 4,
   "metadata": {},
   "outputs": [
    {
     "name": "stdout",
     "output_type": "stream",
     "text": [
      "[0 1 2 3 4 5 6 7 8 9]\n",
      "[[0 1 2 3 4]\n",
      " [5 6 7 8 9]]\n",
      "[[[ 0  1  2]\n",
      "  [ 3  4  5]\n",
      "  [ 6  7  8]]\n",
      "\n",
      " [[ 9 10 11]\n",
      "  [12 13 14]\n",
      "  [15 16 17]]\n",
      "\n",
      " [[18 19 20]\n",
      "  [21 22 23]\n",
      "  [24 25 26]]]\n"
     ]
    }
   ],
   "source": [
    "# import numpy \n",
    "import numpy as np\n",
    "\n",
    "# create a 1D array using arange function\n",
    "array_1d = np.arange(10)\n",
    "print(array_1d)\n",
    "\n",
    "# create a 2D array using arange function\n",
    "array_2d = np.arange(10).reshape(2,5)\n",
    "print(array_2d)\n",
    "\n",
    "# create a 3D array using arange function\n",
    "array_3d = np.arange(27).reshape(3,3,3)\n",
    "print(array_3d)\n",
    "\n",
    "# create a 4D array using arange function\n",
    "## ??"
   ]
  },
  {
   "cell_type": "code",
   "execution_count": 5,
   "metadata": {},
   "outputs": [
    {
     "name": "stdout",
     "output_type": "stream",
     "text": [
      "[[0. 0. 0.]\n",
      " [0. 0. 0.]\n",
      " [0. 0. 0.]]\n",
      "[[1. 1. 1.]\n",
      " [1. 1. 1.]\n",
      " [1. 1. 1.]]\n",
      "[[0.56246833 0.39122444 0.33879381]\n",
      " [0.39554491 0.45560085 0.35387326]\n",
      " [0.65248068 0.96117123 0.95078417]]\n",
      "[ 0.          0.52631579  1.05263158  1.57894737  2.10526316  2.63157895\n",
      "  3.15789474  3.68421053  4.21052632  4.73684211  5.26315789  5.78947368\n",
      "  6.31578947  6.84210526  7.36842105  7.89473684  8.42105263  8.94736842\n",
      "  9.47368421 10.        ]\n",
      "[0 2 4 6 8]\n"
     ]
    }
   ],
   "source": [
    "# create a arrays using zeros\n",
    "array_zeros = np.zeros((3,3))\n",
    "\n",
    "# create a arrays using random numbers\n",
    "rng = np.random.default_rng()\n",
    "array_random = rng.random((3,3))\n",
    "print(array_random)\n",
    "\n",
    "# create a arrays using arange\n",
    "array_arange = np.arange(0,10,2)\n",
    "print(array_arange)\n"
   ]
  },
  {
   "cell_type": "code",
   "execution_count": 6,
   "metadata": {},
   "outputs": [
    {
     "name": "stdout",
     "output_type": "stream",
     "text": [
      "[1 2 3 4 5]\n",
      "[[1 2 3]\n",
      " [4 5 6]\n",
      " [7 8 9]]\n",
      "[[[ 1  2  3]\n",
      "  [ 4  5  6]\n",
      "  [ 7  8  9]]\n",
      "\n",
      " [[11 12 13]\n",
      "  [14 15 16]\n",
      "  [17 18 19]]]\n"
     ]
    }
   ],
   "source": [
    "# Dimension of an array \n",
    "# Vector: 1D array \n",
    "vector = np.array([1,2,3,4,5])\n",
    "print(vector)\n",
    "\n",
    "# Matrix: 2D array\n",
    "matrix = np.array([[1,2,3],[4,5,6],[7,8,9]])\n",
    "print(matrix)\n",
    "\n",
    "# Tensor: 3D array\n",
    "tensor = np.array([[[1,2,3],[4,5,6],[7,8,9]],[[11,12,13],[14,15,16],[17,18,19]]])\n",
    "print(tensor)\n"
   ]
  },
  {
   "cell_type": "code",
   "execution_count": 11,
   "metadata": {},
   "outputs": [
    {
     "name": "stdout",
     "output_type": "stream",
     "text": [
      "[1 2 3 4 5]\n",
      "int64\n",
      "[1. 2. 3. 4. 5.]\n",
      "float64\n",
      "[ True False  True False  True]\n",
      "bool\n"
     ]
    }
   ],
   "source": [
    "# numpy data types are\n",
    "# np.int64, np.float64, np.complex128, np.bool, np.object, np.string_, np.unicode_\n",
    "# np.int8, np.uint8, np.int16, np.uint16, np.int32, np.uint32, np.int64, np.uint64\n",
    "# np.float16, np.float32, np.float64, np.float128, np.complex64, np.complex128, np.complex256\n",
    "# np.bool8, np.bool_\n",
    "\n",
    "# create a arrays using data types\n",
    "array_int = np.array([1,2,3,4,5], dtype=np.int64)\n",
    "print(array_int)\n",
    "print(array_int.dtype)\n",
    "\n",
    "array_float = np.array([1.0,2.0,3.0,4.0,5.0], dtype=np.float64)\n",
    "print(array_float)\n",
    "print(array_float.dtype)\n",
    "\n",
    "# using dtype as a argument\n",
    "array_int = np.array([1,0,3,0,5], dtype=np.bool8)\n",
    "print(array_int)\n",
    "print(array_int.dtype)\n",
    "\n",
    "#type coercion \n",
    "\n"
   ]
  },
  {
   "cell_type": "code",
   "execution_count": 12,
   "metadata": {},
   "outputs": [
    {
     "name": "stdout",
     "output_type": "stream",
     "text": [
      "int64\n",
      "int8\n",
      "bool\n"
     ]
    }
   ],
   "source": [
    "# changing data types from one to another\n",
    "arr1 = np.array([1,2,3,4,5], dtype=np.int64)\n",
    "print(arr1.dtype)\n",
    "\n",
    "arr2 = arr1.astype(np.int8)\n",
    "print(arr2.dtype)\n",
    "\n",
    "# changing from integer to bool\n",
    "arr3 = arr1.astype(np.bool8)\n",
    "print(arr3.dtype)"
   ]
  },
  {
   "cell_type": "code",
   "execution_count": null,
   "metadata": {},
   "outputs": [],
   "source": []
  }
 ],
 "metadata": {
  "kernelspec": {
   "display_name": "Python 3",
   "language": "python",
   "name": "python3"
  },
  "language_info": {
   "codemirror_mode": {
    "name": "ipython",
    "version": 3
   },
   "file_extension": ".py",
   "mimetype": "text/x-python",
   "name": "python",
   "nbconvert_exporter": "python",
   "pygments_lexer": "ipython3",
   "version": "3.10.12"
  },
  "orig_nbformat": 4
 },
 "nbformat": 4,
 "nbformat_minor": 2
}
