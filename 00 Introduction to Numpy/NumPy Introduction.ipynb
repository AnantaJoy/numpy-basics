{
 "cells": [
  {
   "cell_type": "markdown",
   "metadata": {},
   "source": [
    "## Create a virtual environment and Install Libraries"
   ]
  },
  {
   "cell_type": "code",
   "execution_count": 1,
   "metadata": {
    "ExecuteTime": {
     "end_time": "2023-08-14T05:16:43.969273872Z",
     "start_time": "2023-08-14T05:16:43.807541238Z"
    },
    "execution": {
     "iopub.execute_input": "2021-08-30T11:27:45.984Z",
     "iopub.status.busy": "2021-08-30T11:27:45.974Z",
     "iopub.status.idle": "2021-08-30T11:27:46.001Z",
     "shell.execute_reply": "2021-08-30T11:27:45.907Z"
    },
    "pycharm": {
     "is_executing": true
    }
   },
   "outputs": [],
   "source": [
    "# Create a new virtual environment for the given directory.\n",
    "# python -m venv ./(directory name)\n",
    "# Install numpy packages\n",
    "# pip install numpy"
   ]
  },
  {
   "cell_type": "markdown",
   "metadata": {},
   "source": [
    "## Importing Libraries"
   ]
  },
  {
   "cell_type": "code",
   "execution_count": 2,
   "metadata": {
    "ExecuteTime": {
     "end_time": "2023-08-14T05:16:44.744234825Z",
     "start_time": "2023-08-14T05:16:43.824599791Z"
    },
    "execution": {
     "iopub.execute_input": "2021-08-30T11:27:48.769Z",
     "iopub.status.busy": "2021-08-30T11:27:48.743Z",
     "iopub.status.idle": "2021-08-30T11:27:48.932Z",
     "shell.execute_reply": "2021-08-30T11:27:48.919Z"
    },
    "pycharm": {
     "is_executing": true
    }
   },
   "outputs": [],
   "source": [
    "# import numpy library as np(alias)\n",
    "import numpy as np\n"
   ]
  },
  {
   "cell_type": "markdown",
   "metadata": {},
   "source": [
    "### Creating a array"
   ]
  },
  {
   "cell_type": "code",
   "execution_count": 3,
   "metadata": {
    "ExecuteTime": {
     "end_time": "2023-08-14T05:16:44.747161849Z",
     "start_time": "2023-08-14T05:16:44.227509724Z"
    },
    "execution": {
     "iopub.execute_input": "2021-08-30T11:27:53.755Z",
     "iopub.status.busy": "2021-08-30T11:27:53.737Z",
     "iopub.status.idle": "2021-08-30T11:27:53.790Z",
     "shell.execute_reply": "2021-08-30T11:27:53.809Z"
    }
   },
   "outputs": [
    {
     "data": {
      "text/plain": [
       "numpy.ndarray"
      ]
     },
     "execution_count": 3,
     "metadata": {},
     "output_type": "execute_result"
    }
   ],
   "source": [
    "# create a new 1D array \n",
    "newarray = np.array([1,2,3,4,5,6,7,8])\n",
    "\n",
    "# check if the type of the array\n",
    "type(newarray)"
   ]
  },
  {
   "cell_type": "code",
   "execution_count": 5,
   "metadata": {
    "ExecuteTime": {
     "end_time": "2023-08-14T05:16:44.752025021Z",
     "start_time": "2023-08-14T05:16:44.228578337Z"
    },
    "scrolled": true
   },
   "outputs": [
    {
     "data": {
      "text/plain": [
       "(8,)"
      ]
     },
     "execution_count": 5,
     "metadata": {},
     "output_type": "execute_result"
    }
   ],
   "source": [
    "# shape of the array\n",
    "np.shape(newarray)"
   ]
  },
  {
   "cell_type": "code",
   "execution_count": 4,
   "metadata": {
    "ExecuteTime": {
     "end_time": "2023-08-14T05:16:44.830385818Z",
     "start_time": "2023-08-14T05:16:44.229783354Z"
    },
    "scrolled": true
   },
   "outputs": [
    {
     "data": {
      "text/plain": [
       "array([ 6,  7,  8,  9, 10, 11, 12, 13])"
      ]
     },
     "execution_count": 4,
     "metadata": {},
     "output_type": "execute_result"
    }
   ],
   "source": [
    "newarray + 5"
   ]
  },
  {
   "cell_type": "code",
   "execution_count": 21,
   "metadata": {},
   "outputs": [
    {
     "data": {
      "text/plain": [
       "array([0., 0., 0., 0., 0.])"
      ]
     },
     "execution_count": 21,
     "metadata": {},
     "output_type": "execute_result"
    }
   ],
   "source": [
    "# create a zero array\n",
    "np.zeros(5)\n"
   ]
  },
  {
   "cell_type": "code",
   "execution_count": 22,
   "metadata": {},
   "outputs": [
    {
     "data": {
      "text/plain": [
       "array([[1., 1., 1., 1., 1.],\n",
       "       [1., 1., 1., 1., 1.],\n",
       "       [1., 1., 1., 1., 1.],\n",
       "       [1., 1., 1., 1., 1.],\n",
       "       [1., 1., 1., 1., 1.]])"
      ]
     },
     "execution_count": 22,
     "metadata": {},
     "output_type": "execute_result"
    }
   ],
   "source": [
    "# create a 2D array with ones\n",
    "np.ones((5,5))"
   ]
  },
  {
   "cell_type": "code",
   "execution_count": 16,
   "metadata": {},
   "outputs": [],
   "source": [
    "# create a 2D array\n",
    "user_age = np.array([[21,23,29,65,43,76],[65,54,34,85,51,65]])"
   ]
  },
  {
   "cell_type": "code",
   "execution_count": 17,
   "metadata": {},
   "outputs": [
    {
     "data": {
      "text/plain": [
       "(2, 6)"
      ]
     },
     "execution_count": 17,
     "metadata": {},
     "output_type": "execute_result"
    }
   ],
   "source": [
    "user_age.shape"
   ]
  },
  {
   "cell_type": "code",
   "execution_count": 20,
   "metadata": {},
   "outputs": [
    {
     "data": {
      "text/plain": [
       "2"
      ]
     },
     "execution_count": 20,
     "metadata": {},
     "output_type": "execute_result"
    }
   ],
   "source": [
    "user_age.ndim"
   ]
  },
  {
   "cell_type": "code",
   "execution_count": 32,
   "metadata": {},
   "outputs": [
    {
     "data": {
      "text/plain": [
       "array([[1., 0., 0., 0., 0.],\n",
       "       [0., 1., 0., 0., 0.],\n",
       "       [0., 0., 1., 0., 0.],\n",
       "       [0., 0., 0., 1., 0.],\n",
       "       [0., 0., 0., 0., 1.]])"
      ]
     },
     "execution_count": 32,
     "metadata": {},
     "output_type": "execute_result"
    }
   ],
   "source": [
    "# identity matrix\n",
    "np.eye(5)"
   ]
  },
  {
   "cell_type": "code",
   "execution_count": 34,
   "metadata": {
    "scrolled": true
   },
   "outputs": [
    {
     "data": {
      "text/plain": [
       "array([ 0.        ,  0.20408163,  0.40816327,  0.6122449 ,  0.81632653,\n",
       "        1.02040816,  1.2244898 ,  1.42857143,  1.63265306,  1.83673469,\n",
       "        2.04081633,  2.24489796,  2.44897959,  2.65306122,  2.85714286,\n",
       "        3.06122449,  3.26530612,  3.46938776,  3.67346939,  3.87755102,\n",
       "        4.08163265,  4.28571429,  4.48979592,  4.69387755,  4.89795918,\n",
       "        5.10204082,  5.30612245,  5.51020408,  5.71428571,  5.91836735,\n",
       "        6.12244898,  6.32653061,  6.53061224,  6.73469388,  6.93877551,\n",
       "        7.14285714,  7.34693878,  7.55102041,  7.75510204,  7.95918367,\n",
       "        8.16326531,  8.36734694,  8.57142857,  8.7755102 ,  8.97959184,\n",
       "        9.18367347,  9.3877551 ,  9.59183673,  9.79591837, 10.        ])"
      ]
     },
     "execution_count": 34,
     "metadata": {},
     "output_type": "execute_result"
    }
   ],
   "source": [
    "# create a 2D array with linespace \n",
    "np.linspace(0,10,50)"
   ]
  },
  {
   "cell_type": "code",
   "execution_count": 35,
   "metadata": {},
   "outputs": [
    {
     "data": {
      "text/plain": [
       "array([0, 2, 4, 6, 8])"
      ]
     },
     "execution_count": 35,
     "metadata": {},
     "output_type": "execute_result"
    }
   ],
   "source": [
    "# array with a range of numbers\n",
    "np.arange(0,10,2)"
   ]
  },
  {
   "cell_type": "markdown",
   "metadata": {},
   "source": [
    "### Reshape and Swap Axes an array"
   ]
  },
  {
   "cell_type": "code",
   "execution_count": 6,
   "metadata": {
    "ExecuteTime": {
     "end_time": "2023-08-14T05:16:44.833694768Z",
     "start_time": "2023-08-14T05:16:44.241116322Z"
    },
    "scrolled": true
   },
   "outputs": [
    {
     "data": {
      "text/plain": [
       "array([[[21, 23, 29],\n",
       "        [65, 43, 76]],\n",
       "\n",
       "       [[65, 54, 34],\n",
       "        [85, 51, 65]]])"
      ]
     },
     "execution_count": 6,
     "metadata": {},
     "output_type": "execute_result"
    }
   ],
   "source": [
    "user_age = np.array([[21,23,29,65,43,76],[65,54,34,85,51,65]])\n",
    "\n",
    "# reshape an array to a new shape\n",
    "user_age.reshape(2,2,3)"
   ]
  },
  {
   "cell_type": "code",
   "execution_count": 11,
   "metadata": {
    "ExecuteTime": {
     "end_time": "2023-08-14T05:16:44.835047226Z",
     "start_time": "2023-08-14T05:16:44.271045603Z"
    }
   },
   "outputs": [
    {
     "data": {
      "text/plain": [
       "array([[21, 23, 29, 65, 43, 76],\n",
       "       [65, 54, 34, 85, 51, 65]])"
      ]
     },
     "execution_count": 11,
     "metadata": {},
     "output_type": "execute_result"
    }
   ],
   "source": [
    "# now swap the axes\n",
    "np.swapaxes(user_age, 1,1)"
   ]
  },
  {
   "cell_type": "code",
   "execution_count": 9,
   "metadata": {
    "ExecuteTime": {
     "end_time": "2023-08-14T05:16:44.845861105Z",
     "start_time": "2023-08-14T05:16:44.325943644Z"
    }
   },
   "outputs": [
    {
     "data": {
      "text/plain": [
       "2"
      ]
     },
     "execution_count": 9,
     "metadata": {},
     "output_type": "execute_result"
    }
   ],
   "source": [
    "# dimensions in array\n",
    "user_age.ndim"
   ]
  },
  {
   "cell_type": "code",
   "execution_count": 10,
   "metadata": {
    "ExecuteTime": {
     "end_time": "2023-08-14T05:16:44.865427749Z",
     "start_time": "2023-08-14T05:16:44.326954870Z"
    }
   },
   "outputs": [
    {
     "data": {
      "text/plain": [
       "85"
      ]
     },
     "execution_count": 10,
     "metadata": {},
     "output_type": "execute_result"
    }
   ],
   "source": [
    "user_age.max()"
   ]
  },
  {
   "cell_type": "code",
   "execution_count": 11,
   "metadata": {
    "ExecuteTime": {
     "end_time": "2023-08-14T05:16:44.895204420Z",
     "start_time": "2023-08-14T05:16:44.380700403Z"
    }
   },
   "outputs": [
    {
     "data": {
      "text/plain": [
       "array([65, 54, 34, 85, 51, 76])"
      ]
     },
     "execution_count": 11,
     "metadata": {},
     "output_type": "execute_result"
    }
   ],
   "source": [
    "user_age.max(axis = 0)"
   ]
  },
  {
   "cell_type": "code",
   "execution_count": 12,
   "metadata": {
    "ExecuteTime": {
     "end_time": "2023-08-14T05:16:44.898228448Z",
     "start_time": "2023-08-14T05:16:44.422789522Z"
    }
   },
   "outputs": [
    {
     "data": {
      "text/plain": [
       "array([76, 85])"
      ]
     },
     "execution_count": 12,
     "metadata": {},
     "output_type": "execute_result"
    }
   ],
   "source": [
    "user_age.max(axis = 1)"
   ]
  },
  {
   "cell_type": "code",
   "execution_count": 13,
   "metadata": {
    "ExecuteTime": {
     "end_time": "2023-08-14T05:16:44.899697433Z",
     "start_time": "2023-08-14T05:16:44.466328233Z"
    }
   },
   "outputs": [
    {
     "data": {
      "text/plain": [
       "array([[7, 7, 7, 7, 7],\n",
       "       [7, 7, 7, 7, 7],\n",
       "       [7, 7, 7, 7, 7],\n",
       "       [7, 7, 7, 7, 7]])"
      ]
     },
     "execution_count": 13,
     "metadata": {},
     "output_type": "execute_result"
    }
   ],
   "source": [
    "np.full((4,5),7)"
   ]
  },
  {
   "cell_type": "code",
   "execution_count": 14,
   "metadata": {
    "ExecuteTime": {
     "end_time": "2023-08-14T05:17:37.256866538Z",
     "start_time": "2023-08-14T05:17:37.103547024Z"
    }
   },
   "outputs": [
    {
     "data": {
      "text/plain": [
       "array([[0.50622862, 0.3441543 , 0.66883591, 0.12764381, 0.73659417],\n",
       "       [0.92887989, 0.99006063, 0.61076379, 0.18380371, 0.1156028 ],\n",
       "       [0.65969102, 0.97324834, 0.06153331, 0.0982732 , 0.22236327],\n",
       "       [0.47350031, 0.91906162, 0.50635392, 0.09963988, 0.613858  ]])"
      ]
     },
     "execution_count": 14,
     "metadata": {},
     "output_type": "execute_result"
    }
   ],
   "source": [
    "np.random.random((4,5))"
   ]
  },
  {
   "cell_type": "code",
   "execution_count": 15,
   "metadata": {
    "ExecuteTime": {
     "end_time": "2023-08-14T05:17:41.889441679Z",
     "start_time": "2023-08-14T05:17:41.785219927Z"
    }
   },
   "outputs": [
    {
     "data": {
      "text/plain": [
       "array([[6, 1, 6, 3, 7],\n",
       "       [1, 4, 7, 8, 9],\n",
       "       [7, 6, 3, 2, 5],\n",
       "       [5, 8, 4, 5, 4]])"
      ]
     },
     "execution_count": 15,
     "metadata": {},
     "output_type": "execute_result"
    }
   ],
   "source": [
    "np.random.randint(1,10,(4,5))"
   ]
  },
  {
   "cell_type": "code",
   "execution_count": 16,
   "metadata": {
    "ExecuteTime": {
     "end_time": "2023-08-14T05:17:49.954658504Z",
     "start_time": "2023-08-14T05:17:49.849096341Z"
    }
   },
   "outputs": [
    {
     "data": {
      "text/plain": [
       "array([[-1.08048019, -0.92748128,  0.07952185,  0.65687523,  0.62208164],\n",
       "       [-0.93176734,  2.08524746,  0.6976115 , -0.54760342,  0.67600553],\n",
       "       [ 0.08019181, -0.5676982 ,  1.19321499, -2.27333731, -0.06478805],\n",
       "       [-0.40383676,  1.06719742,  0.66300422,  0.04393022, -0.04135769]])"
      ]
     },
     "execution_count": 16,
     "metadata": {},
     "output_type": "execute_result"
    }
   ],
   "source": [
    "np.random.normal(0,1,(4,5))"
   ]
  },
  {
   "cell_type": "code",
   "execution_count": 17,
   "metadata": {
    "ExecuteTime": {
     "end_time": "2023-08-14T05:18:04.014370608Z",
     "start_time": "2023-08-14T05:18:03.869085678Z"
    }
   },
   "outputs": [],
   "source": [
    "np.random.seed(0)"
   ]
  },
  {
   "cell_type": "code",
   "execution_count": 18,
   "metadata": {
    "ExecuteTime": {
     "end_time": "2023-08-14T05:18:10.854064609Z",
     "start_time": "2023-08-14T05:18:10.777706586Z"
    }
   },
   "outputs": [
    {
     "data": {
      "text/plain": [
       "array([[6, 1, 4, 4, 8],\n",
       "       [4, 6, 3, 5, 8],\n",
       "       [7, 9, 9, 2, 7],\n",
       "       [8, 8, 9, 2, 6]])"
      ]
     },
     "execution_count": 18,
     "metadata": {},
     "output_type": "execute_result"
    }
   ],
   "source": [
    "np.random.randint(1,10,(4,5))"
   ]
  },
  {
   "cell_type": "markdown",
   "metadata": {},
   "source": [
    "### Why we use Numpy?\n",
    "\n",
    "1. Numpy is faster than list\n",
    "2. Numpy is more efficient than list\n"
   ]
  },
  {
   "cell_type": "code",
   "execution_count": 13,
   "metadata": {},
   "outputs": [
    {
     "name": "stdout",
     "output_type": "stream",
     "text": [
      "29.9 ms ± 368 µs per loop (mean ± std. dev. of 7 runs, 10 loops each)\n"
     ]
    }
   ],
   "source": [
    "# runtime of a list comprehension\n",
    "%timeit [i**2 for i in range(100000)]\n"
   ]
  },
  {
   "cell_type": "code",
   "execution_count": 15,
   "metadata": {},
   "outputs": [
    {
     "name": "stdout",
     "output_type": "stream",
     "text": [
      "741 µs ± 40.1 µs per loop (mean ± std. dev. of 7 runs, 1,000 loops each)\n"
     ]
    }
   ],
   "source": [
    "# runtime of an array\n",
    "%timeit np.arange(100000)**2\n"
   ]
  },
  {
   "cell_type": "code",
   "execution_count": null,
   "metadata": {},
   "outputs": [],
   "source": []
  }
 ],
 "metadata": {
  "kernelspec": {
   "display_name": "Python 3 (ipykernel)",
   "language": "python",
   "name": "python3"
  },
  "language_info": {
   "codemirror_mode": {
    "name": "ipython",
    "version": 3
   },
   "file_extension": ".py",
   "mimetype": "text/x-python",
   "name": "python",
   "nbconvert_exporter": "python",
   "pygments_lexer": "ipython3",
   "version": "3.10.12"
  },
  "nteract": {
   "version": "0.28.0"
  }
 },
 "nbformat": 4,
 "nbformat_minor": 4
}
