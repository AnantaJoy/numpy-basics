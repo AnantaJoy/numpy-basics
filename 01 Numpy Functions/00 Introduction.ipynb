{
 "cells": [
  {
   "cell_type": "code",
   "execution_count": 2,
   "id": "initial_id",
   "metadata": {
    "collapsed": true,
    "ExecuteTime": {
     "end_time": "2023-08-14T05:28:47.804021391Z",
     "start_time": "2023-08-14T05:28:46.376672058Z"
    }
   },
   "outputs": [],
   "source": [
    "# import libraries\n",
    "import numpy as np\n",
    "import pandas as pd\n"
   ]
  },
  {
   "cell_type": "code",
   "execution_count": 4,
   "outputs": [
    {
     "name": "stdout",
     "output_type": "stream",
     "text": [
      "<class 'numpy.ndarray'>\n",
      "int64\n"
     ]
    }
   ],
   "source": [
    "# simple 1D array\n",
    "arr = np.array([1, 2, 3, 4, 5])\n",
    "print(type(arr))\n",
    "# datatype of array\n",
    "print(arr.dtype)"
   ],
   "metadata": {
    "collapsed": false,
    "ExecuteTime": {
     "end_time": "2023-08-14T05:29:17.863862366Z",
     "start_time": "2023-08-14T05:29:17.847074270Z"
    }
   },
   "id": "4897e27a0506509c"
  },
  {
   "cell_type": "code",
   "execution_count": 10,
   "outputs": [
    {
     "name": "stdout",
     "output_type": "stream",
     "text": [
      "<class 'numpy.ndarray'>\n",
      "float64\n",
      "1\n",
      "(5,)\n"
     ]
    }
   ],
   "source": [
    "# create a 1D array with float datatype\n",
    "arr = np.array([1, 2, 3, 4, 5], dtype='float')\n",
    "print(type(arr))\n",
    "print(arr.dtype)\n",
    "print(arr.ndim)\n",
    "print(arr.shape)"
   ],
   "metadata": {
    "collapsed": false,
    "ExecuteTime": {
     "end_time": "2023-08-14T05:31:29.934307708Z",
     "start_time": "2023-08-14T05:31:29.920939111Z"
    }
   },
   "id": "94eabd14e0395a11"
  },
  {
   "cell_type": "code",
   "execution_count": 11,
   "outputs": [
    {
     "name": "stdout",
     "output_type": "stream",
     "text": [
      "<class 'numpy.ndarray'>\n",
      "complex128\n",
      "5\n"
     ]
    }
   ],
   "source": [
    "# create a 1D array with complex datatype\n",
    "arr = np.array([1, 2, 3, 4, 5], dtype='complex')\n",
    "print(type(arr))\n",
    "print(arr.dtype)\n",
    "print(arr.size)"
   ],
   "metadata": {
    "collapsed": false,
    "ExecuteTime": {
     "end_time": "2023-08-14T05:32:17.491410771Z",
     "start_time": "2023-08-14T05:32:17.417161645Z"
    }
   },
   "id": "44c17a0392365b9c"
  },
  {
   "cell_type": "code",
   "execution_count": 9,
   "outputs": [
    {
     "data": {
      "text/plain": "4.0"
     },
     "execution_count": 9,
     "metadata": {},
     "output_type": "execute_result"
    }
   ],
   "source": [
    "# access the data from thr array\n",
    "arr[3]"
   ],
   "metadata": {
    "collapsed": false,
    "ExecuteTime": {
     "end_time": "2023-08-14T05:31:18.484955272Z",
     "start_time": "2023-08-14T05:31:18.422456430Z"
    }
   },
   "id": "2bc4f0f6fa943a71"
  },
  {
   "cell_type": "code",
   "execution_count": 12,
   "outputs": [
    {
     "data": {
      "text/plain": "array([3, 4, 5, 6, 7])"
     },
     "execution_count": 12,
     "metadata": {},
     "output_type": "execute_result"
    }
   ],
   "source": [
    "# array operations\n",
    "arr = np.array([1, 2, 3, 4, 5])\n",
    "arr + 2\n"
   ],
   "metadata": {
    "collapsed": false,
    "ExecuteTime": {
     "end_time": "2023-08-14T05:36:43.967376572Z",
     "start_time": "2023-08-14T05:36:43.883532406Z"
    }
   },
   "id": "4634bb6737547347"
  },
  {
   "cell_type": "code",
   "execution_count": 15,
   "outputs": [
    {
     "name": "stdout",
     "output_type": "stream",
     "text": [
      "[[1 2 3]\n",
      " [4 5 6]]\n",
      "2\n",
      "(2, 3)\n",
      "6\n",
      "5\n"
     ]
    }
   ],
   "source": [
    "# create a 2D array\n",
    "arr = np.array([[1, 2, 3], [4, 5, 6]])\n",
    "print(arr)\n",
    "print(arr.ndim)\n",
    "print(arr.shape)\n",
    "print(arr.size)\n",
    "print(arr[1][1])"
   ],
   "metadata": {
    "collapsed": false,
    "ExecuteTime": {
     "end_time": "2023-08-14T05:38:23.925807200Z",
     "start_time": "2023-08-14T05:38:23.909193374Z"
    }
   },
   "id": "b944525748582e6c"
  },
  {
   "cell_type": "code",
   "execution_count": 22,
   "outputs": [
    {
     "name": "stdout",
     "output_type": "stream",
     "text": [
      "[2 3 4 5]\n",
      "[5 6 7]\n",
      "[1 2 3 4]\n",
      "[5 6]\n",
      "[2 4]\n",
      "[7 6 5 4 3 2 1]\n"
     ]
    }
   ],
   "source": [
    "# slicing array elements\n",
    "arr = np.array([1, 2, 3, 4, 5, 6, 7])\n",
    "print(arr[1:5])\n",
    "print(arr[4:])\n",
    "print(arr[:4])\n",
    "print(arr[-3:-1])\n",
    "print(arr[1:5:2])\n",
    "print(arr[::-1])\n",
    "\n",
    "# arr[start:end:step]"
   ],
   "metadata": {
    "collapsed": false,
    "ExecuteTime": {
     "end_time": "2023-08-14T07:09:27.288949098Z",
     "start_time": "2023-08-14T07:09:27.210013825Z"
    }
   },
   "id": "775d114a036ac1e1"
  },
  {
   "cell_type": "code",
   "execution_count": 24,
   "outputs": [
    {
     "data": {
      "text/plain": "array([1.        , 1.41421356, 1.73205081, 2.        , 2.23606798])"
     },
     "execution_count": 24,
     "metadata": {},
     "output_type": "execute_result"
    }
   ],
   "source": [
    "# Universal functions(ufuncs)\n",
    "arr = np.array([1, 2, 3, 4, 5])\n",
    "np.sqrt(arr)\n"
   ],
   "metadata": {
    "collapsed": false,
    "ExecuteTime": {
     "end_time": "2023-08-14T07:11:27.813306084Z",
     "start_time": "2023-08-14T07:11:27.752175765Z"
    }
   },
   "id": "31ace6786e160723"
  },
  {
   "cell_type": "code",
   "execution_count": 25,
   "outputs": [
    {
     "data": {
      "text/plain": "array([ 0.84147098,  0.90929743,  0.14112001, -0.7568025 , -0.95892427])"
     },
     "execution_count": 25,
     "metadata": {},
     "output_type": "execute_result"
    }
   ],
   "source": [
    "# sin function\n",
    "np.sin(arr)"
   ],
   "metadata": {
    "collapsed": false,
    "ExecuteTime": {
     "end_time": "2023-08-14T07:11:28.444488961Z",
     "start_time": "2023-08-14T07:11:28.427638173Z"
    }
   },
   "id": "88baf8f137383ca4"
  },
  {
   "cell_type": "code",
   "execution_count": 26,
   "outputs": [
    {
     "data": {
      "text/plain": "array([0.        , 0.69314718, 1.09861229, 1.38629436, 1.60943791])"
     },
     "execution_count": 26,
     "metadata": {},
     "output_type": "execute_result"
    }
   ],
   "source": [
    "# log function\n",
    "np.log(arr)"
   ],
   "metadata": {
    "collapsed": false,
    "ExecuteTime": {
     "end_time": "2023-08-14T07:11:29.234704962Z",
     "start_time": "2023-08-14T07:11:29.205509692Z"
    }
   },
   "id": "ac89a243b01d7429"
  },
  {
   "cell_type": "code",
   "execution_count": 31,
   "outputs": [
    {
     "name": "stdout",
     "output_type": "stream",
     "text": [
      "[7 8 9]\n",
      "[3 8]\n",
      "[[2 3 4]\n",
      " [7 8 9]]\n",
      "[[2 4]\n",
      " [7 9]]\n",
      "[[2 4]]\n"
     ]
    }
   ],
   "source": [
    "# advanced slicing of arrays\n",
    "arr = np.array([[1, 2, 3, 4, 5], \n",
    "                [6, 7, 8, 9, 10]])\n",
    "print(arr[1, 1:4])\n",
    "print(arr[0:2, 2])\n",
    "print(arr[0:2, 1:4])\n",
    "print(arr[0:2, 1:4:2])\n",
    "print(arr[0:2:2, 1:4:2])"
   ],
   "metadata": {
    "collapsed": false,
    "ExecuteTime": {
     "end_time": "2023-08-14T07:17:53.614961420Z",
     "start_time": "2023-08-14T07:17:53.597319573Z"
    }
   },
   "id": "1eb1bf9e9191d843"
  },
  {
   "cell_type": "code",
   "execution_count": 32,
   "outputs": [
    {
     "data": {
      "text/plain": "array([[1, 2, 3, 4],\n       [5, 6, 7, 8]])"
     },
     "execution_count": 32,
     "metadata": {},
     "output_type": "execute_result"
    }
   ],
   "source": [
    "# reshape an array\n",
    "arr = np.array([1, 2, 3, 4, 5, 6, 7, 8])\n",
    "arr.reshape(2, 4)"
   ],
   "metadata": {
    "collapsed": false,
    "ExecuteTime": {
     "end_time": "2023-08-14T07:18:49.589916672Z",
     "start_time": "2023-08-14T07:18:49.505747233Z"
    }
   },
   "id": "618eaf4428446832"
  },
  {
   "cell_type": "code",
   "execution_count": 34,
   "outputs": [
    {
     "name": "stdout",
     "output_type": "stream",
     "text": [
      "[1 2 3 4 5 6 7 8]\n"
     ]
    }
   ],
   "source": [
    "# flatten an array\n",
    "arr = np.array([[1, 2, 3, 4], [5, 6, 7, 8]])\n",
    "print(arr.flatten())"
   ],
   "metadata": {
    "collapsed": false,
    "ExecuteTime": {
     "end_time": "2023-08-14T07:20:03.626600592Z",
     "start_time": "2023-08-14T07:20:03.575149615Z"
    }
   },
   "id": "53c8586b63ee3bae"
  },
  {
   "cell_type": "code",
   "execution_count": 37,
   "outputs": [
    {
     "name": "stdout",
     "output_type": "stream",
     "text": [
      "[1 2 7 4 5]\n",
      "[1 2 7 4 5]\n",
      "140711886709616\n",
      "140711886709616\n"
     ]
    }
   ],
   "source": [
    "# shallow and deep copy an array\n",
    "# view or shallow copy\n",
    "arr = np.array([1, 2, 3, 4, 5])\n",
    "arr1 = arr\n",
    "arr1[2] = 7\n",
    "print(arr)\n",
    "print(arr1)\n",
    "print(id(arr))\n",
    "print(id(arr1))"
   ],
   "metadata": {
    "collapsed": false,
    "ExecuteTime": {
     "end_time": "2023-08-14T07:26:56.918648004Z",
     "start_time": "2023-08-14T07:26:56.884008596Z"
    }
   },
   "id": "bc09e4a17e170128"
  },
  {
   "cell_type": "code",
   "execution_count": 38,
   "outputs": [
    {
     "name": "stdout",
     "output_type": "stream",
     "text": [
      "[1 2 3 4 5]\n",
      "[1 2 7 4 5]\n",
      "140711886710096\n",
      "140711886709520\n"
     ]
    }
   ],
   "source": [
    "#deep copy\n",
    "# copy() \n",
    "arr = np.array([1, 2, 3, 4, 5])\n",
    "arr1 = arr.copy()\n",
    "arr1[2] = 7\n",
    "print(arr)\n",
    "print(arr1)\n",
    "print(id(arr))\n",
    "print(id(arr1))"
   ],
   "metadata": {
    "collapsed": false,
    "ExecuteTime": {
     "end_time": "2023-08-14T07:27:19.633786136Z",
     "start_time": "2023-08-14T07:27:19.418692649Z"
    }
   },
   "id": "56758c7ada028f94"
  },
  {
   "cell_type": "code",
   "execution_count": 39,
   "outputs": [
    {
     "data": {
      "text/plain": "array([2, 4, 6])"
     },
     "execution_count": 39,
     "metadata": {},
     "output_type": "execute_result"
    }
   ],
   "source": [
    "# fancy indexing\n",
    "arr = np.array([1, 2, 3, 4, 5, 6, 7, 8])\n",
    "arr[[1, 3, 5]]"
   ],
   "metadata": {
    "collapsed": false,
    "ExecuteTime": {
     "end_time": "2023-08-14T07:39:05.050768762Z",
     "start_time": "2023-08-14T07:39:04.946410530Z"
    }
   },
   "id": "b434ed57e559eb3b"
  },
  {
   "cell_type": "code",
   "execution_count": 45,
   "outputs": [
    {
     "name": "stdout",
     "output_type": "stream",
     "text": [
      "[6 7 8]\n"
     ]
    },
    {
     "data": {
      "text/plain": "array([1, 3, 5, 7])"
     },
     "execution_count": 45,
     "metadata": {},
     "output_type": "execute_result"
    }
   ],
   "source": [
    "# boolean indexing\n",
    "arr = np.array([1, 2, 3, 4, 5, 6, 7, 8])\n",
    "print(arr[arr > 5])\n",
    "arr[np.array([True, False, True, False, True, False, True, False])]\n"
   ],
   "metadata": {
    "collapsed": false,
    "ExecuteTime": {
     "end_time": "2023-08-14T07:41:57.382121066Z",
     "start_time": "2023-08-14T07:41:57.264120473Z"
    }
   },
   "id": "888cc108f2f49e77"
  },
  {
   "cell_type": "code",
   "execution_count": 47,
   "outputs": [
    {
     "name": "stdout",
     "output_type": "stream",
     "text": [
      "[1 0 3 0 5 0 7 8]\n"
     ]
    }
   ],
   "source": [
    "# replacing values in an array\n",
    "arr = np.array([1, 2, 3, 4, 5, 6, 7, 8])\n",
    "indices = [1,3, 5]\n",
    "arr[indices] = 0\n",
    "print(arr)"
   ],
   "metadata": {
    "collapsed": false,
    "ExecuteTime": {
     "end_time": "2023-08-14T07:42:50.712755734Z",
     "start_time": "2023-08-14T07:42:50.652841991Z"
    }
   },
   "id": "c913bd1da01ba921"
  },
  {
   "cell_type": "code",
   "execution_count": 52,
   "outputs": [
    {
     "name": "stdout",
     "output_type": "stream",
     "text": [
      "[ 8 20]\n",
      "[[ 8 10]\n",
      " [18 20]]\n",
      "[ 3  6  9 12 15 18]\n"
     ]
    }
   ],
   "source": [
    "# fancy indexing in 2D arrays\n",
    "arr = np.array([[1, 2, 3, 4, 5], \n",
    "                [6, 7, 8, 9, 10],\n",
    "                [11, 12, 13, 14, 15],\n",
    "                [16, 17, 18, 19, 20]])\n",
    "print(arr[[1, 3], [2, 4]])\n",
    "print(arr[[1, 3]][:, [2, 4]])\n",
    "print(arr[arr%3==0])"
   ],
   "metadata": {
    "collapsed": false,
    "ExecuteTime": {
     "end_time": "2023-08-14T07:50:40.908909782Z",
     "start_time": "2023-08-14T07:50:40.713697266Z"
    }
   },
   "id": "7eb6bc921fb1b4ce"
  },
  {
   "cell_type": "code",
   "execution_count": 53,
   "outputs": [
    {
     "data": {
      "text/plain": "array([ 1,  2,  3,  4,  5,  6,  7,  8,  9, 10])"
     },
     "execution_count": 53,
     "metadata": {},
     "output_type": "execute_result"
    }
   ],
   "source": [
    "# array concatenation\n",
    "arr1 = np.array([1, 2, 3, 4, 5])\n",
    "arr2 = np.array([6, 7, 8, 9, 10])\n",
    "np.concatenate([arr1, arr2])\n"
   ],
   "metadata": {
    "collapsed": false,
    "ExecuteTime": {
     "end_time": "2023-08-14T08:01:22.591447268Z",
     "start_time": "2023-08-14T08:01:22.496043836Z"
    }
   },
   "id": "665d0d848e95f001"
  },
  {
   "cell_type": "code",
   "execution_count": 54,
   "outputs": [
    {
     "data": {
      "text/plain": "array([ 7,  9, 11, 13, 15])"
     },
     "execution_count": 54,
     "metadata": {},
     "output_type": "execute_result"
    }
   ],
   "source": [
    "# add two arrays\n",
    "arr1 = np.array([1, 2, 3, 4, 5])\n",
    "arr2 = np.array([6, 7, 8, 9, 10])\n",
    "np.add(arr1, arr2)"
   ],
   "metadata": {
    "collapsed": false,
    "ExecuteTime": {
     "end_time": "2023-08-14T08:01:55.962643326Z",
     "start_time": "2023-08-14T08:01:55.833371975Z"
    }
   },
   "id": "c6197b7e1671e345"
  },
  {
   "cell_type": "code",
   "execution_count": 55,
   "outputs": [
    {
     "data": {
      "text/plain": "array([ 7,  9, 11, 13, 15])"
     },
     "execution_count": 55,
     "metadata": {},
     "output_type": "execute_result"
    }
   ],
   "source": [
    "# array broadcasting\n",
    "arr1 = np.array([1, 2, 3, 4, 5])\n",
    "arr2 = np.array([6, 7, 8, 9, 10])\n",
    "arr1 + arr2"
   ],
   "metadata": {
    "collapsed": false,
    "ExecuteTime": {
     "end_time": "2023-08-14T08:02:41.180544109Z",
     "start_time": "2023-08-14T08:02:41.089509539Z"
    }
   },
   "id": "6311a5e04d6b5c4d"
  },
  {
   "cell_type": "code",
   "execution_count": 62,
   "outputs": [
    {
     "data": {
      "text/plain": "array([[ 7,  8,  9, 10, 11],\n       [ 8,  9, 10, 11, 12],\n       [ 9, 10, 11, 12, 13],\n       [10, 11, 12, 13, 14],\n       [11, 12, 13, 14, 15]])"
     },
     "execution_count": 62,
     "metadata": {},
     "output_type": "execute_result"
    }
   ],
   "source": [
    "arr = np.array([1, 2, 3, 4, 5])\n",
    "arr2 = np.arange(6,11).reshape(5,1)\n",
    "arr + arr2"
   ],
   "metadata": {
    "collapsed": false,
    "ExecuteTime": {
     "end_time": "2023-08-14T08:07:00.954956036Z",
     "start_time": "2023-08-14T08:07:00.862276614Z"
    }
   },
   "id": "b369ea79cc4df451"
  },
  {
   "cell_type": "code",
   "execution_count": 63,
   "outputs": [
    {
     "data": {
      "text/plain": "array([[ 1,  6],\n       [ 2,  7],\n       [ 3,  8],\n       [ 4,  9],\n       [ 5, 10]])"
     },
     "execution_count": 63,
     "metadata": {},
     "output_type": "execute_result"
    }
   ],
   "source": [
    "# array stacking\n",
    "arr1 = np.array([1, 2, 3, 4, 5])\n",
    "arr2 = np.array([6, 7, 8, 9, 10])\n",
    "np.stack((arr1, arr2), axis=1)"
   ],
   "metadata": {
    "collapsed": false,
    "ExecuteTime": {
     "end_time": "2023-08-14T08:12:04.563183465Z",
     "start_time": "2023-08-14T08:12:04.515062822Z"
    }
   },
   "id": "9983773548e58dbe"
  },
  {
   "cell_type": "code",
   "execution_count": 64,
   "outputs": [
    {
     "name": "stdout",
     "output_type": "stream",
     "text": [
      "[[ 1  2  3  4  5]\n",
      " [ 6  7  8  9 10]]\n",
      "[ 1  2  3  4  5  6  7  8  9 10]\n"
     ]
    }
   ],
   "source": [
    "# vstack and hstack\n",
    "arr1 = np.array([1, 2, 3, 4, 5])\n",
    "arr2 = np.array([6, 7, 8, 9, 10])\n",
    "print(np.vstack((arr1, arr2)))\n",
    "print(np.hstack((arr1, arr2)))"
   ],
   "metadata": {
    "collapsed": false,
    "ExecuteTime": {
     "end_time": "2023-08-14T08:12:05.372651731Z",
     "start_time": "2023-08-14T08:12:05.356195785Z"
    }
   },
   "id": "22e33fa18b47a2f4"
  },
  {
   "cell_type": "code",
   "execution_count": 68,
   "outputs": [
    {
     "name": "stdout",
     "output_type": "stream",
     "text": [
      "[ 7  9 11 13 15]\n",
      "[15 40]\n",
      "55\n",
      "[[ 1  6]\n",
      " [ 2  7]\n",
      " [ 3  8]\n",
      " [ 4  9]\n",
      " [ 5 10]]\n"
     ]
    }
   ],
   "source": [
    "# sum of array elements axis wise\n",
    "arr = np.array([[1, 2, 3, 4, 5], \n",
    "                [6, 7, 8, 9, 10]])\n",
    "print(arr.sum(axis=0))\n",
    "print(arr.sum(axis=1))\n",
    "print(arr.sum())\n",
    "# transpose of an array\n",
    "print(arr.T)\n"
   ],
   "metadata": {
    "collapsed": false,
    "ExecuteTime": {
     "end_time": "2023-08-14T08:13:34.970771632Z",
     "start_time": "2023-08-14T08:13:34.906091302Z"
    }
   },
   "id": "f743f4317b76752f"
  },
  {
   "cell_type": "code",
   "execution_count": 69,
   "outputs": [
    {
     "name": "stdout",
     "output_type": "stream",
     "text": [
      "1\n",
      "10\n",
      "[1 2 3 4 5]\n",
      "[ 5 10]\n"
     ]
    }
   ],
   "source": [
    "# min max value in an array\n",
    "arr = np.array([[1, 2, 3, 4, 5], \n",
    "                [6, 7, 8, 9, 10]])\n",
    "print(arr.min())\n",
    "print(arr.max())\n",
    "print(arr.min(axis=0))\n",
    "print(arr.max(axis=1))\n"
   ],
   "metadata": {
    "collapsed": false,
    "ExecuteTime": {
     "end_time": "2023-08-14T08:18:55.755592267Z",
     "start_time": "2023-08-14T08:18:55.679312026Z"
    }
   },
   "id": "147ffa40bbc974d8"
  },
  {
   "cell_type": "code",
   "execution_count": 77,
   "outputs": [
    {
     "name": "stdout",
     "output_type": "stream",
     "text": [
      "5.5\n",
      "5.5\n",
      "[3.5 4.5 5.5 6.5 7.5]\n",
      "[3. 8.]\n",
      "9\n",
      "0\n",
      "[1 1 1 1 1]\n",
      "[4 4]\n",
      "(1, 4)\n"
     ]
    }
   ],
   "source": [
    "# mean and median of an array\n",
    "arr = np.array([[1, 2, 3, 4, 5], \n",
    "                [6, 7, 8, 9, 10]])\n",
    "print(arr.mean())\n",
    "print(np.median(arr))\n",
    "print(arr.mean(axis=0))\n",
    "print(arr.mean(axis=1))\n",
    "# print(arr.mean(axis=2))\n",
    "print(arr.argmax())\n",
    "print(arr.argmin())\n",
    "print(arr.argmax(axis=0))\n",
    "print(arr.argmax(axis=1))\n",
    "print(np.unravel_index(arr.argmax(), arr.shape))"
   ],
   "metadata": {
    "collapsed": false,
    "ExecuteTime": {
     "end_time": "2023-08-14T08:22:29.810199466Z",
     "start_time": "2023-08-14T08:22:29.768428237Z"
    }
   },
   "id": "776e90246901335e"
  },
  {
   "cell_type": "code",
   "execution_count": 79,
   "outputs": [
    {
     "data": {
      "text/plain": "array([['F', 'T', 'F', 'T', 'F'],\n       ['T', 'F', 'T', 'F', 'T']], dtype='<U1')"
     },
     "execution_count": 79,
     "metadata": {},
     "output_type": "execute_result"
    }
   ],
   "source": [
    "# where function in numpy\n",
    "arr = np.array([[1, 2, 3, 4, 5], \n",
    "                [6, 7, 8, 9, 10]])\n",
    "np.where(arr%2==0, 1, 0)\n",
    "np.where(arr%2==0, 'T', 'F')\n"
   ],
   "metadata": {
    "collapsed": false,
    "ExecuteTime": {
     "end_time": "2023-08-14T09:40:54.505386122Z",
     "start_time": "2023-08-14T09:40:54.408649364Z"
    }
   },
   "id": "24dc91c3bac4b170"
  },
  {
   "cell_type": "code",
   "execution_count": 82,
   "outputs": [
    {
     "name": "stdout",
     "output_type": "stream",
     "text": [
      "(array([0, 0, 1, 1, 1]), array([1, 3, 0, 2, 4]))\n"
     ]
    }
   ],
   "source": [
    "mask = arr%2==0\n",
    "print(np.where(mask))"
   ],
   "metadata": {
    "collapsed": false,
    "ExecuteTime": {
     "end_time": "2023-08-14T09:43:21.149417582Z",
     "start_time": "2023-08-14T09:43:21.102465545Z"
    }
   },
   "id": "cb7c2bc48c1e6a2"
  },
  {
   "cell_type": "code",
   "execution_count": 83,
   "outputs": [
    {
     "data": {
      "text/plain": "array([ 1,  2,  3,  4,  5,  6,  7,  8,  9, 10])"
     },
     "execution_count": 83,
     "metadata": {},
     "output_type": "execute_result"
    }
   ],
   "source": [
    "# flatten and ravel function\n",
    "arr = np.array([[1, 2, 3, 4, 5], \n",
    "                [6, 7, 8, 9, 10]])\n",
    "# copy() \n",
    "arr.flatten()\n",
    "# view() \n",
    "arr.ravel()"
   ],
   "metadata": {
    "collapsed": false,
    "ExecuteTime": {
     "end_time": "2023-08-14T10:07:07.301518590Z",
     "start_time": "2023-08-14T10:07:07.221362028Z"
    }
   },
   "id": "fa99360454a174f1"
  },
  {
   "cell_type": "code",
   "execution_count": null,
   "outputs": [],
   "source": [],
   "metadata": {
    "collapsed": false
   },
   "id": "70bfeba81e33f466"
  }
 ],
 "metadata": {
  "kernelspec": {
   "display_name": "Python 3",
   "language": "python",
   "name": "python3"
  },
  "language_info": {
   "codemirror_mode": {
    "name": "ipython",
    "version": 2
   },
   "file_extension": ".py",
   "mimetype": "text/x-python",
   "name": "python",
   "nbconvert_exporter": "python",
   "pygments_lexer": "ipython2",
   "version": "2.7.6"
  }
 },
 "nbformat": 4,
 "nbformat_minor": 5
}
