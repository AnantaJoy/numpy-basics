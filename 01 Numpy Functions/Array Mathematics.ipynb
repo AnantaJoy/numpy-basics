{
 "cells": [
  {
   "cell_type": "code",
   "execution_count": 5,
   "id": "initial_id",
   "metadata": {
    "collapsed": true,
    "ExecuteTime": {
     "end_time": "2023-08-14T13:51:53.385051358Z",
     "start_time": "2023-08-14T13:51:53.342654266Z"
    }
   },
   "outputs": [
    {
     "data": {
      "text/plain": "array([[ 0,  1,  2,  3],\n       [ 4,  5,  6,  7],\n       [ 8,  9, 10, 11]])"
     },
     "execution_count": 5,
     "metadata": {},
     "output_type": "execute_result"
    }
   ],
   "source": [
    "import numpy as np\n",
    "# cumulative operations\n",
    "arr = np.arange(0, 12).reshape(3, 4)\n",
    "arr"
   ]
  },
  {
   "cell_type": "code",
   "execution_count": 7,
   "outputs": [
    {
     "data": {
      "text/plain": "array([ 0,  1,  3,  6, 10, 15, 21, 28, 36, 45, 55, 66])"
     },
     "execution_count": 7,
     "metadata": {},
     "output_type": "execute_result"
    }
   ],
   "source": [
    "arr.cumsum()"
   ],
   "metadata": {
    "collapsed": false,
    "ExecuteTime": {
     "end_time": "2023-08-14T13:52:23.423718735Z",
     "start_time": "2023-08-14T13:52:23.404132808Z"
    }
   },
   "id": "695dfc74a6153ae9"
  },
  {
   "cell_type": "code",
   "execution_count": 8,
   "outputs": [
    {
     "data": {
      "text/plain": "array([[ 0,  1,  2,  3],\n       [ 4,  6,  8, 10],\n       [12, 15, 18, 21]])"
     },
     "execution_count": 8,
     "metadata": {},
     "output_type": "execute_result"
    }
   ],
   "source": [
    "arr.cumsum(axis=0)"
   ],
   "metadata": {
    "collapsed": false,
    "ExecuteTime": {
     "end_time": "2023-08-14T13:53:06.067737136Z",
     "start_time": "2023-08-14T13:53:06.013559947Z"
    }
   },
   "id": "ffb559da5e5ff7aa"
  },
  {
   "cell_type": "code",
   "execution_count": 13,
   "outputs": [
    {
     "data": {
      "text/plain": "3"
     },
     "execution_count": 13,
     "metadata": {},
     "output_type": "execute_result"
    }
   ],
   "source": [
    "# vectorized operations\n",
    "arr = np.arange(1, 13).reshape(3, 4)\n",
    "len(arr)"
   ],
   "metadata": {
    "collapsed": false,
    "ExecuteTime": {
     "end_time": "2023-08-14T13:56:12.678730459Z",
     "start_time": "2023-08-14T13:56:12.626755143Z"
    }
   },
   "id": "916af53bd0b873fd"
  },
  {
   "cell_type": "code",
   "execution_count": 14,
   "outputs": [
    {
     "data": {
      "text/plain": "True"
     },
     "execution_count": 14,
     "metadata": {},
     "output_type": "execute_result"
    }
   ],
   "source": [
    "arr = np.array(['Python', 'R', 'C++', 'Java'])\n",
    "len(arr) >=2 "
   ],
   "metadata": {
    "collapsed": false,
    "ExecuteTime": {
     "end_time": "2023-08-14T14:00:45.961752589Z",
     "start_time": "2023-08-14T14:00:45.911975411Z"
    }
   },
   "id": "26cf83a60171aa20"
  },
  {
   "cell_type": "code",
   "execution_count": 15,
   "outputs": [
    {
     "data": {
      "text/plain": "array([ True, False,  True,  True])"
     },
     "execution_count": 15,
     "metadata": {},
     "output_type": "execute_result"
    }
   ],
   "source": [
    "vectorized_len = np.vectorize(len)\n",
    "vectorized_len(arr) >= 2"
   ],
   "metadata": {
    "collapsed": false,
    "ExecuteTime": {
     "end_time": "2023-08-14T14:01:02.724926605Z",
     "start_time": "2023-08-14T14:01:02.655582319Z"
    }
   },
   "id": "6967c44431567a18"
  },
  {
   "cell_type": "code",
   "execution_count": 16,
   "outputs": [
    {
     "data": {
      "text/plain": "array(['PYTHON', 'R', 'C++', 'JAVA', 'C#', 'SCALA', 'JULIA'], dtype='<U6')"
     },
     "execution_count": 16,
     "metadata": {},
     "output_type": "execute_result"
    }
   ],
   "source": [
    "names = np.array(['Python', 'R', 'C++', 'Java', 'C#', 'Scala', 'Julia'])\n",
    "vectorized_upper = np.vectorize(str.upper)\n",
    "vectorized_upper(names)"
   ],
   "metadata": {
    "collapsed": false,
    "ExecuteTime": {
     "end_time": "2023-08-14T14:11:17.327021651Z",
     "start_time": "2023-08-14T14:11:17.270759246Z"
    }
   },
   "id": "349384e78ae099cd"
  },
  {
   "cell_type": "code",
   "execution_count": 17,
   "outputs": [
    {
     "data": {
      "text/plain": "array([[ 4,  5,  7,  9],\n       [13, 15, 19, 21]])"
     },
     "execution_count": 17,
     "metadata": {},
     "output_type": "execute_result"
    }
   ],
   "source": [
    "# broadcasting operations\n",
    "prime = np.array([2, 3, 5, 7, 11, 13, 17, 19]).reshape(2,4)\n",
    "prime+2"
   ],
   "metadata": {
    "collapsed": false,
    "ExecuteTime": {
     "end_time": "2023-08-14T14:13:44.876734849Z",
     "start_time": "2023-08-14T14:13:44.825565453Z"
    }
   },
   "id": "d8441a66169d5b23"
  },
  {
   "cell_type": "code",
   "execution_count": 18,
   "outputs": [],
   "source": [
    "# rules of broadcasting\n",
    "# 1. If the two arrays differ in their number of dimensions, the shape of the one with fewer dimensions is padded with ones on its leading (left) side.\n",
    "# 2. If the shape of the two arrays does not match in any dimension, the array with shape equal to 1 in that dimension is stretched to match the other shape.\n",
    "# 3. If in any dimension the sizes disagree and neither is equal to 1, an error is raised.\n",
    "# shape(5,4)\n",
    "# shape(1,4)\n",
    "# shape(5,1)\n",
    "# shape(5,4)"
   ],
   "metadata": {
    "collapsed": false,
    "ExecuteTime": {
     "end_time": "2023-08-14T14:17:51.599157566Z",
     "start_time": "2023-08-14T14:17:51.537714031Z"
    }
   },
   "id": "a084c81af773c4a8"
  },
  {
   "cell_type": "code",
   "execution_count": 19,
   "outputs": [
    {
     "data": {
      "text/plain": "(4, 1)"
     },
     "execution_count": 19,
     "metadata": {},
     "output_type": "execute_result"
    }
   ],
   "source": [
    "# try this array whether broadcastable or not broadcastable\n",
    "# (3,5) and (4,1)\n",
    "# (3,4) and (3,)"
   ],
   "metadata": {
    "collapsed": false,
    "ExecuteTime": {
     "end_time": "2023-08-14T14:22:51.341758884Z",
     "start_time": "2023-08-14T14:22:51.279093429Z"
    }
   },
   "id": "b5af441fb4a3de8f"
  },
  {
   "cell_type": "code",
   "execution_count": 25,
   "outputs": [],
   "source": [
    "arr1 = np.arange(1,13).reshape(3,4)\n",
    "arr2 = np.arange(4).reshape(4,)"
   ],
   "metadata": {
    "collapsed": false,
    "ExecuteTime": {
     "end_time": "2023-08-14T14:27:12.187725972Z",
     "start_time": "2023-08-14T14:27:12.169318035Z"
    }
   },
   "id": "4736578d7cf35b29"
  },
  {
   "cell_type": "code",
   "execution_count": 22,
   "outputs": [
    {
     "data": {
      "text/plain": "array([[ 1,  2,  3,  4],\n       [ 5,  6,  7,  8],\n       [ 9, 10, 11, 12]])"
     },
     "execution_count": 22,
     "metadata": {},
     "output_type": "execute_result"
    }
   ],
   "source": [
    "arr1"
   ],
   "metadata": {
    "collapsed": false,
    "ExecuteTime": {
     "end_time": "2023-08-14T14:26:43.408907480Z",
     "start_time": "2023-08-14T14:26:43.379903058Z"
    }
   },
   "id": "8f518b41fc52865c"
  },
  {
   "cell_type": "code",
   "execution_count": 28,
   "outputs": [
    {
     "data": {
      "text/plain": "array([0, 1, 2, 3])"
     },
     "execution_count": 28,
     "metadata": {},
     "output_type": "execute_result"
    }
   ],
   "source": [
    "arr2"
   ],
   "metadata": {
    "collapsed": false,
    "ExecuteTime": {
     "end_time": "2023-08-14T14:27:28.427932813Z",
     "start_time": "2023-08-14T14:27:28.378082121Z"
    }
   },
   "id": "a4d6b2683189c068"
  },
  {
   "cell_type": "code",
   "execution_count": 29,
   "outputs": [
    {
     "ename": "ValueError",
     "evalue": "operands could not be broadcast together with shapes (3,4) (4,1) ",
     "output_type": "error",
     "traceback": [
      "\u001B[0;31m---------------------------------------------------------------------------\u001B[0m",
      "\u001B[0;31mValueError\u001B[0m                                Traceback (most recent call last)",
      "Input \u001B[0;32mIn [29]\u001B[0m, in \u001B[0;36m<cell line: 6>\u001B[0;34m()\u001B[0m\n\u001B[1;32m      3\u001B[0m array_1 \u001B[38;5;241m=\u001B[39m np\u001B[38;5;241m.\u001B[39mrandom\u001B[38;5;241m.\u001B[39mrand(\u001B[38;5;241m3\u001B[39m, \u001B[38;5;241m4\u001B[39m)  \u001B[38;5;66;03m# Shape (3, 4)\u001B[39;00m\n\u001B[1;32m      4\u001B[0m array_2 \u001B[38;5;241m=\u001B[39m np\u001B[38;5;241m.\u001B[39mrandom\u001B[38;5;241m.\u001B[39mrand(\u001B[38;5;241m4\u001B[39m, \u001B[38;5;241m1\u001B[39m)  \u001B[38;5;66;03m# Shape (4, 1)\u001B[39;00m\n\u001B[0;32m----> 6\u001B[0m result \u001B[38;5;241m=\u001B[39m \u001B[43marray_1\u001B[49m\u001B[43m \u001B[49m\u001B[38;5;241;43m+\u001B[39;49m\u001B[43m \u001B[49m\u001B[43marray_2\u001B[49m\n\u001B[1;32m      8\u001B[0m \u001B[38;5;28mprint\u001B[39m(\u001B[38;5;124m\"\u001B[39m\u001B[38;5;124mArray 1:\u001B[39m\u001B[38;5;124m\"\u001B[39m)\n\u001B[1;32m      9\u001B[0m \u001B[38;5;28mprint\u001B[39m(array_1)\n",
      "\u001B[0;31mValueError\u001B[0m: operands could not be broadcast together with shapes (3,4) (4,1) "
     ]
    }
   ],
   "source": [
    "import numpy as np\n",
    "\n",
    "array_1 = np.random.rand(3, 4)  # Shape (3, 4)\n",
    "array_2 = np.random.rand(4, 1)  # Shape (4, 1)\n",
    "\n",
    "result = array_1 + array_2\n",
    "\n",
    "print(\"Array 1:\")\n",
    "print(array_1)\n",
    "print(\"\\nArray 2:\")\n",
    "print(array_2)\n",
    "print(\"\\nResult:\")\n",
    "print(result)\n"
   ],
   "metadata": {
    "collapsed": false,
    "ExecuteTime": {
     "end_time": "2023-08-14T14:31:51.811887446Z",
     "start_time": "2023-08-14T14:31:51.763825596Z"
    }
   },
   "id": "742b526a7aaf44c8"
  },
  {
   "cell_type": "code",
   "execution_count": null,
   "outputs": [],
   "source": [],
   "metadata": {
    "collapsed": false
   },
   "id": "bf87fb5766ce454a"
  }
 ],
 "metadata": {
  "kernelspec": {
   "display_name": "Python 3",
   "language": "python",
   "name": "python3"
  },
  "language_info": {
   "codemirror_mode": {
    "name": "ipython",
    "version": 2
   },
   "file_extension": ".py",
   "mimetype": "text/x-python",
   "name": "python",
   "nbconvert_exporter": "python",
   "pygments_lexer": "ipython2",
   "version": "2.7.6"
  }
 },
 "nbformat": 4,
 "nbformat_minor": 5
}
