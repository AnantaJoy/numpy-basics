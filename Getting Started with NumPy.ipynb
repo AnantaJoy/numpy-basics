{
 "cells": [
  {
   "cell_type": "markdown",
   "metadata": {},
   "source": [
    "# Benefits of using python:\n",
    "* Speed\n",
    "* Fewer loops\n",
    "* Readable code\n",
    "* Easy to debug\n",
    "* Open Source\n",
    "* Easy to use\n",
    "* Larger Community\n",
    "* Easy to learn"
   ]
  },
  {
   "cell_type": "code",
   "execution_count": 1,
   "metadata": {},
   "outputs": [
    {
     "data": {
      "text/plain": [
       "numpy.ndarray"
      ]
     },
     "execution_count": 1,
     "metadata": {},
     "output_type": "execute_result"
    }
   ],
   "source": [
    "# NumPy: Numeric Python is a scientific computing package in Python that is used for  working with arrays. It also has functions for \n",
    "# working in domain of linear algebra, fourier transform, and matrices. NumPy was created in 2005 by Travis Oliphant. It is an open source.\n",
    "\n",
    "# NumPy is mainly used for scientific computing in Python. It also provides a powerful N-dimensional array object, and tools for working with these arrays.\n",
    "\n",
    "# ndarray\n",
    "# N-dimensional array object\n",
    "import numpy as np\n",
    "arr = np.array([3,4,5,6,7])\n",
    "type(arr)"
   ]
  },
  {
   "cell_type": "markdown",
   "metadata": {},
   "source": [
    "### Array \n",
    "* Data structure\n",
    "* store heterogeneous data\n",
    "* store data in the form of rows and columns\n"
   ]
  },
  {
   "cell_type": "code",
   "execution_count": 4,
   "metadata": {},
   "outputs": [
    {
     "name": "stdout",
     "output_type": "stream",
     "text": [
      "Shape: (5,)\n",
      "Data Type: int64\n",
      "Number of Dimensions: 1\n",
      "Size: 5\n",
      "Item Size: 8\n",
      "Memory Address: <memory at 0x7fbad91f1540>\n"
     ]
    }
   ],
   "source": [
    "# nd array object operations\n",
    "print(\"Shape:\", arr.shape)\n",
    "print(\"Data Type:\", arr.dtype)\n",
    "print(\"Number of Dimensions:\", arr.ndim)\n",
    "print(\"Size:\", arr.size)\n",
    "print(\"Item Size:\", arr.itemsize)\n",
    "print(\"Memory Address:\", arr.data)"
   ]
  },
  {
   "cell_type": "code",
   "execution_count": 6,
   "metadata": {},
   "outputs": [
    {
     "name": "stdout",
     "output_type": "stream",
     "text": [
      "[[1 2 3]\n",
      " [4 5 6]]\n",
      "Shape: (2, 3)\n",
      "Data Type: int64\n",
      "Number of Dimensions: 2\n",
      "Size: 6\n",
      "Item Size: 8\n",
      "Memory Address: <memory at 0x7fbae83b01e0>\n"
     ]
    }
   ],
   "source": [
    "# create two dimension array\n",
    "\n",
    "arr_2d = np.array([[1, 2, 3], \n",
    "                   [4, 5, 6]])\n",
    "print(arr_2d)\n",
    "print(\"Shape:\", arr_2d.shape)\n",
    "print(\"Data Type:\", arr_2d.dtype)\n",
    "print(\"Number of Dimensions:\", arr_2d.ndim)\n",
    "print(\"Size:\", arr_2d.size)\n",
    "print(\"Item Size:\", arr_2d.itemsize)\n",
    "print(\"Memory Address:\", arr_2d.data)\n"
   ]
  },
  {
   "cell_type": "code",
   "execution_count": 8,
   "metadata": {},
   "outputs": [
    {
     "name": "stdout",
     "output_type": "stream",
     "text": [
      "Integer types: [<class 'numpy.int8'>, <class 'numpy.int16'>, <class 'numpy.int32'>, <class 'numpy.int64'>]\n",
      "Unsigned integer types: [<class 'numpy.uint8'>, <class 'numpy.uint16'>, <class 'numpy.uint32'>, <class 'numpy.uint64'>]\n",
      "Floating-point types: [<class 'numpy.float16'>, <class 'numpy.float32'>, <class 'numpy.float64'>]\n",
      "Complex types: [<class 'numpy.complex64'>, <class 'numpy.complex128'>]\n",
      "Boolean type: <class 'numpy.bool_'>\n",
      "Datetime types: [<class 'numpy.datetime64'>]\n",
      "Timedelta: 1 days\n"
     ]
    }
   ],
   "source": [
    "# Numeric data types categories in numpy\n",
    "import numpy as np\n",
    "\n",
    "# Integer types\n",
    "int_types = [np.int8, np.int16, np.int32, np.int64]\n",
    "\n",
    "# Unsigned integer types\n",
    "uint_types = [np.uint8, np.uint16, np.uint32, np.uint64]\n",
    "\n",
    "# Floating-point types\n",
    "float_types = [np.float16, np.float32, np.float64]\n",
    "\n",
    "# Complex types\n",
    "complex_types = [np.complex64, np.complex128]\n",
    "\n",
    "# Boolean type\n",
    "bool_type = np.bool_\n",
    "\n",
    "\n",
    "# Datetime types\n",
    "datetime_types = [np.datetime64]\n",
    "\n",
    "# Timedelta types\n",
    "timedelta_obj = np.timedelta64(1, 'D')\n",
    "\n",
    "\n",
    "# Print the data types\n",
    "print(\"Integer types:\", int_types)\n",
    "print(\"Unsigned integer types:\", uint_types)\n",
    "print(\"Floating-point types:\", float_types)\n",
    "print(\"Complex types:\", complex_types)\n",
    "print(\"Boolean type:\", bool_type)\n",
    "print(\"Datetime types:\", datetime_types)\n",
    "print(\"Timedelta:\", timedelta_obj)\n"
   ]
  },
  {
   "cell_type": "code",
   "execution_count": 13,
   "metadata": {},
   "outputs": [
    {
     "data": {
      "text/plain": [
       "dtype('float16')"
      ]
     },
     "execution_count": 13,
     "metadata": {},
     "output_type": "execute_result"
    }
   ],
   "source": [
    "# extended example\n",
    "arr3 = np.array([9,8,7,6], dtype=np.float16)\n",
    "arr3.dtype"
   ]
  },
  {
   "cell_type": "code",
   "execution_count": 16,
   "metadata": {},
   "outputs": [
    {
     "data": {
      "text/plain": [
       "dtype('<M8[D]')"
      ]
     },
     "execution_count": 16,
     "metadata": {},
     "output_type": "execute_result"
    }
   ],
   "source": [
    "date = np.array(['2008-08-28'], dtype='M')\n",
    "date.dtype"
   ]
  },
  {
   "cell_type": "code",
   "execution_count": 20,
   "metadata": {},
   "outputs": [
    {
     "name": "stdout",
     "output_type": "stream",
     "text": [
      "[[0. 0. 0. 0. 0.]\n",
      " [0. 0. 0. 0. 0.]\n",
      " [0. 0. 0. 0. 0.]\n",
      " [0. 0. 0. 0. 0.]]\n"
     ]
    }
   ],
   "source": [
    "# default function to create array\n",
    "\n",
    "zeros = np.zeros([4,5])\n",
    "ones = np.ones([3,3])\n",
    "empty = np.empty([3,3])\n",
    "full = np.full([4, 4], 7)\n",
    "print(zeros)"
   ]
  },
  {
   "cell_type": "code",
   "execution_count": 21,
   "metadata": {},
   "outputs": [
    {
     "name": "stdout",
     "output_type": "stream",
     "text": [
      "[0 1 2 3 4 5 6 7 8 9]\n",
      "[1 3 5 7 9]\n"
     ]
    }
   ],
   "source": [
    "# create array from arange\n",
    "\n",
    "arr4 = np.arange(10)\n",
    "print(arr4)\n",
    "arr5 = np.arange(1, 10, 2)\n",
    "print(arr5)\n",
    "\n"
   ]
  },
  {
   "cell_type": "code",
   "execution_count": 22,
   "metadata": {},
   "outputs": [
    {
     "name": "stdout",
     "output_type": "stream",
     "text": [
      "[ 1.  4.  7. 10.]\n"
     ]
    }
   ],
   "source": [
    "# create a array which are evenly spaced between two values\n",
    "arr6 = np.linspace(1, 10, 4)\n",
    "print(arr6)"
   ]
  },
  {
   "cell_type": "markdown",
   "metadata": {},
   "source": [
    "### Slicing "
   ]
  },
  {
   "cell_type": "code",
   "execution_count": null,
   "metadata": {},
   "outputs": [],
   "source": []
  },
  {
   "cell_type": "markdown",
   "metadata": {},
   "source": [
    "### Indexing"
   ]
  },
  {
   "cell_type": "markdown",
   "metadata": {},
   "source": [
    "### Broadcasting"
   ]
  },
  {
   "cell_type": "markdown",
   "metadata": {},
   "source": [
    "### Arithmetic "
   ]
  },
  {
   "cell_type": "markdown",
   "metadata": {},
   "source": [
    "### Linear Algebra"
   ]
  },
  {
   "cell_type": "markdown",
   "metadata": {},
   "source": [
    "### Searching"
   ]
  },
  {
   "cell_type": "markdown",
   "metadata": {},
   "source": [
    "### Sorting"
   ]
  },
  {
   "cell_type": "markdown",
   "metadata": {},
   "source": [
    "### Random"
   ]
  },
  {
   "cell_type": "markdown",
   "metadata": {},
   "source": []
  }
 ],
 "metadata": {
  "kernelspec": {
   "display_name": "Python 3",
   "language": "python",
   "name": "python3"
  },
  "language_info": {
   "codemirror_mode": {
    "name": "ipython",
    "version": 3
   },
   "file_extension": ".py",
   "mimetype": "text/x-python",
   "name": "python",
   "nbconvert_exporter": "python",
   "pygments_lexer": "ipython3",
   "version": "3.10.12"
  }
 },
 "nbformat": 4,
 "nbformat_minor": 2
}
