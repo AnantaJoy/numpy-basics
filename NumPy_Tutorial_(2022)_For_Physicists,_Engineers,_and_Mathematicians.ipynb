{
  "nbformat": 4,
  "nbformat_minor": 0,
  "metadata": {
    "colab": {
      "name": "NumPy Tutorial (2022): For Physicists, Engineers, and Mathematicians.ipynb",
      "provenance": [],
      "authorship_tag": "ABX9TyNKt1rNELRXqTO19ZiURVzo",
      "include_colab_link": true
    },
    "kernelspec": {
      "name": "python3",
      "display_name": "Python 3"
    },
    "language_info": {
      "name": "python"
    }
  },
  "cells": [
    {
      "cell_type": "markdown",
      "metadata": {
        "id": "view-in-github",
        "colab_type": "text"
      },
      "source": [
        "<a href=\"https://colab.research.google.com/github/AnantaJoy/numpy_basics/blob/main/NumPy_Tutorial_(2022)_For_Physicists%2C_Engineers%2C_and_Mathematicians.ipynb\" target=\"_parent\"><img src=\"https://colab.research.google.com/assets/colab-badge.svg\" alt=\"Open In Colab\"/></a>"
      ]
    },
    {
      "cell_type": "code",
      "execution_count": 1,
      "metadata": {
        "id": "Mt74ezx2qGOv"
      },
      "outputs": [],
      "source": [
        "import numpy as np\n",
        "import matplotlib.pyplot as plt"
      ]
    },
    {
      "cell_type": "code",
      "source": [
        "# creating arrays in different ways\n",
        "arr1 = np.array([2,6,4,7,8,5,8])\n",
        "arr2 = np.zeros(8)\n",
        "arr3 = np.ones(8)\n",
        "arr4 = np.arange(0,10,2)\n",
        "arr5 = np.random.random(10)\n",
        "# random Gaussian dist\n",
        "arr6 = np.random.randn(10) \n",
        "arr7 = np.linspace(0,10,20)\n",
        "# creating a 2D array\n",
        "arr8 = np.random.randint(10, size = (2,5))\n",
        "arr8"
      ],
      "metadata": {
        "colab": {
          "base_uri": "https://localhost:8080/"
        },
        "id": "YtIjgG41q6Gn",
        "outputId": "e157533d-93fb-4a09-899d-746fd79adede"
      },
      "execution_count": 12,
      "outputs": [
        {
          "output_type": "execute_result",
          "data": {
            "text/plain": [
              "array([[7, 8, 6, 1, 2],\n",
              "       [7, 1, 2, 1, 7]])"
            ]
          },
          "metadata": {},
          "execution_count": 12
        }
      ]
    }
  ]
}