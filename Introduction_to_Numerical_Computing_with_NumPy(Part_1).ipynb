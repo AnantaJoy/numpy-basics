{
  "cells": [
    {
      "cell_type": "markdown",
      "metadata": {
        "colab_type": "text",
        "id": "view-in-github"
      },
      "source": [
        "<a href=\"https://colab.research.google.com/github/AnantaJoy/numpy_basics/blob/main/Introduction_to_Numerical_Computing_with_NumPy(Part_1).ipynb\" target=\"_parent\"><img src=\"https://colab.research.google.com/assets/colab-badge.svg\" alt=\"Open In Colab\"/></a>"
      ]
    },
    {
      "cell_type": "code",
      "execution_count": 2,
      "metadata": {
        "colab": {
          "base_uri": "https://localhost:8080/"
        },
        "id": "IDsyjSQ4j84z",
        "outputId": "84f815ce-87f8-4578-c731-af924b9ff698"
      },
      "outputs": [
        {
          "name": "stdout",
          "output_type": "stream",
          "text": [
            "[3, 7, 11, 15, 19]\n"
          ]
        }
      ],
      "source": [
        "# elementwise sum of two lists\n",
        "a = [1,3,5,7,9]\n",
        "b = [2,4,6,8,10] \n",
        "sum = []\n",
        "for i,j in zip(a,b):\n",
        "  sum.append(i+j)\n",
        "\n",
        "print(sum)"
      ]
    },
    {
      "cell_type": "code",
      "execution_count": 3,
      "metadata": {
        "colab": {
          "base_uri": "https://localhost:8080/"
        },
        "id": "JD-yKspnkzB-",
        "outputId": "4f516c10-6801-4d19-a09f-4914e3575e7d"
      },
      "outputs": [
        {
          "name": "stdout",
          "output_type": "stream",
          "text": [
            "[ 3  7 11 15 19]\n"
          ]
        },
        {
          "data": {
            "text/plain": [
              "numpy.ndarray"
            ]
          },
          "execution_count": 3,
          "metadata": {},
          "output_type": "execute_result"
        }
      ],
      "source": [
        "import numpy as np\n",
        "a = np.array(a)\n",
        "b = np.array(b)\n",
        "c = a+b\n",
        "print(c)\n",
        "type(c)"
      ]
    },
    {
      "cell_type": "code",
      "execution_count": 4,
      "metadata": {
        "colab": {
          "base_uri": "https://localhost:8080/"
        },
        "id": "KnL8Wm6klUye",
        "outputId": "2cd25b1f-f3ca-4c02-ac1a-18c910fd4810"
      },
      "outputs": [
        {
          "data": {
            "text/plain": [
              "dtype('int64')"
            ]
          },
          "execution_count": 4,
          "metadata": {},
          "output_type": "execute_result"
        }
      ],
      "source": [
        "c.dtype"
      ]
    },
    {
      "cell_type": "code",
      "execution_count": 5,
      "metadata": {
        "colab": {
          "base_uri": "https://localhost:8080/"
        },
        "id": "xgPTzRhmlgRc",
        "outputId": "b21c147e-54d2-44f6-d6e8-1e854c661344"
      },
      "outputs": [
        {
          "data": {
            "text/plain": [
              "dtype('float64')"
            ]
          },
          "execution_count": 5,
          "metadata": {},
          "output_type": "execute_result"
        }
      ],
      "source": [
        "f = np.array([1.0,4,5,5,4])\n",
        "f.dtype"
      ]
    },
    {
      "cell_type": "code",
      "execution_count": 6,
      "metadata": {
        "colab": {
          "base_uri": "https://localhost:8080/"
        },
        "id": "nzC4SuRMlrMz",
        "outputId": "796ef0a3-4959-4f9d-a573-e7ad089fbe8b"
      },
      "outputs": [
        {
          "data": {
            "text/plain": [
              "array([1., 4., 5., 9., 4.])"
            ]
          },
          "execution_count": 6,
          "metadata": {},
          "output_type": "execute_result"
        }
      ],
      "source": [
        "# accessing an array\n",
        "f[3] \n",
        "f[3] = 9\n",
        "f"
      ]
    },
    {
      "cell_type": "code",
      "execution_count": 7,
      "metadata": {
        "colab": {
          "base_uri": "https://localhost:8080/"
        },
        "id": "JnL4-uWQl1aE",
        "outputId": "af523a8a-136c-4eac-dcf6-cf8e900ff7e9"
      },
      "outputs": [
        {
          "data": {
            "text/plain": [
              "array([ 3,  7, 11, 15,  4])"
            ]
          },
          "execution_count": 7,
          "metadata": {},
          "output_type": "execute_result"
        }
      ],
      "source": [
        "c[4] = 4.6\n",
        "c"
      ]
    },
    {
      "cell_type": "code",
      "execution_count": 8,
      "metadata": {
        "colab": {
          "base_uri": "https://localhost:8080/"
        },
        "id": "vKmRs5DYmGss",
        "outputId": "dc1c3583-3029-4212-80d3-72ac0a6beeaf"
      },
      "outputs": [
        {
          "data": {
            "text/plain": [
              "1"
            ]
          },
          "execution_count": 8,
          "metadata": {},
          "output_type": "execute_result"
        }
      ],
      "source": [
        "c.ndim"
      ]
    },
    {
      "cell_type": "code",
      "execution_count": 9,
      "metadata": {
        "colab": {
          "base_uri": "https://localhost:8080/"
        },
        "id": "tIVrFClTmeCN",
        "outputId": "8549146c-f64b-43c8-bfbd-2753d1cc4a57"
      },
      "outputs": [
        {
          "data": {
            "text/plain": [
              "(5,)"
            ]
          },
          "execution_count": 9,
          "metadata": {},
          "output_type": "execute_result"
        }
      ],
      "source": [
        "c.shape"
      ]
    },
    {
      "cell_type": "code",
      "execution_count": 10,
      "metadata": {
        "colab": {
          "base_uri": "https://localhost:8080/"
        },
        "id": "M8iSWNOKmhGk",
        "outputId": "655f1338-5885-43bb-9e84-ad44beafa3ae"
      },
      "outputs": [],
      "source": [
        "rng = np.random.default_rng(seed=42)\n",
        "d = rng.integers(5, size=(4,5))\n"
      ]
    },
    {
      "cell_type": "code",
      "execution_count": 11,
      "metadata": {
        "colab": {
          "base_uri": "https://localhost:8080/"
        },
        "id": "tO3O1ScjmwnU",
        "outputId": "69bc6d08-b9ad-4c75-828f-bcb8ecb4752f"
      },
      "outputs": [
        {
          "data": {
            "text/plain": [
              "array([[0, 3, 3, 2, 2],\n",
              "       [4, 0, 3, 1, 0],\n",
              "       [2, 4, 3, 3, 3],\n",
              "       [3, 2, 0, 4, 2]])"
            ]
          },
          "execution_count": 11,
          "metadata": {},
          "output_type": "execute_result"
        }
      ],
      "source": [
        "d"
      ]
    },
    {
      "cell_type": "code",
      "execution_count": 12,
      "metadata": {
        "colab": {
          "base_uri": "https://localhost:8080/"
        },
        "id": "wBGs_7QpnDSr",
        "outputId": "de388c3f-d96d-483c-ab22-f8bbd131c5ce"
      },
      "outputs": [
        {
          "data": {
            "text/plain": [
              "array([[4, 3, 3, 0, 3],\n",
              "       [3, 2, 1, 4, 0],\n",
              "       [1, 0, 0, 2, 3],\n",
              "       [3, 4, 3, 2, 1]])"
            ]
          },
          "execution_count": 12,
          "metadata": {},
          "output_type": "execute_result"
        }
      ],
      "source": [
        "e = np.random.randint(5, size=(4,5))\n",
        "e\n"
      ]
    },
    {
      "cell_type": "code",
      "execution_count": 13,
      "metadata": {
        "colab": {
          "base_uri": "https://localhost:8080/"
        },
        "id": "kFB7johipSrd",
        "outputId": "96e3548b-e20e-4a70-f97b-7e9e47c004ca"
      },
      "outputs": [
        {
          "name": "stdout",
          "output_type": "stream",
          "text": [
            "[[4 6 6 2 5]\n",
            " [7 2 4 5 0]\n",
            " [3 4 3 5 6]\n",
            " [6 6 3 6 3]]\n",
            "[[-4  0  0  2 -1]\n",
            " [ 1 -2  2 -3  0]\n",
            " [ 1  4  3  1  0]\n",
            " [ 0 -2 -3  2  1]]\n",
            "[[ 0  9  9  0  6]\n",
            " [12  0  3  4  0]\n",
            " [ 2  0  0  6  9]\n",
            " [ 9  8  0  8  2]]\n",
            "[[0 1 1 0 0]\n",
            " [1 0 3 0 0]\n",
            " [2 0 0 1 1]\n",
            " [1 0 0 2 2]]\n",
            "[[10 13 13 12 12]\n",
            " [14 10 13 11 10]\n",
            " [12 14 13 13 13]\n",
            " [13 12 10 14 12]]\n"
          ]
        },
        {
          "name": "stderr",
          "output_type": "stream",
          "text": [
            "/tmp/ipykernel_85723/4049727623.py:5: RuntimeWarning: divide by zero encountered in floor_divide\n",
            "  print(d//e)\n"
          ]
        }
      ],
      "source": [
        "# mathematical operations using mumpy\n",
        "print(d+e)\n",
        "print(d-e)\n",
        "print(d*e)\n",
        "print(d//e)\n",
        "print(10+d)"
      ]
    },
    {
      "cell_type": "code",
      "execution_count": 14,
      "metadata": {
        "colab": {
          "base_uri": "https://localhost:8080/"
        },
        "id": "0051v9gDqABR",
        "outputId": "44a8d3e1-a5be-4a9f-fc90-0559501c748b"
      },
      "outputs": [
        {
          "data": {
            "text/plain": [
              "array([[ 0.        ,  0.14112001,  0.14112001,  0.90929743,  0.90929743],\n",
              "       [-0.7568025 ,  0.        ,  0.14112001,  0.84147098,  0.        ],\n",
              "       [ 0.90929743, -0.7568025 ,  0.14112001,  0.14112001,  0.14112001],\n",
              "       [ 0.14112001,  0.90929743,  0.        , -0.7568025 ,  0.90929743]])"
            ]
          },
          "execution_count": 14,
          "metadata": {},
          "output_type": "execute_result"
        }
      ],
      "source": [
        "# universal functions\n",
        "np.sin(d)"
      ]
    },
    {
      "cell_type": "code",
      "execution_count": 15,
      "metadata": {
        "colab": {
          "base_uri": "https://localhost:8080/"
        },
        "id": "zXrtZ_tirhHe",
        "outputId": "9a70cbab-32ee-4acd-d56b-0c0a8e44edf1"
      },
      "outputs": [
        {
          "name": "stdout",
          "output_type": "stream",
          "text": [
            "[0 1 2 3 4 5]\n",
            "(6,)\n",
            "6\n",
            "1\n"
          ]
        }
      ],
      "source": [
        "# accessing array\n",
        "arr = np.arange(6)\n",
        "print(arr)\n",
        "print(arr.shape)\n",
        "print(arr.size)\n",
        "print(arr.ndim)\n"
      ]
    },
    {
      "cell_type": "code",
      "execution_count": 16,
      "metadata": {
        "colab": {
          "base_uri": "https://localhost:8080/"
        },
        "id": "X1Y4jxBxsa8Z",
        "outputId": "4c9202ce-3d38-4b00-f373-48e5ca0897f7"
      },
      "outputs": [
        {
          "data": {
            "text/plain": [
              "array([2, 3, 4])"
            ]
          },
          "execution_count": 16,
          "metadata": {},
          "output_type": "execute_result"
        }
      ],
      "source": [
        "# slicing\n",
        "arr[2:5]"
      ]
    },
    {
      "cell_type": "code",
      "execution_count": 17,
      "metadata": {
        "colab": {
          "base_uri": "https://localhost:8080/"
        },
        "id": "zOuNqX5_sfXH",
        "outputId": "a8e2bef3-c0bd-44a2-9e9c-989d1060529e"
      },
      "outputs": [
        {
          "data": {
            "text/plain": [
              "array([3, 4, 5])"
            ]
          },
          "execution_count": 17,
          "metadata": {},
          "output_type": "execute_result"
        }
      ],
      "source": [
        "arr[-3:6]"
      ]
    },
    {
      "cell_type": "code",
      "execution_count": 18,
      "metadata": {
        "colab": {
          "base_uri": "https://localhost:8080/"
        },
        "id": "qaydtzX4tYRx",
        "outputId": "7004bc16-6f29-4b92-f91e-f886fd95aa35"
      },
      "outputs": [
        {
          "data": {
            "text/plain": [
              "array([5, 4, 3, 2, 1, 0])"
            ]
          },
          "execution_count": 18,
          "metadata": {},
          "output_type": "execute_result"
        }
      ],
      "source": [
        "arr[::-1]"
      ]
    },
    {
      "cell_type": "code",
      "execution_count": 19,
      "metadata": {
        "colab": {
          "base_uri": "https://localhost:8080/"
        },
        "id": "ElwJnhrbtglf",
        "outputId": "028865fc-f073-4e5b-d3d5-3a0c3c8bfe93"
      },
      "outputs": [
        {
          "data": {
            "text/plain": [
              "array([0, 2, 4])"
            ]
          },
          "execution_count": 19,
          "metadata": {},
          "output_type": "execute_result"
        }
      ],
      "source": [
        "arr[::2]"
      ]
    },
    {
      "cell_type": "code",
      "execution_count": 20,
      "metadata": {
        "colab": {
          "base_uri": "https://localhost:8080/"
        },
        "id": "3Ecv1kKutp6f",
        "outputId": "96562333-9cc0-4d90-d831-ef564ec63ab2"
      },
      "outputs": [
        {
          "data": {
            "text/plain": [
              "array([[0, 1, 2],\n",
              "       [3, 4, 5]])"
            ]
          },
          "execution_count": 20,
          "metadata": {},
          "output_type": "execute_result"
        }
      ],
      "source": [
        "arr2 = arr.reshape(2,3)\n",
        "arr2"
      ]
    },
    {
      "cell_type": "code",
      "execution_count": 21,
      "metadata": {
        "colab": {
          "base_uri": "https://localhost:8080/"
        },
        "id": "o7R_1CBguT9O",
        "outputId": "16834f39-ab05-4121-b4f5-87914da2c71c"
      },
      "outputs": [
        {
          "data": {
            "text/plain": [
              "array([1, 2])"
            ]
          },
          "execution_count": 21,
          "metadata": {},
          "output_type": "execute_result"
        }
      ],
      "source": [
        "arr2[0, 1:3]"
      ]
    },
    {
      "cell_type": "code",
      "execution_count": 22,
      "metadata": {
        "colab": {
          "base_uri": "https://localhost:8080/"
        },
        "id": "G-jdilH4udGe",
        "outputId": "663b0f43-d710-4c7f-e269-72d29974fe5c"
      },
      "outputs": [
        {
          "data": {
            "text/plain": [
              "array([[1, 2],\n",
              "       [4, 5]])"
            ]
          },
          "execution_count": 22,
          "metadata": {},
          "output_type": "execute_result"
        }
      ],
      "source": [
        "arr2[:,1: ]"
      ]
    },
    {
      "cell_type": "code",
      "execution_count": 23,
      "metadata": {
        "colab": {
          "base_uri": "https://localhost:8080/"
        },
        "id": "IvbPgVhSvire",
        "outputId": "ee310f40-e493-4ef8-9349-949cffeb0aca"
      },
      "outputs": [
        {
          "data": {
            "text/plain": [
              "array([[ 0,  1,  2,  3,  4],\n",
              "       [ 5,  6,  7,  8,  9],\n",
              "       [10, 11, 12, 13, 14],\n",
              "       [15, 16, 17, 18, 19],\n",
              "       [20, 21, 22, 23, 24]])"
            ]
          },
          "execution_count": 23,
          "metadata": {},
          "output_type": "execute_result"
        }
      ],
      "source": [
        "ex1 = np.arange(25).reshape(5,5)\n",
        "ex1"
      ]
    },
    {
      "cell_type": "code",
      "execution_count": 24,
      "metadata": {
        "colab": {
          "base_uri": "https://localhost:8080/"
        },
        "id": "tn-Jk_uJwbH_",
        "outputId": "12f94dd5-f4db-41d8-d4b0-daa6238aec93"
      },
      "outputs": [
        {
          "data": {
            "text/plain": [
              "array([20, 21, 22, 23, 24])"
            ]
          },
          "execution_count": 24,
          "metadata": {},
          "output_type": "execute_result"
        }
      ],
      "source": [
        "# select last rows\n",
        "ex1[4:]\n",
        "ex1[-1, :]"
      ]
    },
    {
      "cell_type": "code",
      "execution_count": 25,
      "metadata": {
        "colab": {
          "base_uri": "https://localhost:8080/"
        },
        "id": "3K0frW3Gwoma",
        "outputId": "782ca9e9-a55c-472b-aff9-201d63d96529"
      },
      "outputs": [
        {
          "data": {
            "text/plain": [
              "array([[ 2],\n",
              "       [ 7],\n",
              "       [12],\n",
              "       [17],\n",
              "       [22]])"
            ]
          },
          "execution_count": 25,
          "metadata": {},
          "output_type": "execute_result"
        }
      ],
      "source": [
        "# select 2,7,12,17,22\n",
        "ex1[:5,2:3]"
      ]
    },
    {
      "cell_type": "code",
      "execution_count": 26,
      "metadata": {
        "colab": {
          "base_uri": "https://localhost:8080/"
        },
        "id": "8ztHMcbpxbxR",
        "outputId": "04e4c20a-9ecc-40c5-c21c-6041ad6e1206"
      },
      "outputs": [
        {
          "data": {
            "text/plain": [
              "array([ 0,  6, 12, 18, 24])"
            ]
          },
          "execution_count": 26,
          "metadata": {},
          "output_type": "execute_result"
        }
      ],
      "source": [
        "np.diag(ex1)"
      ]
    },
    {
      "cell_type": "code",
      "execution_count": 27,
      "metadata": {
        "colab": {
          "base_uri": "https://localhost:8080/"
        },
        "id": "VrNS2k80ynHL",
        "outputId": "9902cc92-c6a3-4baa-e850-1bd7ee42caab"
      },
      "outputs": [
        {
          "data": {
            "text/plain": [
              "array([[ 1,  3],\n",
              "       [ 6,  8],\n",
              "       [11, 13],\n",
              "       [16, 18],\n",
              "       [21, 23]])"
            ]
          },
          "execution_count": 27,
          "metadata": {},
          "output_type": "execute_result"
        }
      ],
      "source": [
        "# select 2nd and 4th column\n",
        "ex1[:,1::2]"
      ]
    },
    {
      "cell_type": "code",
      "execution_count": 28,
      "metadata": {
        "colab": {
          "base_uri": "https://localhost:8080/"
        },
        "id": "BKlzmB4lyrBF",
        "outputId": "cbcada50-817f-447f-b0cf-05de2439085e"
      },
      "outputs": [
        {
          "data": {
            "text/plain": [
              "array([[ 0,  2,  4],\n",
              "       [10, 12, 14],\n",
              "       [20, 22, 24]])"
            ]
          },
          "execution_count": 28,
          "metadata": {},
          "output_type": "execute_result"
        }
      ],
      "source": [
        "ex1[::2,::2]"
      ]
    },
    {
      "cell_type": "code",
      "execution_count": 29,
      "metadata": {
        "colab": {
          "base_uri": "https://localhost:8080/"
        },
        "id": "vMq7SAizzEJh",
        "outputId": "85fc7e37-8ef2-4b5a-91ea-175d9b3cab7f"
      },
      "outputs": [
        {
          "name": "stdout",
          "output_type": "stream",
          "text": [
            "[0 3 2 3 4 5]\n",
            "[0 3 2]\n"
          ]
        }
      ],
      "source": [
        "# view and copy of array\n",
        "a = np.arange(6)\n",
        "# b = a[:3].copy()\n",
        "b = a[:3]\n",
        "b[1] = 3\n",
        "print(a)\n",
        "print(b)"
      ]
    },
    {
      "cell_type": "code",
      "execution_count": 30,
      "metadata": {
        "id": "3sMTxhHm6Pys"
      },
      "outputs": [],
      "source": [
        "import matplotlib.pyplot as plt\n"
      ]
    },
    {
      "cell_type": "code",
      "execution_count": 31,
      "metadata": {
        "colab": {
          "base_uri": "https://localhost:8080/",
          "height": 269
        },
        "id": "SNMzaMjO6Pvn",
        "outputId": "aa4616bb-3963-4387-f5bc-76f5fbd464d7"
      },
      "outputs": [
        {
          "ename": "FileNotFoundError",
          "evalue": "[Errno 2] No such file or directory: '/content/sample_data/dc_metro.png'",
          "output_type": "error",
          "traceback": [
            "\u001b[0;31m---------------------------------------------------------------------------\u001b[0m",
            "\u001b[0;31mFileNotFoundError\u001b[0m                         Traceback (most recent call last)",
            "Input \u001b[0;32mIn [31]\u001b[0m, in \u001b[0;36m<cell line: 2>\u001b[0;34m()\u001b[0m\n\u001b[1;32m      1\u001b[0m path \u001b[38;5;241m=\u001b[39m \u001b[38;5;124m'\u001b[39m\u001b[38;5;124m/content/sample_data/dc_metro.png\u001b[39m\u001b[38;5;124m'\u001b[39m\n\u001b[0;32m----> 2\u001b[0m img \u001b[38;5;241m=\u001b[39m \u001b[43mplt\u001b[49m\u001b[38;5;241;43m.\u001b[39;49m\u001b[43mimread\u001b[49m\u001b[43m(\u001b[49m\u001b[43mpath\u001b[49m\u001b[43m)\u001b[49m\n\u001b[1;32m      3\u001b[0m plt\u001b[38;5;241m.\u001b[39mimshow(img, cmap \u001b[38;5;241m=\u001b[39mplt\u001b[38;5;241m.\u001b[39mcm\u001b[38;5;241m.\u001b[39mhot )\n\u001b[1;32m      4\u001b[0m plt\u001b[38;5;241m.\u001b[39mshow()\n",
            "File \u001b[0;32m~/.local/lib/python3.10/site-packages/matplotlib/pyplot.py:2160\u001b[0m, in \u001b[0;36mimread\u001b[0;34m(fname, format)\u001b[0m\n\u001b[1;32m   2158\u001b[0m \u001b[38;5;129m@_copy_docstring_and_deprecators\u001b[39m(matplotlib\u001b[38;5;241m.\u001b[39mimage\u001b[38;5;241m.\u001b[39mimread)\n\u001b[1;32m   2159\u001b[0m \u001b[38;5;28;01mdef\u001b[39;00m \u001b[38;5;21mimread\u001b[39m(fname, \u001b[38;5;28mformat\u001b[39m\u001b[38;5;241m=\u001b[39m\u001b[38;5;28;01mNone\u001b[39;00m):\n\u001b[0;32m-> 2160\u001b[0m     \u001b[38;5;28;01mreturn\u001b[39;00m \u001b[43mmatplotlib\u001b[49m\u001b[38;5;241;43m.\u001b[39;49m\u001b[43mimage\u001b[49m\u001b[38;5;241;43m.\u001b[39;49m\u001b[43mimread\u001b[49m\u001b[43m(\u001b[49m\u001b[43mfname\u001b[49m\u001b[43m,\u001b[49m\u001b[43m \u001b[49m\u001b[38;5;28;43mformat\u001b[39;49m\u001b[43m)\u001b[49m\n",
            "File \u001b[0;32m~/.local/lib/python3.10/site-packages/matplotlib/image.py:1560\u001b[0m, in \u001b[0;36mimread\u001b[0;34m(fname, format)\u001b[0m\n\u001b[1;32m   1558\u001b[0m                 response \u001b[38;5;241m=\u001b[39m io\u001b[38;5;241m.\u001b[39mBytesIO(response\u001b[38;5;241m.\u001b[39mread())\n\u001b[1;32m   1559\u001b[0m             \u001b[38;5;28;01mreturn\u001b[39;00m imread(response, \u001b[38;5;28mformat\u001b[39m\u001b[38;5;241m=\u001b[39mext)\n\u001b[0;32m-> 1560\u001b[0m \u001b[38;5;28;01mwith\u001b[39;00m \u001b[43mimg_open\u001b[49m\u001b[43m(\u001b[49m\u001b[43mfname\u001b[49m\u001b[43m)\u001b[49m \u001b[38;5;28;01mas\u001b[39;00m image:\n\u001b[1;32m   1561\u001b[0m     \u001b[38;5;28;01mreturn\u001b[39;00m (_pil_png_to_float_array(image)\n\u001b[1;32m   1562\u001b[0m             \u001b[38;5;28;01mif\u001b[39;00m \u001b[38;5;28misinstance\u001b[39m(image, PIL\u001b[38;5;241m.\u001b[39mPngImagePlugin\u001b[38;5;241m.\u001b[39mPngImageFile) \u001b[38;5;28;01melse\u001b[39;00m\n\u001b[1;32m   1563\u001b[0m             pil_to_array(image))\n",
            "File \u001b[0;32m/usr/lib/python3/dist-packages/PIL/ImageFile.py:100\u001b[0m, in \u001b[0;36mImageFile.__init__\u001b[0;34m(self, fp, filename)\u001b[0m\n\u001b[1;32m     96\u001b[0m \u001b[38;5;28mself\u001b[39m\u001b[38;5;241m.\u001b[39mdecodermaxblock \u001b[38;5;241m=\u001b[39m MAXBLOCK\n\u001b[1;32m     98\u001b[0m \u001b[38;5;28;01mif\u001b[39;00m isPath(fp):\n\u001b[1;32m     99\u001b[0m     \u001b[38;5;66;03m# filename\u001b[39;00m\n\u001b[0;32m--> 100\u001b[0m     \u001b[38;5;28mself\u001b[39m\u001b[38;5;241m.\u001b[39mfp \u001b[38;5;241m=\u001b[39m \u001b[38;5;28;43mopen\u001b[39;49m\u001b[43m(\u001b[49m\u001b[43mfp\u001b[49m\u001b[43m,\u001b[49m\u001b[43m \u001b[49m\u001b[38;5;124;43m\"\u001b[39;49m\u001b[38;5;124;43mrb\u001b[39;49m\u001b[38;5;124;43m\"\u001b[39;49m\u001b[43m)\u001b[49m\n\u001b[1;32m    101\u001b[0m     \u001b[38;5;28mself\u001b[39m\u001b[38;5;241m.\u001b[39mfilename \u001b[38;5;241m=\u001b[39m fp\n\u001b[1;32m    102\u001b[0m     \u001b[38;5;28mself\u001b[39m\u001b[38;5;241m.\u001b[39m_exclusive_fp \u001b[38;5;241m=\u001b[39m \u001b[38;5;28;01mTrue\u001b[39;00m\n",
            "\u001b[0;31mFileNotFoundError\u001b[0m: [Errno 2] No such file or directory: '/content/sample_data/dc_metro.png'"
          ]
        }
      ],
      "source": [
        "path = ''\n",
        "img = plt.imread(path)\n",
        "plt.imshow(img, cmap =plt.cm.hot )\n",
        "plt.show()"
      ]
    },
    {
      "cell_type": "code",
      "execution_count": null,
      "metadata": {
        "id": "ZNFgub9-6HVE"
      },
      "outputs": [],
      "source": [
        "top = img[:-2, 1:-1]\n",
        "left = img[1:-1, 0:-2]\n",
        "bottom = img[2:, 1:-1]\n",
        "right = img[1:-1, :-2]\n",
        "center = img[1:-1, 1:-1]"
      ]
    },
    {
      "cell_type": "code",
      "execution_count": null,
      "metadata": {
        "colab": {
          "base_uri": "https://localhost:8080/",
          "height": 269
        },
        "id": "mCVKKnjn-DN_",
        "outputId": "108b521c-14f3-4063-e449-a03c0ae240e2"
      },
      "outputs": [
        {
          "data": {
            "image/png": "[encoded data removed]",
            "text/plain": [
              "<Figure size 432x288 with 1 Axes>"
            ]
          },
          "metadata": {
            "needs_background": "light"
          },
          "output_type": "display_data"
        }
      ],
      "source": [
        "blurred = (top+left+bottom+right+center)/5.0\n",
        "plt.figure()\n",
        "plt.imshow(blurred, cmap=plt.cm.hot)\n",
        "plt.show()"
      ]
    },
    {
      "cell_type": "code",
      "execution_count": null,
      "metadata": {
        "id": "bal5Ia4i-cCp"
      },
      "outputs": [],
      "source": []
    }
  ],
  "metadata": {
    "colab": {
      "authorship_tag": "ABX9TyPX6OMHZorw5SKRaAABoADt",
      "collapsed_sections": [],
      "include_colab_link": true,
      "name": "Introduction to Numerical Computing with NumPy(Part-1).ipynb",
      "provenance": []
    },
    "kernelspec": {
      "display_name": "Python 3",
      "name": "python3"
    },
    "language_info": {
      "codemirror_mode": {
        "name": "ipython",
        "version": 3
      },
      "file_extension": ".py",
      "mimetype": "text/x-python",
      "name": "python",
      "nbconvert_exporter": "python",
      "pygments_lexer": "ipython3",
      "version": "3.10.12"
    }
  },
  "nbformat": 4,
  "nbformat_minor": 0
}
