{
  "nbformat": 4,
  "nbformat_minor": 0,
  "metadata": {
    "colab": {
      "name": "Complete Numpy Tutorial in Python.ipynb",
      "provenance": [],
      "authorship_tag": "ABX9TyO1yYETG+WrGCkdz9d6c0og",
      "include_colab_link": true
    },
    "kernelspec": {
      "name": "python3",
      "display_name": "Python 3"
    },
    "language_info": {
      "name": "python"
    }
  },
  "cells": [
    {
      "cell_type": "markdown",
      "metadata": {
        "id": "view-in-github",
        "colab_type": "text"
      },
      "source": [
        "<a href=\"https://colab.research.google.com/github/AnantaJoy/numpy_basics/blob/main/Complete_Numpy_Tutorial_in_Python.ipynb\" target=\"_parent\"><img src=\"https://colab.research.google.com/assets/colab-badge.svg\" alt=\"Open In Colab\"/></a>"
      ]
    },
    {
      "cell_type": "code",
      "execution_count": 5,
      "metadata": {
        "id": "t-tvJIE3W6RH"
      },
      "outputs": [],
      "source": [
        "import numpy as np\n",
        "import timeit\n"
      ]
    },
    {
      "cell_type": "code",
      "source": [
        "# version of numpy\n",
        "print(np.__version__)"
      ],
      "metadata": {
        "colab": {
          "base_uri": "https://localhost:8080/"
        },
        "id": "fqq2URQeXJAG",
        "outputId": "cacf1da3-91ac-48b7-e988-dd85f3e8a8d5"
      },
      "execution_count": 35,
      "outputs": [
        {
          "output_type": "stream",
          "name": "stdout",
          "text": [
            "1.21.6\n"
          ]
        }
      ]
    },
    {
      "cell_type": "code",
      "source": [
        "\n",
        "%timeit python_list = [i*i for i in range(10000) ]\n",
        "%timeit python_arr = np.array([i*i for i in range(10000)])"
      ],
      "metadata": {
        "colab": {
          "base_uri": "https://localhost:8080/"
        },
        "id": "O5Lc3bT6PvQu",
        "outputId": "b6971d1d-af33-41d3-fe0d-df5fde3e4ad3"
      },
      "execution_count": 10,
      "outputs": [
        {
          "output_type": "stream",
          "name": "stdout",
          "text": [
            "1000 loops, best of 5: 773 µs per loop\n",
            "1000 loops, best of 5: 1.42 ms per loop\n"
          ]
        }
      ]
    },
    {
      "cell_type": "code",
      "source": [
        "from time import process_time\n",
        "start_time = process_time()\n",
        "python_list = [i*i for i in range(1000000) ]\n",
        "end_time = process_time()\n",
        "print(f\"Execution of the program {end_time - start_time}\") \n",
        "\n"
      ],
      "metadata": {
        "colab": {
          "base_uri": "https://localhost:8080/"
        },
        "id": "1GozEG2USOll",
        "outputId": "9e5ae5da-9884-4415-9939-d85f6e6738fb"
      },
      "execution_count": 33,
      "outputs": [
        {
          "output_type": "stream",
          "name": "stdout",
          "text": [
            "Execution of the program 0.11523029600000001\n"
          ]
        }
      ]
    },
    {
      "cell_type": "code",
      "source": [
        "start = process_time()\n",
        "python_arry = np.array([i*i for i in range(1000000)])\n",
        "end = process_time()\n",
        "print(f\"Execution of the program {end - start}\") "
      ],
      "metadata": {
        "colab": {
          "base_uri": "https://localhost:8080/"
        },
        "id": "cQyf32coSsKG",
        "outputId": "e73b0b62-5f3d-44ed-9bb3-11bc67ea3129"
      },
      "execution_count": 34,
      "outputs": [
        {
          "output_type": "stream",
          "name": "stdout",
          "text": [
            "Execution of the program 0.2233915399999944\n"
          ]
        }
      ]
    },
    {
      "cell_type": "code",
      "source": [
        "import random\n",
        "# create a random matrix with size 4x5\n",
        "python_arr = np.random.randint(20, size=(4,5))\n",
        "python_arr1 = np.random.randint(5, size=10)"
      ],
      "metadata": {
        "id": "IzYBZXvbXlqu"
      },
      "execution_count": 46,
      "outputs": []
    },
    {
      "cell_type": "code",
      "source": [
        "# access elements\n",
        "python_arr1[5:10]"
      ],
      "metadata": {
        "colab": {
          "base_uri": "https://localhost:8080/"
        },
        "id": "fV-Yao8gZlsi",
        "outputId": "feeb8450-bc52-4275-8b01-4ef7857122e3"
      },
      "execution_count": 48,
      "outputs": [
        {
          "output_type": "execute_result",
          "data": {
            "text/plain": [
              "array([4, 4, 2, 1, 2])"
            ]
          },
          "metadata": {},
          "execution_count": 48
        }
      ]
    },
    {
      "cell_type": "code",
      "source": [
        "# shape of an array\n",
        "python_arr.shape"
      ],
      "metadata": {
        "colab": {
          "base_uri": "https://localhost:8080/"
        },
        "id": "dMvrPk3FXVm6",
        "outputId": "1c8b9dcc-1905-45c9-9379-553e9869b352"
      },
      "execution_count": 40,
      "outputs": [
        {
          "output_type": "execute_result",
          "data": {
            "text/plain": [
              "(4, 5)"
            ]
          },
          "metadata": {},
          "execution_count": 40
        }
      ]
    },
    {
      "cell_type": "code",
      "source": [
        "# size of array\n",
        "python_arr.size"
      ],
      "metadata": {
        "colab": {
          "base_uri": "https://localhost:8080/"
        },
        "id": "wtsfWfz9XdRT",
        "outputId": "d100a324-ab60-42f8-bd1d-5e8a6aa59a8f"
      },
      "execution_count": 41,
      "outputs": [
        {
          "output_type": "execute_result",
          "data": {
            "text/plain": [
              "20"
            ]
          },
          "metadata": {},
          "execution_count": 41
        }
      ]
    },
    {
      "cell_type": "code",
      "source": [
        "# data type of the array\n",
        "python_arr.dtype\n"
      ],
      "metadata": {
        "colab": {
          "base_uri": "https://localhost:8080/"
        },
        "id": "rgNgrulEYjJB",
        "outputId": "0d1d2cb2-b38f-4430-eabd-4e10575ac29d"
      },
      "execution_count": 43,
      "outputs": [
        {
          "output_type": "execute_result",
          "data": {
            "text/plain": [
              "dtype('int64')"
            ]
          },
          "metadata": {},
          "execution_count": 43
        }
      ]
    },
    {
      "cell_type": "code",
      "source": [
        "# dimension of the array\n",
        "python_arr.ndim"
      ],
      "metadata": {
        "colab": {
          "base_uri": "https://localhost:8080/"
        },
        "id": "uegAdcFaYpbw",
        "outputId": "91170012-adf9-4c20-c9d3-eb7f7ce059b1"
      },
      "execution_count": 44,
      "outputs": [
        {
          "output_type": "execute_result",
          "data": {
            "text/plain": [
              "2"
            ]
          },
          "metadata": {},
          "execution_count": 44
        }
      ]
    },
    {
      "cell_type": "code",
      "source": [
        "# size of each items\n",
        "print(f\"{python_arr.itemsize} bytes\")"
      ],
      "metadata": {
        "colab": {
          "base_uri": "https://localhost:8080/"
        },
        "id": "xnFwT55aY122",
        "outputId": "90282313-7beb-4e8c-bad2-21485ef5b8f1"
      },
      "execution_count": 45,
      "outputs": [
        {
          "output_type": "stream",
          "name": "stdout",
          "text": [
            "8 bytes\n"
          ]
        }
      ]
    },
    {
      "cell_type": "code",
      "source": [
        "python_arr"
      ],
      "metadata": {
        "colab": {
          "base_uri": "https://localhost:8080/"
        },
        "id": "WAbZyVJtZ31g",
        "outputId": "1f73a8cf-94cd-471c-c904-d9d499bf068b"
      },
      "execution_count": 50,
      "outputs": [
        {
          "output_type": "execute_result",
          "data": {
            "text/plain": [
              "array([[ 6,  9,  9, 18, 16],\n",
              "       [12, 16, 18, 12, 16],\n",
              "       [11,  8,  9, 11, 15],\n",
              "       [ 4,  7,  3, 18, 13]])"
            ]
          },
          "metadata": {},
          "execution_count": 50
        }
      ]
    },
    {
      "cell_type": "code",
      "source": [
        "python_arr[2][2]"
      ],
      "metadata": {
        "colab": {
          "base_uri": "https://localhost:8080/"
        },
        "id": "RU21pvavZOFC",
        "outputId": "1da3b080-66b6-42ec-de2a-0fe528037861"
      },
      "execution_count": 49,
      "outputs": [
        {
          "output_type": "execute_result",
          "data": {
            "text/plain": [
              "9"
            ]
          },
          "metadata": {},
          "execution_count": 49
        }
      ]
    },
    {
      "cell_type": "code",
      "source": [
        ""
      ],
      "metadata": {
        "id": "eEiX9PuSZ04R"
      },
      "execution_count": null,
      "outputs": []
    }
  ]
}