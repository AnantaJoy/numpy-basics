{
  "nbformat": 4,
  "nbformat_minor": 0,
  "metadata": {
    "colab": {
      "name": "Complete Numpy Tutorial in Python.ipynb",
      "provenance": [],
      "authorship_tag": "ABX9TyORo/3eER8QCR3pDNp3wJD7",
      "include_colab_link": true
    },
    "kernelspec": {
      "name": "python3",
      "display_name": "Python 3"
    },
    "language_info": {
      "name": "python"
    },
    "accelerator": "GPU",
    "gpuClass": "standard"
  },
  "cells": [
    {
      "cell_type": "markdown",
      "metadata": {
        "id": "view-in-github",
        "colab_type": "text"
      },
      "source": [
        "<a href=\"https://colab.research.google.com/github/AnantaJoy/numpy_basics/blob/main/Complete_Numpy_Tutorial_in_Python.ipynb\" target=\"_parent\"><img src=\"https://colab.research.google.com/assets/colab-badge.svg\" alt=\"Open In Colab\"/></a>"
      ]
    },
    {
      "cell_type": "code",
      "execution_count": 2,
      "metadata": {
        "id": "t-tvJIE3W6RH"
      },
      "outputs": [],
      "source": [
        "import numpy as np\n",
        "import timeit\n"
      ]
    },
    {
      "cell_type": "code",
      "source": [
        "# version of numpy\n",
        "print(np.__version__)"
      ],
      "metadata": {
        "colab": {
          "base_uri": "https://localhost:8080/"
        },
        "id": "fqq2URQeXJAG",
        "outputId": "cacf1da3-91ac-48b7-e988-dd85f3e8a8d5"
      },
      "execution_count": 35,
      "outputs": [
        {
          "output_type": "stream",
          "name": "stdout",
          "text": [
            "1.21.6\n"
          ]
        }
      ]
    },
    {
      "cell_type": "code",
      "source": [
        "\n",
        "%timeit python_list = [i*i for i in range(10000) ]\n",
        "%timeit python_arr = np.array([i*i for i in range(10000)])"
      ],
      "metadata": {
        "colab": {
          "base_uri": "https://localhost:8080/"
        },
        "id": "O5Lc3bT6PvQu",
        "outputId": "9df0dc92-ba89-4c61-dede-40d2b2e1d521"
      },
      "execution_count": 54,
      "outputs": [
        {
          "output_type": "stream",
          "name": "stdout",
          "text": [
            "1000 loops, best of 5: 766 µs per loop\n",
            "1000 loops, best of 5: 1.42 ms per loop\n"
          ]
        }
      ]
    },
    {
      "cell_type": "code",
      "source": [
        "from time import process_time\n",
        "start_time = process_time()\n",
        "python_list = [i*i for i in range(1000000) ]\n",
        "end_time = process_time()\n",
        "print(f\"Execution of the program {end_time - start_time}\") \n",
        "\n"
      ],
      "metadata": {
        "colab": {
          "base_uri": "https://localhost:8080/"
        },
        "id": "1GozEG2USOll",
        "outputId": "53b9f3d9-4c22-4cd3-a18e-ac6a60fbf10c"
      },
      "execution_count": 55,
      "outputs": [
        {
          "output_type": "stream",
          "name": "stdout",
          "text": [
            "Execution of the program 0.11151411600000216\n"
          ]
        }
      ]
    },
    {
      "cell_type": "code",
      "source": [
        "start = process_time()\n",
        "python_arry = np.array([i*i for i in range(1000000)])\n",
        "end = process_time()\n",
        "print(f\"Execution of the program {end - start}\") "
      ],
      "metadata": {
        "colab": {
          "base_uri": "https://localhost:8080/"
        },
        "id": "cQyf32coSsKG",
        "outputId": "41a4aa01-6677-4152-9808-d80e589db39b"
      },
      "execution_count": 56,
      "outputs": [
        {
          "output_type": "stream",
          "name": "stdout",
          "text": [
            "Execution of the program 0.23319631100000038\n"
          ]
        }
      ]
    },
    {
      "cell_type": "code",
      "source": [
        "\n",
        "# create a random matrix with size 4x5\n",
        "python_arr = np.random.randint(20, size=(4,5))\n",
        "python_arr1 = np.random.randint(5, size=10)"
      ],
      "metadata": {
        "id": "IzYBZXvbXlqu"
      },
      "execution_count": 57,
      "outputs": []
    },
    {
      "cell_type": "code",
      "source": [
        "# access elements\n",
        "python_arr1[5:10]"
      ],
      "metadata": {
        "colab": {
          "base_uri": "https://localhost:8080/"
        },
        "id": "fV-Yao8gZlsi",
        "outputId": "feeb8450-bc52-4275-8b01-4ef7857122e3"
      },
      "execution_count": 48,
      "outputs": [
        {
          "output_type": "execute_result",
          "data": {
            "text/plain": [
              "array([4, 4, 2, 1, 2])"
            ]
          },
          "metadata": {},
          "execution_count": 48
        }
      ]
    },
    {
      "cell_type": "code",
      "source": [
        "# shape of an array\n",
        "python_arr.shape"
      ],
      "metadata": {
        "colab": {
          "base_uri": "https://localhost:8080/"
        },
        "id": "dMvrPk3FXVm6",
        "outputId": "1c8b9dcc-1905-45c9-9379-553e9869b352"
      },
      "execution_count": 40,
      "outputs": [
        {
          "output_type": "execute_result",
          "data": {
            "text/plain": [
              "(4, 5)"
            ]
          },
          "metadata": {},
          "execution_count": 40
        }
      ]
    },
    {
      "cell_type": "code",
      "source": [
        "# size of array\n",
        "python_arr.size"
      ],
      "metadata": {
        "colab": {
          "base_uri": "https://localhost:8080/"
        },
        "id": "wtsfWfz9XdRT",
        "outputId": "d100a324-ab60-42f8-bd1d-5e8a6aa59a8f"
      },
      "execution_count": 41,
      "outputs": [
        {
          "output_type": "execute_result",
          "data": {
            "text/plain": [
              "20"
            ]
          },
          "metadata": {},
          "execution_count": 41
        }
      ]
    },
    {
      "cell_type": "code",
      "source": [
        "# data type of the array\n",
        "python_arr.dtype\n"
      ],
      "metadata": {
        "colab": {
          "base_uri": "https://localhost:8080/"
        },
        "id": "rgNgrulEYjJB",
        "outputId": "0d1d2cb2-b38f-4430-eabd-4e10575ac29d"
      },
      "execution_count": 43,
      "outputs": [
        {
          "output_type": "execute_result",
          "data": {
            "text/plain": [
              "dtype('int64')"
            ]
          },
          "metadata": {},
          "execution_count": 43
        }
      ]
    },
    {
      "cell_type": "code",
      "source": [
        "# dimension of the array\n",
        "python_arr.ndim"
      ],
      "metadata": {
        "colab": {
          "base_uri": "https://localhost:8080/"
        },
        "id": "uegAdcFaYpbw",
        "outputId": "91170012-adf9-4c20-c9d3-eb7f7ce059b1"
      },
      "execution_count": 44,
      "outputs": [
        {
          "output_type": "execute_result",
          "data": {
            "text/plain": [
              "2"
            ]
          },
          "metadata": {},
          "execution_count": 44
        }
      ]
    },
    {
      "cell_type": "code",
      "source": [
        "# size of each items\n",
        "print(f\"{python_arr.itemsize} bytes\")"
      ],
      "metadata": {
        "colab": {
          "base_uri": "https://localhost:8080/"
        },
        "id": "xnFwT55aY122",
        "outputId": "90282313-7beb-4e8c-bad2-21485ef5b8f1"
      },
      "execution_count": 45,
      "outputs": [
        {
          "output_type": "stream",
          "name": "stdout",
          "text": [
            "8 bytes\n"
          ]
        }
      ]
    },
    {
      "cell_type": "code",
      "source": [
        "python_arr"
      ],
      "metadata": {
        "colab": {
          "base_uri": "https://localhost:8080/"
        },
        "id": "WAbZyVJtZ31g",
        "outputId": "1f73a8cf-94cd-471c-c904-d9d499bf068b"
      },
      "execution_count": 50,
      "outputs": [
        {
          "output_type": "execute_result",
          "data": {
            "text/plain": [
              "array([[ 6,  9,  9, 18, 16],\n",
              "       [12, 16, 18, 12, 16],\n",
              "       [11,  8,  9, 11, 15],\n",
              "       [ 4,  7,  3, 18, 13]])"
            ]
          },
          "metadata": {},
          "execution_count": 50
        }
      ]
    },
    {
      "cell_type": "code",
      "source": [
        "python_arr[2][2]"
      ],
      "metadata": {
        "colab": {
          "base_uri": "https://localhost:8080/"
        },
        "id": "RU21pvavZOFC",
        "outputId": "1da3b080-66b6-42ec-de2a-0fe528037861"
      },
      "execution_count": 49,
      "outputs": [
        {
          "output_type": "execute_result",
          "data": {
            "text/plain": [
              "9"
            ]
          },
          "metadata": {},
          "execution_count": 49
        }
      ]
    },
    {
      "cell_type": "code",
      "source": [
        "python_arr[:,2]"
      ],
      "metadata": {
        "colab": {
          "base_uri": "https://localhost:8080/"
        },
        "id": "eEiX9PuSZ04R",
        "outputId": "ccb7f1d6-732d-45ee-8a04-e732aa03ad91"
      },
      "execution_count": 51,
      "outputs": [
        {
          "output_type": "execute_result",
          "data": {
            "text/plain": [
              "array([ 9, 18,  9,  3])"
            ]
          },
          "metadata": {},
          "execution_count": 51
        }
      ]
    },
    {
      "cell_type": "code",
      "source": [
        "python_arr[:,-1]"
      ],
      "metadata": {
        "colab": {
          "base_uri": "https://localhost:8080/"
        },
        "id": "zozLuZdea0DK",
        "outputId": "d4d7f004-e606-41df-d927-e2c8f1111dd8"
      },
      "execution_count": 53,
      "outputs": [
        {
          "output_type": "execute_result",
          "data": {
            "text/plain": [
              "array([16, 16, 15, 13])"
            ]
          },
          "metadata": {},
          "execution_count": 53
        }
      ]
    },
    {
      "cell_type": "markdown",
      "source": [
        "## Mathematical Operations in Numpy"
      ],
      "metadata": {
        "id": "FyflfMCqa_55"
      }
    },
    {
      "cell_type": "code",
      "source": [
        "arr1 = np.random.randint(5, size=6)\n",
        "arr2 = np.random.randint(5,size=6)\n",
        "print(arr1)\n",
        "print(arr2)"
      ],
      "metadata": {
        "colab": {
          "base_uri": "https://localhost:8080/"
        },
        "id": "5qxaW_pNa6iB",
        "outputId": "aa9acb35-0c44-4c5e-9bc9-2d017a1bd3e9"
      },
      "execution_count": 63,
      "outputs": [
        {
          "output_type": "stream",
          "name": "stdout",
          "text": [
            "[0 1 2 1 4 0]\n",
            "[0 4 3 3 4 3]\n"
          ]
        }
      ]
    },
    {
      "cell_type": "code",
      "source": [
        "arr1==arr2"
      ],
      "metadata": {
        "colab": {
          "base_uri": "https://localhost:8080/"
        },
        "id": "WB6OJzn6b0OB",
        "outputId": "db279dc0-1fe7-485c-a021-b2a7fd414092"
      },
      "execution_count": 66,
      "outputs": [
        {
          "output_type": "execute_result",
          "data": {
            "text/plain": [
              "array([ True, False, False, False,  True, False])"
            ]
          },
          "metadata": {},
          "execution_count": 66
        }
      ]
    },
    {
      "cell_type": "code",
      "source": [
        "# elementwise addition\n",
        "arr3 = arr1+arr2\n",
        "arr3"
      ],
      "metadata": {
        "colab": {
          "base_uri": "https://localhost:8080/"
        },
        "id": "Sa4Ie3CMb2bB",
        "outputId": "36903147-2c2c-485b-da42-5ee3714f112f"
      },
      "execution_count": 65,
      "outputs": [
        {
          "output_type": "execute_result",
          "data": {
            "text/plain": [
              "array([0, 5, 5, 4, 8, 3])"
            ]
          },
          "metadata": {},
          "execution_count": 65
        }
      ]
    },
    {
      "cell_type": "code",
      "source": [
        "# elementwise multiplication\n",
        "arr4 = arr1 * arr2\n",
        "print(arr4)\n",
        "print(arr4.dtype)\n",
        "np.sum(arr4)"
      ],
      "metadata": {
        "colab": {
          "base_uri": "https://localhost:8080/"
        },
        "id": "pJS6gLsHb8FK",
        "outputId": "9d7cf5c5-8da8-4ab0-a5d0-a84d65fc60be"
      },
      "execution_count": 79,
      "outputs": [
        {
          "output_type": "stream",
          "name": "stdout",
          "text": [
            "[ 0  4  6  3 16  0]\n",
            "int64\n"
          ]
        },
        {
          "output_type": "execute_result",
          "data": {
            "text/plain": [
              "29"
            ]
          },
          "metadata": {},
          "execution_count": 79
        }
      ]
    },
    {
      "cell_type": "code",
      "source": [
        "arr_sqrt = np.sqrt(arr4)\n",
        "print(arr_sqrt)\n",
        "arr_sqrt.dtype\n"
      ],
      "metadata": {
        "colab": {
          "base_uri": "https://localhost:8080/"
        },
        "id": "sGK1WYUUcViZ",
        "outputId": "5128fa8f-1892-4a78-897a-727207736766"
      },
      "execution_count": 75,
      "outputs": [
        {
          "output_type": "stream",
          "name": "stdout",
          "text": [
            "[0.         2.         2.44948974 1.73205081 4.         0.        ]\n"
          ]
        },
        {
          "output_type": "execute_result",
          "data": {
            "text/plain": [
              "dtype('float64')"
            ]
          },
          "metadata": {},
          "execution_count": 75
        }
      ]
    },
    {
      "cell_type": "code",
      "source": [
        "# dot product of arr1 and arr2\n",
        "dot_arr = np.dot(arr1, arr2)\n",
        "print(dot_arr)\n",
        "print(np.sum(arr4))\n",
        "print(arr1@arr2)"
      ],
      "metadata": {
        "colab": {
          "base_uri": "https://localhost:8080/"
        },
        "id": "4zdRZJOick3g",
        "outputId": "97c0d0ec-e3d8-4202-c0c8-c87c7ae86883"
      },
      "execution_count": 80,
      "outputs": [
        {
          "output_type": "stream",
          "name": "stdout",
          "text": [
            "29\n",
            "29\n",
            "29\n"
          ]
        }
      ]
    },
    {
      "cell_type": "code",
      "source": [
        "# inverse of a matrix\n",
        "mat1 = np.random.randint(5, size=(3,3))\n",
        "inverse = np.linalg.inv(mat1)\n",
        "inverse"
      ],
      "metadata": {
        "colab": {
          "base_uri": "https://localhost:8080/"
        },
        "id": "Xpg-aqxDcuUx",
        "outputId": "eba9383c-a427-4df5-f84d-e75127773d2a"
      },
      "execution_count": 8,
      "outputs": [
        {
          "output_type": "execute_result",
          "data": {
            "text/plain": [
              "array([[ 1. ,  0. , -1.5],\n",
              "       [-1. ,  1. ,  0. ],\n",
              "       [ 1. , -1. ,  0.5]])"
            ]
          },
          "metadata": {},
          "execution_count": 8
        }
      ]
    },
    {
      "cell_type": "code",
      "source": [
        "# determinant of a matrix\n",
        "det = np.linalg.det(mat1)"
      ],
      "metadata": {
        "colab": {
          "base_uri": "https://localhost:8080/"
        },
        "id": "5Qv0e3SPi6sI",
        "outputId": "f5a9bf29-3d22-4151-ea00-53a2bb467975"
      },
      "execution_count": 4,
      "outputs": [
        {
          "output_type": "execute_result",
          "data": {
            "text/plain": [
              "4.0"
            ]
          },
          "metadata": {},
          "execution_count": 4
        }
      ]
    },
    {
      "cell_type": "code",
      "source": [
        "# diagonal of the matrix\n",
        "diag = np.diag(inverse)\n",
        "np.diag(diag)"
      ],
      "metadata": {
        "colab": {
          "base_uri": "https://localhost:8080/"
        },
        "id": "iupK0w5jjlRj",
        "outputId": "0ffa0c8f-77ac-42b7-fce0-50612de59fbb"
      },
      "execution_count": 11,
      "outputs": [
        {
          "output_type": "execute_result",
          "data": {
            "text/plain": [
              "array([[1. , 0. , 0. ],\n",
              "       [0. , 1. , 0. ],\n",
              "       [0. , 0. , 0.5]])"
            ]
          },
          "metadata": {},
          "execution_count": 11
        }
      ]
    },
    {
      "cell_type": "markdown",
      "source": [
        "## Slicing of an array"
      ],
      "metadata": {
        "id": "bzh4WO6xkEeZ"
      }
    },
    {
      "cell_type": "code",
      "source": [
        "arr_A = np.random.randint(3, size = (3,4))\n",
        "arr_A"
      ],
      "metadata": {
        "colab": {
          "base_uri": "https://localhost:8080/"
        },
        "id": "Rj6sq50VkMKj",
        "outputId": "068fa9f3-f884-457f-c1bc-95126c2e7be7"
      },
      "execution_count": 13,
      "outputs": [
        {
          "output_type": "execute_result",
          "data": {
            "text/plain": [
              "array([[2, 1, 0, 2],\n",
              "       [1, 0, 2, 2],\n",
              "       [0, 0, 0, 1]])"
            ]
          },
          "metadata": {},
          "execution_count": 13
        }
      ]
    },
    {
      "cell_type": "code",
      "source": [
        ""
      ],
      "metadata": {
        "id": "2csfQbcvkh3N"
      },
      "execution_count": null,
      "outputs": []
    }
  ]
}