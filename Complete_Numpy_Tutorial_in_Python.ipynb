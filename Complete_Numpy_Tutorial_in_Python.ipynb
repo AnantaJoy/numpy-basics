{
 "cells": [
  {
   "cell_type": "markdown",
   "metadata": {
    "colab_type": "text",
    "id": "view-in-github"
   },
   "source": [
    "<a href=\"https://colab.research.google.com/github/AnantaJoy/numpy_basics/blob/main/Complete_Numpy_Tutorial_in_Python.ipynb\" target=\"_parent\"><img src=\"https://colab.research.google.com/assets/colab-badge.svg\" alt=\"Open In Colab\"/></a>"
   ]
  },
  {
   "cell_type": "code",
   "execution_count": 2,
   "metadata": {
    "id": "t-tvJIE3W6RH"
   },
   "outputs": [],
   "source": [
    "import numpy as np\n",
    "import timeit\n"
   ]
  },
  {
   "cell_type": "code",
   "execution_count": 3,
   "metadata": {
    "colab": {
     "base_uri": "https://localhost:8080/"
    },
    "id": "fqq2URQeXJAG",
    "outputId": "34a01417-5b4a-414b-b0a4-0e7648915ac8"
   },
   "outputs": [
    {
     "name": "stdout",
     "output_type": "stream",
     "text": [
      "1.24.4\n"
     ]
    }
   ],
   "source": [
    "# version of numpy\n",
    "print(np.__version__)"
   ]
  },
  {
   "cell_type": "code",
   "execution_count": 4,
   "metadata": {
    "colab": {
     "base_uri": "https://localhost:8080/"
    },
    "id": "O5Lc3bT6PvQu",
    "outputId": "4616266a-f646-4d4b-d703-c13622398d9d"
   },
   "outputs": [],
   "source": [
    "\n",
    "%timeit python_list = [i*i for i in range(100000000) ]\n",
    "%timeit python_arr = np.array([i*i for i in range(10000000)])"
   ]
  },
  {
   "cell_type": "code",
   "execution_count": null,
   "metadata": {
    "colab": {
     "base_uri": "https://localhost:8080/"
    },
    "id": "1GozEG2USOll",
    "outputId": "0f05c159-8926-48e4-a0ae-f62a9df2b122"
   },
   "outputs": [
    {
     "name": "stdout",
     "output_type": "stream",
     "text": [
      "Execution of the program 0.11879130200000176\n"
     ]
    }
   ],
   "source": [
    "from time import process_time\n",
    "start_time = process_time()\n",
    "python_list = [i*i for i in range(1000000) ]\n",
    "end_time = process_time()\n",
    "print(f\"Execution of the program {end_time - start_time}\") \n",
    "\n"
   ]
  },
  {
   "cell_type": "code",
   "execution_count": null,
   "metadata": {
    "colab": {
     "base_uri": "https://localhost:8080/"
    },
    "id": "cQyf32coSsKG",
    "outputId": "ba0ac93a-0868-4a6d-e9c8-a0bd8cf78772"
   },
   "outputs": [
    {
     "name": "stdout",
     "output_type": "stream",
     "text": [
      "Execution of the program 0.2241212439999991\n"
     ]
    }
   ],
   "source": [
    "start = process_time()\n",
    "python_arry = np.array([i*i for i in range(1000000)])\n",
    "end = process_time()\n",
    "print(f\"Execution of the program {end - start}\") "
   ]
  },
  {
   "cell_type": "code",
   "execution_count": null,
   "metadata": {
    "id": "IzYBZXvbXlqu"
   },
   "outputs": [
    {
     "ename": "NameError",
     "evalue": "name 'np' is not defined",
     "output_type": "error",
     "traceback": [
      "\u001b[0;31m---------------------------------------------------------------------------\u001b[0m",
      "\u001b[0;31mNameError\u001b[0m                                 Traceback (most recent call last)",
      "Input \u001b[0;32mIn [1]\u001b[0m, in \u001b[0;36m<cell line: 2>\u001b[0;34m()\u001b[0m\n\u001b[1;32m      1\u001b[0m \u001b[38;5;66;03m# create a random matrix with size 4x5\u001b[39;00m\n\u001b[0;32m----> 2\u001b[0m rng \u001b[38;5;241m=\u001b[39m \u001b[43mnp\u001b[49m\u001b[38;5;241m.\u001b[39mrandom\u001b[38;5;241m.\u001b[39mdefault_rng()\n\u001b[1;32m      3\u001b[0m python_arr \u001b[38;5;241m=\u001b[39m np\u001b[38;5;241m.\u001b[39mrandom\u001b[38;5;241m.\u001b[39mrng(\u001b[38;5;241m20\u001b[39m, size\u001b[38;5;241m=\u001b[39m(\u001b[38;5;241m4\u001b[39m,\u001b[38;5;241m5\u001b[39m))\n\u001b[1;32m      4\u001b[0m python_arr1 \u001b[38;5;241m=\u001b[39m np\u001b[38;5;241m.\u001b[39mrandom\u001b[38;5;241m.\u001b[39mrng(\u001b[38;5;241m5\u001b[39m, size\u001b[38;5;241m=\u001b[39m\u001b[38;5;241m10\u001b[39m)\n",
      "\u001b[0;31mNameError\u001b[0m: name 'np' is not defined"
     ]
    }
   ],
   "source": [
    "\n",
    "# create a random matrix with size 4x5\n",
    "rng = np.random.default_rng()\n",
    "python_arr = np.random.rng(20, size=(4,5))\n",
    "python_arr1 = np.random.rng(5, size=10)"
   ]
  },
  {
   "cell_type": "code",
   "execution_count": null,
   "metadata": {
    "colab": {
     "base_uri": "https://localhost:8080/"
    },
    "id": "fV-Yao8gZlsi",
    "outputId": "5a4d1a58-ce46-4d29-a9e6-a7c7a40c42ba"
   },
   "outputs": [
    {
     "data": {
      "text/plain": [
       "array([4, 4, 3, 0, 3])"
      ]
     },
     "execution_count": 7,
     "metadata": {},
     "output_type": "execute_result"
    }
   ],
   "source": [
    "# access elements\n",
    "python_arr1[5:10]"
   ]
  },
  {
   "cell_type": "code",
   "execution_count": null,
   "metadata": {
    "colab": {
     "base_uri": "https://localhost:8080/"
    },
    "id": "dMvrPk3FXVm6",
    "outputId": "9f17fa71-2f4f-43aa-e1dd-5685fcba49b5"
   },
   "outputs": [
    {
     "data": {
      "text/plain": [
       "(4, 5)"
      ]
     },
     "execution_count": 8,
     "metadata": {},
     "output_type": "execute_result"
    }
   ],
   "source": [
    "# shape of an array\n",
    "python_arr.shape"
   ]
  },
  {
   "cell_type": "code",
   "execution_count": null,
   "metadata": {
    "colab": {
     "base_uri": "https://localhost:8080/"
    },
    "id": "wtsfWfz9XdRT",
    "outputId": "2667655e-9054-4c0e-8da4-29c8b119e07b"
   },
   "outputs": [
    {
     "data": {
      "text/plain": [
       "20"
      ]
     },
     "execution_count": 9,
     "metadata": {},
     "output_type": "execute_result"
    }
   ],
   "source": [
    "# size of array\n",
    "python_arr.size"
   ]
  },
  {
   "cell_type": "code",
   "execution_count": null,
   "metadata": {
    "colab": {
     "base_uri": "https://localhost:8080/"
    },
    "id": "rgNgrulEYjJB",
    "outputId": "57c596ad-1514-435f-d370-8d708172593f"
   },
   "outputs": [
    {
     "data": {
      "text/plain": [
       "dtype('int64')"
      ]
     },
     "execution_count": 10,
     "metadata": {},
     "output_type": "execute_result"
    }
   ],
   "source": [
    "# data type of the array\n",
    "python_arr.dtype\n"
   ]
  },
  {
   "cell_type": "code",
   "execution_count": null,
   "metadata": {
    "colab": {
     "base_uri": "https://localhost:8080/"
    },
    "id": "uegAdcFaYpbw",
    "outputId": "975d06e5-cbde-4c89-bf57-ab1ec8b93e66"
   },
   "outputs": [
    {
     "data": {
      "text/plain": [
       "2"
      ]
     },
     "execution_count": 11,
     "metadata": {},
     "output_type": "execute_result"
    }
   ],
   "source": [
    "# dimension of the array\n",
    "python_arr.ndim"
   ]
  },
  {
   "cell_type": "code",
   "execution_count": null,
   "metadata": {
    "colab": {
     "base_uri": "https://localhost:8080/"
    },
    "id": "xnFwT55aY122",
    "outputId": "61817e11-04a4-4afb-ee0c-9f3996401586"
   },
   "outputs": [
    {
     "name": "stdout",
     "output_type": "stream",
     "text": [
      "8 bytes\n"
     ]
    }
   ],
   "source": [
    "# size of each items\n",
    "print(f\"{python_arr.itemsize} bytes\")"
   ]
  },
  {
   "cell_type": "code",
   "execution_count": null,
   "metadata": {
    "colab": {
     "base_uri": "https://localhost:8080/"
    },
    "id": "WAbZyVJtZ31g",
    "outputId": "adc290d0-c671-42e4-d69d-d2a90f9474b6"
   },
   "outputs": [
    {
     "data": {
      "text/plain": [
       "array([[ 0, 16,  2, 13, 19],\n",
       "       [ 5,  5,  1,  4, 11],\n",
       "       [ 3, 11,  6, 13, 11],\n",
       "       [ 4,  1, 11,  6,  5]])"
      ]
     },
     "execution_count": 13,
     "metadata": {},
     "output_type": "execute_result"
    }
   ],
   "source": [
    "python_arr"
   ]
  },
  {
   "cell_type": "code",
   "execution_count": null,
   "metadata": {
    "colab": {
     "base_uri": "https://localhost:8080/"
    },
    "id": "RU21pvavZOFC",
    "outputId": "615fbc75-c645-4d87-fca9-105447bea6d9"
   },
   "outputs": [
    {
     "data": {
      "text/plain": [
       "6"
      ]
     },
     "execution_count": 14,
     "metadata": {},
     "output_type": "execute_result"
    }
   ],
   "source": [
    "python_arr[2][2]"
   ]
  },
  {
   "cell_type": "code",
   "execution_count": null,
   "metadata": {
    "colab": {
     "base_uri": "https://localhost:8080/"
    },
    "id": "eEiX9PuSZ04R",
    "outputId": "4a50fabe-241b-40ba-8056-da6fcd8c3b79"
   },
   "outputs": [
    {
     "data": {
      "text/plain": [
       "array([ 2,  1,  6, 11])"
      ]
     },
     "execution_count": 15,
     "metadata": {},
     "output_type": "execute_result"
    }
   ],
   "source": [
    "python_arr[:,2]"
   ]
  },
  {
   "cell_type": "code",
   "execution_count": null,
   "metadata": {
    "colab": {
     "base_uri": "https://localhost:8080/"
    },
    "id": "zozLuZdea0DK",
    "outputId": "576eabf1-c78a-4c6f-bf6d-741154e9e907"
   },
   "outputs": [
    {
     "data": {
      "text/plain": [
       "array([19, 11, 11,  5])"
      ]
     },
     "execution_count": 16,
     "metadata": {},
     "output_type": "execute_result"
    }
   ],
   "source": [
    "python_arr[:,-1]"
   ]
  },
  {
   "cell_type": "markdown",
   "metadata": {
    "id": "FyflfMCqa_55"
   },
   "source": [
    "## Mathematical Operations in Numpy"
   ]
  },
  {
   "cell_type": "code",
   "execution_count": null,
   "metadata": {
    "colab": {
     "base_uri": "https://localhost:8080/"
    },
    "id": "5qxaW_pNa6iB",
    "outputId": "59b5cca3-ef9b-4259-8608-3933050f2a1b"
   },
   "outputs": [
    {
     "name": "stdout",
     "output_type": "stream",
     "text": [
      "[3 4 4 2 0 2]\n",
      "[4 1 2 1 1 4]\n"
     ]
    }
   ],
   "source": [
    "arr1 = np.random.randint(5, size=6)\n",
    "arr2 = np.random.randint(5,size=6)\n",
    "print(arr1)\n",
    "print(arr2)"
   ]
  },
  {
   "cell_type": "code",
   "execution_count": null,
   "metadata": {
    "colab": {
     "base_uri": "https://localhost:8080/"
    },
    "id": "WB6OJzn6b0OB",
    "outputId": "6ede578c-1103-4460-ecb7-483710e1f0b0"
   },
   "outputs": [
    {
     "data": {
      "text/plain": [
       "array([False, False, False, False, False, False])"
      ]
     },
     "execution_count": 18,
     "metadata": {},
     "output_type": "execute_result"
    }
   ],
   "source": [
    "arr1==arr2"
   ]
  },
  {
   "cell_type": "code",
   "execution_count": null,
   "metadata": {
    "colab": {
     "base_uri": "https://localhost:8080/"
    },
    "id": "Sa4Ie3CMb2bB",
    "outputId": "a4736994-e8e9-4ae8-e167-95fb93bc5d35"
   },
   "outputs": [
    {
     "data": {
      "text/plain": [
       "array([7, 5, 6, 3, 1, 6])"
      ]
     },
     "execution_count": 19,
     "metadata": {},
     "output_type": "execute_result"
    }
   ],
   "source": [
    "# elementwise addition\n",
    "arr3 = arr1+arr2\n",
    "arr3"
   ]
  },
  {
   "cell_type": "code",
   "execution_count": null,
   "metadata": {
    "colab": {
     "base_uri": "https://localhost:8080/"
    },
    "id": "pJS6gLsHb8FK",
    "outputId": "909e1abf-04d1-4dc0-c29a-57651b47fa80"
   },
   "outputs": [
    {
     "name": "stdout",
     "output_type": "stream",
     "text": [
      "[12  4  8  2  0  8]\n",
      "int64\n"
     ]
    },
    {
     "data": {
      "text/plain": [
       "34"
      ]
     },
     "execution_count": 20,
     "metadata": {},
     "output_type": "execute_result"
    }
   ],
   "source": [
    "# elementwise multiplication\n",
    "arr4 = arr1 * arr2\n",
    "print(arr4)\n",
    "print(arr4.dtype)\n",
    "np.sum(arr4)"
   ]
  },
  {
   "cell_type": "code",
   "execution_count": null,
   "metadata": {
    "colab": {
     "base_uri": "https://localhost:8080/"
    },
    "id": "sGK1WYUUcViZ",
    "outputId": "4043efbc-86b5-460b-cb89-22a075ce09e2"
   },
   "outputs": [
    {
     "name": "stdout",
     "output_type": "stream",
     "text": [
      "[3.46410162 2.         2.82842712 1.41421356 0.         2.82842712]\n"
     ]
    },
    {
     "data": {
      "text/plain": [
       "dtype('float64')"
      ]
     },
     "execution_count": 21,
     "metadata": {},
     "output_type": "execute_result"
    }
   ],
   "source": [
    "arr_sqrt = np.sqrt(arr4)\n",
    "print(arr_sqrt)\n",
    "arr_sqrt.dtype\n"
   ]
  },
  {
   "cell_type": "code",
   "execution_count": null,
   "metadata": {
    "colab": {
     "base_uri": "https://localhost:8080/"
    },
    "id": "4zdRZJOick3g",
    "outputId": "cbd29472-4162-43ee-fe19-af00f5068e97"
   },
   "outputs": [
    {
     "name": "stdout",
     "output_type": "stream",
     "text": [
      "34\n",
      "34\n",
      "34\n"
     ]
    }
   ],
   "source": [
    "# dot product of arr1 and arr2\n",
    "dot_arr = np.dot(arr1, arr2)\n",
    "print(dot_arr)\n",
    "print(np.sum(arr4))\n",
    "print(arr1@arr2)"
   ]
  },
  {
   "cell_type": "code",
   "execution_count": null,
   "metadata": {
    "colab": {
     "base_uri": "https://localhost:8080/"
    },
    "id": "Xpg-aqxDcuUx",
    "outputId": "49eb1c4b-4a5e-4d09-a3b7-c2b0ccc40202"
   },
   "outputs": [
    {
     "data": {
      "text/plain": [
       "array([[ 1.11022302e-16, -8.32667268e-17,  1.00000000e+00],\n",
       "       [ 4.00000000e-01, -2.00000000e-01, -1.00000000e+00],\n",
       "       [-1.00000000e-01,  3.00000000e-01, -5.00000000e-01]])"
      ]
     },
     "execution_count": 23,
     "metadata": {},
     "output_type": "execute_result"
    }
   ],
   "source": [
    "# inverse of a matrix\n",
    "mat1 = np.random.randint(5, size=(3,3))\n",
    "inverse = np.linalg.inv(mat1)\n",
    "inverse"
   ]
  },
  {
   "cell_type": "code",
   "execution_count": null,
   "metadata": {
    "id": "5Qv0e3SPi6sI"
   },
   "outputs": [],
   "source": [
    "# determinant of a matrix\n",
    "det = np.linalg.det(mat1)"
   ]
  },
  {
   "cell_type": "code",
   "execution_count": null,
   "metadata": {
    "colab": {
     "base_uri": "https://localhost:8080/"
    },
    "id": "iupK0w5jjlRj",
    "outputId": "d0f7be61-cb2c-4fe5-fdff-d57d6f01dc5f"
   },
   "outputs": [
    {
     "data": {
      "text/plain": [
       "array([[ 1.11022302e-16,  0.00000000e+00,  0.00000000e+00],\n",
       "       [ 0.00000000e+00, -2.00000000e-01,  0.00000000e+00],\n",
       "       [ 0.00000000e+00,  0.00000000e+00, -5.00000000e-01]])"
      ]
     },
     "execution_count": 25,
     "metadata": {},
     "output_type": "execute_result"
    }
   ],
   "source": [
    "# diagonal of the matrix\n",
    "diag = np.diag(inverse)\n",
    "np.diag(diag)"
   ]
  },
  {
   "cell_type": "markdown",
   "metadata": {
    "id": "bzh4WO6xkEeZ"
   },
   "source": [
    "## Slicing of an array"
   ]
  },
  {
   "cell_type": "code",
   "execution_count": null,
   "metadata": {
    "colab": {
     "base_uri": "https://localhost:8080/"
    },
    "id": "Rj6sq50VkMKj",
    "outputId": "726d9474-255b-4323-c387-c6015ba16395"
   },
   "outputs": [
    {
     "data": {
      "text/plain": [
       "array([[2, 2, 2, 1],\n",
       "       [1, 2, 2, 0],\n",
       "       [2, 0, 2, 2]])"
      ]
     },
     "execution_count": 26,
     "metadata": {},
     "output_type": "execute_result"
    }
   ],
   "source": [
    "arr_A = np.random.randint(3, size = (3,4))\n",
    "arr_A"
   ]
  },
  {
   "cell_type": "code",
   "execution_count": null,
   "metadata": {
    "colab": {
     "base_uri": "https://localhost:8080/"
    },
    "id": "2csfQbcvkh3N",
    "outputId": "976936e6-293c-4eb1-dc90-07bcd82f6caa"
   },
   "outputs": [
    {
     "data": {
      "text/plain": [
       "array([1, 0, 2])"
      ]
     },
     "execution_count": 27,
     "metadata": {},
     "output_type": "execute_result"
    }
   ],
   "source": [
    "arr_A[:,3]"
   ]
  },
  {
   "cell_type": "code",
   "execution_count": null,
   "metadata": {
    "colab": {
     "base_uri": "https://localhost:8080/"
    },
    "id": "rSDCOPW1laFI",
    "outputId": "e576e1b4-702b-4975-9af0-d3e7fd184714"
   },
   "outputs": [
    {
     "data": {
      "text/plain": [
       "array([[2, 0, 2, 2]])"
      ]
     },
     "execution_count": 28,
     "metadata": {},
     "output_type": "execute_result"
    }
   ],
   "source": [
    "arr_A[2:4]"
   ]
  },
  {
   "cell_type": "code",
   "execution_count": null,
   "metadata": {
    "colab": {
     "base_uri": "https://localhost:8080/"
    },
    "id": "CjMvHBC1ljXp",
    "outputId": "7645ecef-57fb-4c9f-cb49-9368506ed8f6"
   },
   "outputs": [
    {
     "data": {
      "text/plain": [
       "0"
      ]
     },
     "execution_count": 29,
     "metadata": {},
     "output_type": "execute_result"
    }
   ],
   "source": [
    "arr_A[-1,1]"
   ]
  },
  {
   "cell_type": "code",
   "execution_count": null,
   "metadata": {
    "colab": {
     "base_uri": "https://localhost:8080/"
    },
    "id": "0Yx5cxmQmpvJ",
    "outputId": "b73f3608-8943-41de-9163-202711cd1e47"
   },
   "outputs": [
    {
     "data": {
      "text/plain": [
       "array([[ True,  True,  True,  True],\n",
       "       [ True,  True,  True, False],\n",
       "       [ True, False,  True,  True]])"
      ]
     },
     "execution_count": 30,
     "metadata": {},
     "output_type": "execute_result"
    }
   ],
   "source": [
    "arr_A_bool  = arr_A > 0\n",
    "arr_A_bool"
   ]
  },
  {
   "cell_type": "code",
   "execution_count": null,
   "metadata": {
    "colab": {
     "base_uri": "https://localhost:8080/"
    },
    "id": "HgXFVXzRcGBS",
    "outputId": "f9c65d24-4256-4f19-d9f8-e2d38751a44f"
   },
   "outputs": [
    {
     "name": "stdout",
     "output_type": "stream",
     "text": [
      "[2 4 4 2]\n"
     ]
    }
   ],
   "source": [
    "# fancy indexing\n",
    "a = np.random.randint(5, size=10)\n",
    "b = [1,3,5,7]\n",
    "print(a[b])"
   ]
  },
  {
   "cell_type": "code",
   "execution_count": null,
   "metadata": {
    "colab": {
     "base_uri": "https://localhost:8080/"
    },
    "id": "NGlBgtrWdRqK",
    "outputId": "6fdd88c9-d8ac-4687-baf9-83967e7611aa"
   },
   "outputs": [
    {
     "data": {
      "text/plain": [
       "numpy.ndarray"
      ]
     },
     "execution_count": 37,
     "metadata": {},
     "output_type": "execute_result"
    }
   ],
   "source": [
    "type(a)"
   ]
  },
  {
   "cell_type": "code",
   "execution_count": null,
   "metadata": {
    "colab": {
     "base_uri": "https://localhost:8080/"
    },
    "id": "aTp7q-BNcIsD",
    "outputId": "60343285-5c31-436c-c4e4-4f39a6600b1c"
   },
   "outputs": [
    {
     "name": "stdout",
     "output_type": "stream",
     "text": [
      "[0 2 4 2 4 2 2 4]\n"
     ]
    }
   ],
   "source": [
    "# only even\n",
    "even = np.argwhere(a%2==0).flatten()\n",
    "print(a[even])"
   ]
  },
  {
   "cell_type": "code",
   "execution_count": null,
   "metadata": {
    "colab": {
     "base_uri": "https://localhost:8080/"
    },
    "id": "MYx1gRgUdGjq",
    "outputId": "0cbb76c7-c9e8-4946-c587-cea5725216b6"
   },
   "outputs": [
    {
     "name": "stdout",
     "output_type": "stream",
     "text": [
      "9\n",
      "(9,)\n"
     ]
    }
   ],
   "source": [
    "# reshape a array\n",
    "arr = np.arange(1,10)\n",
    "print(arr.size)\n",
    "print(arr.shape)"
   ]
  },
  {
   "cell_type": "code",
   "execution_count": null,
   "metadata": {
    "colab": {
     "base_uri": "https://localhost:8080/"
    },
    "id": "vf-ouh2Ed-B1",
    "outputId": "2ba964d1-f8b3-477d-e668-bbe72fd78e90"
   },
   "outputs": [
    {
     "name": "stdout",
     "output_type": "stream",
     "text": [
      "[[1 2 3]\n",
      " [4 5 6]\n",
      " [7 8 9]]\n",
      "(3, 3)\n"
     ]
    }
   ],
   "source": [
    "arr2 = arr.reshape(3,3)\n",
    "print(arr2)\n",
    "print(arr2.shape)"
   ]
  },
  {
   "cell_type": "code",
   "execution_count": null,
   "metadata": {
    "colab": {
     "base_uri": "https://localhost:8080/"
    },
    "id": "6nk0G8SkeKHh",
    "outputId": "4b9327f4-ffb4-4d9a-f344-a1a331eabb29"
   },
   "outputs": [
    {
     "name": "stdout",
     "output_type": "stream",
     "text": [
      "1\n",
      "2\n"
     ]
    }
   ],
   "source": [
    "print(arr.ndim)\n",
    "print(arr2.ndim)"
   ]
  },
  {
   "cell_type": "code",
   "execution_count": null,
   "metadata": {
    "colab": {
     "base_uri": "https://localhost:8080/"
    },
    "id": "9hHr8WnveY3h",
    "outputId": "dbb2c75f-6c99-4944-a53e-2c46722d920b"
   },
   "outputs": [
    {
     "data": {
      "text/plain": [
       "array([[1, 0, 3],\n",
       "       [1, 2, 3],\n",
       "       [2, 1, 1]])"
      ]
     },
     "execution_count": 52,
     "metadata": {},
     "output_type": "execute_result"
    }
   ],
   "source": [
    "# concatenate an array\n",
    "a = np.random.randint(6, size=(2,3))\n",
    "b = np.random.randint(3, size=(1,3))\n",
    "c = np.concatenate((a,b), axis = 0)\n",
    "c"
   ]
  },
  {
   "cell_type": "code",
   "execution_count": null,
   "metadata": {
    "colab": {
     "base_uri": "https://localhost:8080/"
    },
    "id": "RgHPxSd7fcHp",
    "outputId": "aeb9454c-ede1-42fc-e34b-d9a63ca22253"
   },
   "outputs": [
    {
     "data": {
      "text/plain": [
       "array([1, 0, 3, 1, 2, 3, 2, 1, 1])"
      ]
     },
     "execution_count": 54,
     "metadata": {},
     "output_type": "execute_result"
    }
   ],
   "source": [
    "c = np.concatenate((a,b), axis = None)\n",
    "c\n"
   ]
  },
  {
   "cell_type": "code",
   "execution_count": null,
   "metadata": {
    "colab": {
     "base_uri": "https://localhost:8080/"
    },
    "id": "9wJe-z34frJ5",
    "outputId": "8b86e4ad-85fe-4f46-ebda-36c0358e5a59"
   },
   "outputs": [
    {
     "data": {
      "text/plain": [
       "array([[1, 0, 3],\n",
       "       [1, 2, 3],\n",
       "       [2, 1, 1]])"
      ]
     },
     "execution_count": 62,
     "metadata": {},
     "output_type": "execute_result"
    }
   ],
   "source": [
    "# c = np.concatenate((a.T,b), axis = 1)\n",
    "# vstack and hstack\n",
    "vstack = np.vstack((a,b))\n",
    "d"
   ]
  },
  {
   "cell_type": "code",
   "execution_count": null,
   "metadata": {
    "colab": {
     "base_uri": "https://localhost:8080/"
    },
    "id": "NvFDvc5Uf7JF",
    "outputId": "fbecf6f9-fdf4-4f57-ef30-90cf71015fab"
   },
   "outputs": [
    {
     "data": {
      "text/plain": [
       "array([[1, 0, 3, 2, 0, 2],\n",
       "       [1, 2, 3, 1, 2, 1]])"
      ]
     },
     "execution_count": 65,
     "metadata": {},
     "output_type": "execute_result"
    }
   ],
   "source": [
    "h = np.random.randint(3, size=(2,3))\n",
    "hstack = np.hstack((a,h)) \n",
    "hstack"
   ]
  },
  {
   "cell_type": "markdown",
   "metadata": {
    "id": "is8KnovghVKK"
   },
   "source": [
    "## Broadcasting"
   ]
  },
  {
   "cell_type": "code",
   "execution_count": null,
   "metadata": {
    "colab": {
     "base_uri": "https://localhost:8080/"
    },
    "id": "u6ic5i6Sg0oR",
    "outputId": "0525f109-54e7-4704-966d-bfa3a33b7e52"
   },
   "outputs": [
    {
     "name": "stdout",
     "output_type": "stream",
     "text": [
      "[[8 1 5 3 4]\n",
      " [1 6 7 2 1]\n",
      " [9 6 3 9 8]\n",
      " [0 2 2 1 4]]\n",
      "[[4 4 0 3 3]]\n",
      "[[12  5  5  6  7]\n",
      " [ 5 10  7  5  4]\n",
      " [13 10  3 12 11]\n",
      " [ 4  6  2  4  7]]\n"
     ]
    }
   ],
   "source": [
    "x = np.random.randint(10, size=(4,5))\n",
    "y = np.random.randint(5, size=(1,5))\n",
    "print(x)\n",
    "print(y)\n",
    "z = x + y \n",
    "print(z)\n"
   ]
  },
  {
   "cell_type": "code",
   "execution_count": null,
   "metadata": {
    "colab": {
     "base_uri": "https://localhost:8080/"
    },
    "id": "NS1dAe6Phy2h",
    "outputId": "cf50b787-e4bb-4abd-ed95-f9cc62c0c5c3"
   },
   "outputs": [
    {
     "data": {
      "text/plain": [
       "82"
      ]
     },
     "execution_count": 73,
     "metadata": {},
     "output_type": "execute_result"
    }
   ],
   "source": [
    "# sum of the array\n",
    "x.sum()"
   ]
  },
  {
   "cell_type": "code",
   "execution_count": null,
   "metadata": {
    "colab": {
     "base_uri": "https://localhost:8080/"
    },
    "id": "N1rA8Q8di_Q8",
    "outputId": "d8784cae-58d3-46a1-d54b-3de0403af6d5"
   },
   "outputs": [
    {
     "data": {
      "text/plain": [
       "array([21, 17, 35,  9])"
      ]
     },
     "execution_count": 75,
     "metadata": {},
     "output_type": "execute_result"
    }
   ],
   "source": [
    "x.sum(axis = 0)\n",
    "x.sum(axis = 1)"
   ]
  },
  {
   "cell_type": "code",
   "execution_count": null,
   "metadata": {
    "colab": {
     "base_uri": "https://localhost:8080/"
    },
    "id": "bqVvXjqhjb4J",
    "outputId": "d61472a0-ebfa-47cc-86d5-e7757c930c75"
   },
   "outputs": [
    {
     "name": "stdout",
     "output_type": "stream",
     "text": [
      "4.1\n",
      "[4.5  3.75 4.25 3.75 4.25]\n",
      "[4.2 3.4 7.  1.8]\n"
     ]
    }
   ],
   "source": [
    "# overall mean\n",
    "print(x.mean(axis = None))\n",
    "print(x.mean(axis = 0))\n",
    "print(x.mean(axis = 1))\n",
    "# print(x.mean(axis = 2))"
   ]
  },
  {
   "cell_type": "code",
   "execution_count": null,
   "metadata": {
    "colab": {
     "base_uri": "https://localhost:8080/"
    },
    "id": "B_ZVoC-IkAgg",
    "outputId": "4e9f0fb3-d25f-4195-d88b-977be0da6e1b"
   },
   "outputs": [
    {
     "name": "stdout",
     "output_type": "stream",
     "text": [
      "2.8792360097775935\n",
      "[4.03112887 2.27760839 1.92028644 3.1124749  2.48746859]\n",
      "[2.31516738 2.57681975 2.28035085 1.32664992]\n"
     ]
    }
   ],
   "source": [
    "# standard deviation\n",
    "print(np.std(x))\n",
    "print(np.std(x, axis = 0))\n",
    "print(np.std(x, axis = 1))"
   ]
  },
  {
   "cell_type": "code",
   "execution_count": null,
   "metadata": {
    "colab": {
     "base_uri": "https://localhost:8080/"
    },
    "id": "0eAWCUobkb6h",
    "outputId": "0405bc3f-1f31-4eb0-89e9-7146878ff412"
   },
   "outputs": [
    {
     "name": "stdout",
     "output_type": "stream",
     "text": [
      "0\n",
      "9\n",
      "[0 1 2 1 1]\n",
      "[8 7 9 4]\n"
     ]
    }
   ],
   "source": [
    "# min and max of array\n",
    "print(np.min(x))\n",
    "print(np.max(x))\n",
    "print(np.min(x, axis = 0))\n",
    "print(np.max(x, axis = 1))\n"
   ]
  },
  {
   "cell_type": "markdown",
   "metadata": {
    "id": "1kOW3No2lIb-"
   },
   "source": [
    "## Datatypes"
   ]
  },
  {
   "cell_type": "code",
   "execution_count": null,
   "metadata": {
    "colab": {
     "base_uri": "https://localhost:8080/"
    },
    "id": "5yB0p_yYlMTI",
    "outputId": "b297fa56-d520-493b-dbdf-6098bd99f6fe"
   },
   "outputs": [
    {
     "data": {
      "text/plain": [
       "dtype('int16')"
      ]
     },
     "execution_count": 95,
     "metadata": {},
     "output_type": "execute_result"
    }
   ],
   "source": [
    "array1 = np.arange(10, dtype=np.int16)\n",
    "array1.dtype"
   ]
  },
  {
   "cell_type": "code",
   "execution_count": null,
   "metadata": {
    "colab": {
     "base_uri": "https://localhost:8080/"
    },
    "id": "TUr5Ssu0lyXW",
    "outputId": "8ce3a814-0fea-424f-b064-2483a33780bf"
   },
   "outputs": [
    {
     "data": {
      "text/plain": [
       "dtype('float16')"
      ]
     },
     "execution_count": 97,
     "metadata": {},
     "output_type": "execute_result"
    }
   ],
   "source": [
    "array2 = np.arange(10, dtype=np.float16)\n",
    "array2.dtype\n"
   ]
  },
  {
   "cell_type": "markdown",
   "metadata": {
    "id": "5ZTHI36tmIjX"
   },
   "source": [
    "## Copying"
   ]
  },
  {
   "cell_type": "code",
   "execution_count": null,
   "metadata": {
    "colab": {
     "base_uri": "https://localhost:8080/"
    },
    "id": "n3hY9qAXmM7C",
    "outputId": "17bbe837-49c2-4b7e-911f-834a8ef4f30c"
   },
   "outputs": [
    {
     "name": "stdout",
     "output_type": "stream",
     "text": [
      "[ 0  1  2 45  4  5  6  7  8  9]\n",
      "[ 0  1  2  3 25  5  6  7  8  9]\n",
      "[ 0  1  2 45  4  5  6  7  8  9]\n"
     ]
    }
   ],
   "source": [
    "a = np.arange(10)\n",
    "b = a.copy()\n",
    "c = a\n",
    "b[4] = 25\n",
    "c[3] = 45\n",
    "print(a)\n",
    "print(b)\n",
    "print(c)"
   ]
  },
  {
   "cell_type": "markdown",
   "metadata": {
    "id": "ynYQH25Sm38p"
   },
   "source": [
    "## Generating array"
   ]
  },
  {
   "cell_type": "code",
   "execution_count": null,
   "metadata": {
    "colab": {
     "base_uri": "https://localhost:8080/"
    },
    "id": "Gg1EpKRfmYOC",
    "outputId": "29e21fd1-3014-488f-b8fb-3dcefc77a20f"
   },
   "outputs": [
    {
     "name": "stdout",
     "output_type": "stream",
     "text": [
      "[[0. 0. 0. 0.]\n",
      " [0. 0. 0. 0.]\n",
      " [0. 0. 0. 0.]]\n"
     ]
    }
   ],
   "source": [
    "zeros = np.zeros((3,4))\n",
    "print(zeros)"
   ]
  },
  {
   "cell_type": "code",
   "execution_count": null,
   "metadata": {
    "colab": {
     "base_uri": "https://localhost:8080/"
    },
    "id": "4MAArla5nBcq",
    "outputId": "df08cf32-65c3-40db-dbed-2102e5f8f115"
   },
   "outputs": [
    {
     "name": "stdout",
     "output_type": "stream",
     "text": [
      "[[1. 1. 1. 1.]\n",
      " [1. 1. 1. 1.]\n",
      " [1. 1. 1. 1.]]\n"
     ]
    }
   ],
   "source": [
    "ones = np.ones((3,4))\n",
    "print(ones)"
   ]
  },
  {
   "cell_type": "code",
   "execution_count": null,
   "metadata": {
    "colab": {
     "base_uri": "https://localhost:8080/"
    },
    "id": "N-QjkGudnJhK",
    "outputId": "9b9baf74-2b0a-4d8c-8422-a42cf8187577"
   },
   "outputs": [
    {
     "name": "stdout",
     "output_type": "stream",
     "text": [
      "[[7 7 7 7]\n",
      " [7 7 7 7]\n",
      " [7 7 7 7]]\n"
     ]
    }
   ],
   "source": [
    "s = np.full((3,4), 7)\n",
    "print(s)"
   ]
  },
  {
   "cell_type": "code",
   "execution_count": null,
   "metadata": {
    "colab": {
     "base_uri": "https://localhost:8080/"
    },
    "id": "XHoeXTMunTSa",
    "outputId": "a179536f-1925-45b5-e77e-cfe74b9925d7"
   },
   "outputs": [
    {
     "data": {
      "text/plain": [
       "array([[1., 0., 0.],\n",
       "       [0., 1., 0.],\n",
       "       [0., 0., 1.]])"
      ]
     },
     "execution_count": 105,
     "metadata": {},
     "output_type": "execute_result"
    }
   ],
   "source": [
    "# identity matrix\n",
    "np.eye(3)"
   ]
  },
  {
   "cell_type": "code",
   "execution_count": null,
   "metadata": {
    "colab": {
     "base_uri": "https://localhost:8080/"
    },
    "id": "fYdUjyNFngOS",
    "outputId": "ace1abd0-e696-490b-dd02-7afbb1e061ac"
   },
   "outputs": [
    {
     "data": {
      "text/plain": [
       "array([ 1.  ,  3.25,  5.5 ,  7.75, 10.  ])"
      ]
     },
     "execution_count": 109,
     "metadata": {},
     "output_type": "execute_result"
    }
   ],
   "source": [
    "# linspace\n",
    "l = np.linspace(1,10,5)\n",
    "l"
   ]
  },
  {
   "cell_type": "code",
   "execution_count": null,
   "metadata": {
    "colab": {
     "base_uri": "https://localhost:8080/"
    },
    "id": "t8_BKBEZnxbC",
    "outputId": "75a49779-df71-4cd0-b0c1-5c4a12531bb9"
   },
   "outputs": [
    {
     "data": {
      "text/plain": [
       "0.5283447017763508"
      ]
     },
     "execution_count": 114,
     "metadata": {},
     "output_type": "execute_result"
    }
   ],
   "source": [
    "r = np.random.random((4,5))\n",
    "r.var()\n",
    "r.mean()"
   ]
  },
  {
   "cell_type": "code",
   "execution_count": null,
   "metadata": {
    "colab": {
     "base_uri": "https://localhost:8080/"
    },
    "id": "Ip7hAFlWoc2a",
    "outputId": "e621ea41-fb63-4f73-dde9-317dc4981cc2"
   },
   "outputs": [
    {
     "data": {
      "text/plain": [
       "array([ 0.0668987 ,  1.2884    ,  1.11676944,  0.55020119, -1.22628959,\n",
       "        0.31406422,  0.28454833, -0.50779184,  0.37587606,  1.44275991,\n",
       "       -0.6002309 , -0.72388412, -0.11114116, -0.33823256,  0.45148526,\n",
       "        1.50667039,  1.15025512, -0.28038706, -1.02555197, -2.56655638,\n",
       "        0.05985324,  0.11734042,  0.72806337,  0.46035377,  1.62797818,\n",
       "       -1.10912595, -0.16476727,  0.48977688,  0.80307454,  0.06529226,\n",
       "        0.08139337, -3.49346309, -1.20026758, -0.73980013, -0.3415933 ,\n",
       "       -1.0607691 ,  0.62665057,  0.07463161,  1.62072938, -0.14565985,\n",
       "        0.35726199,  2.84123952,  0.58620836, -0.1301254 ,  0.46342099,\n",
       "        0.32985106, -0.17781117, -0.32563194, -2.80454685, -0.18083028,\n",
       "       -0.88978344,  1.55718147, -1.05980154, -0.98328291, -1.15566938,\n",
       "       -0.60693907, -0.38794095, -0.86940052,  0.1010214 ,  1.0241186 ,\n",
       "        0.63594732,  1.08068687,  2.55323572,  0.31189442, -0.81023812,\n",
       "       -0.18225514,  0.45579352, -0.95555648, -0.30397502,  0.58198489,\n",
       "       -1.53600133,  1.45630286, -0.69994759, -0.65866467, -1.36255147,\n",
       "       -0.17545681,  0.4773438 ,  0.65731146, -0.71912927, -0.16378539,\n",
       "        2.35189445,  0.76058183, -0.30828427, -0.19764748, -0.19097326,\n",
       "        0.25835117, -0.23355898,  1.60526145, -0.42151349, -0.79890055,\n",
       "       -1.28036847,  0.59740054, -0.89538872, -0.2077642 ,  0.77843569,\n",
       "       -0.14333712, -0.96655152,  0.09353714, -0.15213873,  0.44550695])"
      ]
     },
     "execution_count": 117,
     "metadata": {},
     "output_type": "execute_result"
    }
   ],
   "source": [
    "rn = np.random.randn(100)\n",
    "rn"
   ]
  },
  {
   "cell_type": "code",
   "execution_count": null,
   "metadata": {
    "colab": {
     "base_uri": "https://localhost:8080/"
    },
    "id": "_rQMR2FFoxZ7",
    "outputId": "b7ef405d-bd6c-49c9-891e-7d4dc806dc0e"
   },
   "outputs": [
    {
     "data": {
      "text/plain": [
       "array([[7, 3, 7, 3, 3],\n",
       "       [3, 5, 5, 5, 7],\n",
       "       [3, 7, 5, 3, 7]])"
      ]
     },
     "execution_count": 129,
     "metadata": {},
     "output_type": "execute_result"
    }
   ],
   "source": [
    "np.random.choice([3,5,7], size=(3,5))"
   ]
  },
  {
   "cell_type": "markdown",
   "metadata": {
    "id": "RH2rID_2qoqs"
   },
   "source": [
    "## Eigen Decomposition"
   ]
  },
  {
   "cell_type": "code",
   "execution_count": null,
   "metadata": {
    "colab": {
     "base_uri": "https://localhost:8080/"
    },
    "id": "kyHoSU8Jq_HA",
    "outputId": "0a6eab59-aa4e-479c-dcd5-9c699d5b7081"
   },
   "outputs": [
    {
     "name": "stdout",
     "output_type": "stream",
     "text": [
      "[14.96850308 -2.21030483  0.24180175]\n",
      "[[-0.58334043 -0.74037611 -0.74452089]\n",
      " [-0.64198582  0.65596089 -0.16812517]\n",
      " [-0.49756221 -0.14682821  0.64608248]]\n"
     ]
    }
   ],
   "source": [
    "eigen = np.random.choice([3,5,7], size=(3,3))\n",
    "eigenvalues, eigenvectors = np.linalg.eig(eigen)\n",
    "print(eigenvalues)\n",
    "print(eigenvectors)"
   ]
  },
  {
   "cell_type": "code",
   "execution_count": null,
   "metadata": {
    "colab": {
     "base_uri": "https://localhost:8080/"
    },
    "id": "s2yqnIwArj6t",
    "outputId": "5b373530-033f-4647-e85b-a0d7c81091f5"
   },
   "outputs": [
    {
     "name": "stdout",
     "output_type": "stream",
     "text": [
      "[-8.73173306 -9.6095667  -7.44776142]\n",
      "[-8.73173306 -9.6095667  -7.44776142]\n"
     ]
    }
   ],
   "source": [
    "p = eigenvectors[:,0] * eigenvalues[0]\n",
    "print(p)\n",
    "q = eigen @ eigenvectors[:,0]\n",
    "print(q)"
   ]
  },
  {
   "cell_type": "code",
   "execution_count": null,
   "metadata": {
    "colab": {
     "base_uri": "https://localhost:8080/"
    },
    "id": "rheXtAEosJ4T",
    "outputId": "a7db3fcd-2786-45a2-e491-329481e03fe8"
   },
   "outputs": [
    {
     "name": "stdout",
     "output_type": "stream",
     "text": [
      "True\n"
     ]
    }
   ],
   "source": [
    "print(np.allclose(p,q))"
   ]
  },
  {
   "cell_type": "markdown",
   "metadata": {
    "id": "UM84b07DtN4f"
   },
   "source": [
    "x1 + x2 = 2200--------(i)<br>\n",
    "1.5x1 + 4x2 = 5050-----(ii) \n",
    "solve the equation\n",
    "\n",
    "\n",
    "\n"
   ]
  },
  {
   "cell_type": "code",
   "execution_count": null,
   "metadata": {
    "colab": {
     "base_uri": "https://localhost:8080/"
    },
    "id": "Y-7qdnnmsZGi",
    "outputId": "cb4166d5-16d7-46a2-9ed4-cece0d94dab1"
   },
   "outputs": [
    {
     "name": "stdout",
     "output_type": "stream",
     "text": [
      "The slowest run took 15.06 times longer than the fastest. This could mean that an intermediate result is being cached.\n",
      "100000 loops, best of 5: 16.3 µs per loop\n",
      "The slowest run took 10.70 times longer than the fastest. This could mean that an intermediate result is being cached.\n",
      "100000 loops, best of 5: 9.06 µs per loop\n",
      "[1500.  700.]\n",
      "[1500.  700.]\n"
     ]
    }
   ],
   "source": [
    "# solve a linear equation\n",
    "A = np.array([[1,1], [1.5,4]])\n",
    "b = np.array([2200,5050])\n",
    "%timeit x = np.linalg.inv(A).dot(b)\n",
    "%timeit y = np.linalg.solve(A, b)\n",
    "print(x)\n",
    "print(y)"
   ]
  },
  {
   "cell_type": "code",
   "execution_count": null,
   "metadata": {
    "id": "2ktHmDk3ueJs"
   },
   "outputs": [],
   "source": [
    "# load data in numpy array\n"
   ]
  }
 ],
 "metadata": {
  "colab": {
   "authorship_tag": "ABX9TyOrxnV0lDLPuR2tBc63RQ6a",
   "include_colab_link": true,
   "name": "Complete Numpy Tutorial in Python.ipynb",
   "provenance": []
  },
  "gpuClass": "standard",
  "kernelspec": {
   "display_name": "Python 3 (ipykernel)",
   "language": "python",
   "name": "python3"
  },
  "language_info": {
   "codemirror_mode": {
    "name": "ipython",
    "version": 3
   },
   "file_extension": ".py",
   "mimetype": "text/x-python",
   "name": "python",
   "nbconvert_exporter": "python",
   "pygments_lexer": "ipython3",
   "version": "3.10.12"
  }
 },
 "nbformat": 4,
 "nbformat_minor": 1
}
