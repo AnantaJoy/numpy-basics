{
  "nbformat": 4,
  "nbformat_minor": 0,
  "metadata": {
    "colab": {
      "name": "Introduction to Numerical Computing with NumPy(Part-2).ipynb",
      "provenance": [],
      "authorship_tag": "ABX9TyPq9krNQcND3R+dq43xv2OU",
      "include_colab_link": true
    },
    "kernelspec": {
      "name": "python3",
      "display_name": "Python 3"
    },
    "language_info": {
      "name": "python"
    }
  },
  "cells": [
    {
      "cell_type": "markdown",
      "metadata": {
        "id": "view-in-github",
        "colab_type": "text"
      },
      "source": [
        "<a href=\"https://colab.research.google.com/github/AnantaJoy/numpy_basics/blob/main/Introduction_to_Numerical_Computing_with_NumPy(Part_2).ipynb\" target=\"_parent\"><img src=\"https://colab.research.google.com/assets/colab-badge.svg\" alt=\"Open In Colab\"/></a>"
      ]
    },
    {
      "cell_type": "code",
      "execution_count": 2,
      "metadata": {
        "id": "F7aT2rilBnGX"
      },
      "outputs": [],
      "source": [
        "import numpy as np"
      ]
    },
    {
      "cell_type": "code",
      "source": [
        "# fancy indexing\n",
        "arr = np.arange(1,15,3)\n",
        "idx = np.array([1,3,-4])\n",
        "fancy = arr[idx]\n",
        "print(fancy) "
      ],
      "metadata": {
        "colab": {
          "base_uri": "https://localhost:8080/"
        },
        "id": "rLJM_wEFBwzJ",
        "outputId": "7fa70a1f-fd18-4f1f-dd94-484f0c2cf74e"
      },
      "execution_count": 3,
      "outputs": [
        {
          "output_type": "stream",
          "name": "stdout",
          "text": [
            "[ 4 10  4]\n"
          ]
        }
      ]
    },
    {
      "cell_type": "code",
      "source": [
        "arr[idx] = 21\n",
        "arr"
      ],
      "metadata": {
        "colab": {
          "base_uri": "https://localhost:8080/"
        },
        "id": "PKGVAarICOpJ",
        "outputId": "aa5921ca-780a-4c51-e227-5c1e9b9bf866"
      },
      "execution_count": 4,
      "outputs": [
        {
          "output_type": "execute_result",
          "data": {
            "text/plain": [
              "array([ 1, 21,  7, 21, 13])"
            ]
          },
          "metadata": {},
          "execution_count": 4
        }
      ]
    },
    {
      "cell_type": "code",
      "source": [
        "# mask a array\n",
        "mask = np.random.randint(2,size=5, dtype=bool)\n",
        "mask_arr = arr[mask]\n",
        "print(mask_arr)"
      ],
      "metadata": {
        "colab": {
          "base_uri": "https://localhost:8080/"
        },
        "id": "h-x4KFItCYbU",
        "outputId": "705bcc58-a38f-44ca-a62e-ae2c0eb6695c"
      },
      "execution_count": 5,
      "outputs": [
        {
          "output_type": "stream",
          "name": "stdout",
          "text": [
            "[ 1 21]\n"
          ]
        }
      ]
    },
    {
      "cell_type": "code",
      "source": [
        "# select only  negative values using \n",
        "arr2 = np.array([-2,6,-5,-8,4,8,5])\n",
        "negative = arr2<0\n",
        "print(negative)\n",
        "arr2[negative]"
      ],
      "metadata": {
        "colab": {
          "base_uri": "https://localhost:8080/"
        },
        "id": "08DALaMrCepr",
        "outputId": "2ce8027e-b72d-4506-9fac-d50b44030d29"
      },
      "execution_count": 6,
      "outputs": [
        {
          "output_type": "stream",
          "name": "stdout",
          "text": [
            "[ True False  True  True False False False]\n"
          ]
        },
        {
          "output_type": "execute_result",
          "data": {
            "text/plain": [
              "array([-2, -5, -8])"
            ]
          },
          "metadata": {},
          "execution_count": 6
        }
      ]
    },
    {
      "cell_type": "code",
      "source": [
        "arr2[negative] = 0\n",
        "arr2"
      ],
      "metadata": {
        "colab": {
          "base_uri": "https://localhost:8080/"
        },
        "id": "RG3wEwwBEySK",
        "outputId": "7f57a315-fca5-4812-e218-b492e0680c7b"
      },
      "execution_count": 7,
      "outputs": [
        {
          "output_type": "execute_result",
          "data": {
            "text/plain": [
              "array([0, 6, 0, 0, 4, 8, 5])"
            ]
          },
          "metadata": {},
          "execution_count": 7
        }
      ]
    },
    {
      "cell_type": "code",
      "source": [
        "arr1 = np.random.randint(10,size=(5,5))\n",
        "arr1\n"
      ],
      "metadata": {
        "colab": {
          "base_uri": "https://localhost:8080/"
        },
        "id": "ld-7-Ep2H4SB",
        "outputId": "0a4f6b8f-2940-4973-c830-b2251a03281b"
      },
      "execution_count": 28,
      "outputs": [
        {
          "output_type": "execute_result",
          "data": {
            "text/plain": [
              "array([[5, 1, 8, 3, 6],\n",
              "       [1, 0, 9, 7, 4],\n",
              "       [2, 6, 9, 2, 9],\n",
              "       [8, 2, 7, 9, 4],\n",
              "       [4, 3, 9, 2, 6]])"
            ]
          },
          "metadata": {},
          "execution_count": 28
        }
      ]
    },
    {
      "cell_type": "code",
      "source": [
        "# access 5,4,9,2\n",
        "arr1[[0,1,2,3],\n",
        "       [1,2,3,4]]"
      ],
      "metadata": {
        "colab": {
          "base_uri": "https://localhost:8080/"
        },
        "id": "kKLR3pfFIs5P",
        "outputId": "c845df6f-f999-49b8-9a10-045bc2422740"
      },
      "execution_count": 29,
      "outputs": [
        {
          "output_type": "execute_result",
          "data": {
            "text/plain": [
              "array([1, 9, 2, 4])"
            ]
          },
          "metadata": {},
          "execution_count": 29
        }
      ]
    },
    {
      "cell_type": "code",
      "source": [
        "# access 8,4,3 and 9,8,9\n",
        "arr1[2:, [1,3]]"
      ],
      "metadata": {
        "colab": {
          "base_uri": "https://localhost:8080/"
        },
        "id": "R_6wds7MJDT3",
        "outputId": "5fe1fc94-adc7-4b5a-a386-557a63805daa"
      },
      "execution_count": 30,
      "outputs": [
        {
          "output_type": "execute_result",
          "data": {
            "text/plain": [
              "array([[6, 2],\n",
              "       [2, 9],\n",
              "       [3, 2]])"
            ]
          },
          "metadata": {},
          "execution_count": 30
        }
      ]
    },
    {
      "cell_type": "code",
      "source": [
        "mask2 = np.array([0,1,0,1,1], dtype=bool)\n",
        "arr1[mask2, 2]"
      ],
      "metadata": {
        "colab": {
          "base_uri": "https://localhost:8080/"
        },
        "id": "j8nx8_YkJiW3",
        "outputId": "e3101fa5-3911-4252-ca3c-b0696fa0d13e"
      },
      "execution_count": 31,
      "outputs": [
        {
          "output_type": "execute_result",
          "data": {
            "text/plain": [
              "array([9, 7, 9])"
            ]
          },
          "metadata": {},
          "execution_count": 31
        }
      ]
    },
    {
      "cell_type": "code",
      "source": [
        "# number divisible by 3\n",
        "mask3 = np.array(arr1%3==0)\n",
        "mask3"
      ],
      "metadata": {
        "colab": {
          "base_uri": "https://localhost:8080/"
        },
        "id": "2MLKBhuvJxyX",
        "outputId": "e1522f7b-a7bc-47f8-eb73-2fe038e9bcf4"
      },
      "execution_count": 32,
      "outputs": [
        {
          "output_type": "execute_result",
          "data": {
            "text/plain": [
              "array([[False, False, False,  True,  True],\n",
              "       [False,  True,  True, False, False],\n",
              "       [False,  True,  True, False,  True],\n",
              "       [False, False, False,  True, False],\n",
              "       [False,  True,  True, False,  True]])"
            ]
          },
          "metadata": {},
          "execution_count": 32
        }
      ]
    },
    {
      "cell_type": "code",
      "source": [
        "arr1[mask3]"
      ],
      "metadata": {
        "colab": {
          "base_uri": "https://localhost:8080/"
        },
        "id": "-HRTB4M_KpX3",
        "outputId": "45e3a49f-0057-473e-c4db-a06f3bb357ea"
      },
      "execution_count": 33,
      "outputs": [
        {
          "output_type": "execute_result",
          "data": {
            "text/plain": [
              "array([3, 6, 0, 9, 6, 9, 9, 9, 3, 9, 6])"
            ]
          },
          "metadata": {},
          "execution_count": 33
        }
      ]
    },
    {
      "cell_type": "code",
      "source": [
        "arr1"
      ],
      "metadata": {
        "id": "XX24hKjehp37",
        "outputId": "7a774988-a803-4445-ef0a-e530a90a18d9",
        "colab": {
          "base_uri": "https://localhost:8080/"
        }
      },
      "execution_count": 34,
      "outputs": [
        {
          "output_type": "execute_result",
          "data": {
            "text/plain": [
              "array([[5, 1, 8, 3, 6],\n",
              "       [1, 0, 9, 7, 4],\n",
              "       [2, 6, 9, 2, 9],\n",
              "       [8, 2, 7, 9, 4],\n",
              "       [4, 3, 9, 2, 6]])"
            ]
          },
          "metadata": {},
          "execution_count": 34
        }
      ]
    },
    {
      "cell_type": "code",
      "source": [
        "hstack = np.array([2,4,6,6,7]).reshape(5,1)\n",
        "arr2 = np.hstack((arr1, hstack))\n",
        "arr2"
      ],
      "metadata": {
        "id": "vQKMJT7fKzDW",
        "outputId": "2fb742d7-26f5-4e39-fb36-495d5959c864",
        "colab": {
          "base_uri": "https://localhost:8080/"
        }
      },
      "execution_count": 42,
      "outputs": [
        {
          "output_type": "execute_result",
          "data": {
            "text/plain": [
              "array([[5, 1, 8, 3, 6, 2],\n",
              "       [1, 0, 9, 7, 4, 4],\n",
              "       [2, 6, 9, 2, 9, 6],\n",
              "       [8, 2, 7, 9, 4, 6],\n",
              "       [4, 3, 9, 2, 6, 7]])"
            ]
          },
          "metadata": {},
          "execution_count": 42
        }
      ]
    },
    {
      "cell_type": "code",
      "source": [
        "# axiswise sum\n",
        "arr2.sum(axis=1).shape"
      ],
      "metadata": {
        "id": "irIlDL4wMJnW",
        "outputId": "bea2e0de-f3e5-48f5-974f-e4829db3ca13",
        "colab": {
          "base_uri": "https://localhost:8080/"
        }
      },
      "execution_count": 36,
      "outputs": [
        {
          "output_type": "execute_result",
          "data": {
            "text/plain": [
              "(5,)"
            ]
          },
          "metadata": {},
          "execution_count": 36
        }
      ]
    },
    {
      "cell_type": "code",
      "source": [
        "arr2.sum(axis=1)"
      ],
      "metadata": {
        "id": "EFmdTqHWf_H-",
        "outputId": "4f6d2f54-8dae-47f5-acf4-f91b960f5418",
        "colab": {
          "base_uri": "https://localhost:8080/"
        }
      },
      "execution_count": 41,
      "outputs": [
        {
          "output_type": "execute_result",
          "data": {
            "text/plain": [
              "array([25, 25, 34, 36, 31])"
            ]
          },
          "metadata": {},
          "execution_count": 41
        }
      ]
    },
    {
      "cell_type": "code",
      "source": [
        "arr2.min()\n",
        "# flatten the array show the index\n",
        "arr2.argmin()"
      ],
      "metadata": {
        "id": "D2T1CYqNi6pf",
        "outputId": "5076d574-6a91-42d6-f00e-0a6c9cb16c60",
        "colab": {
          "base_uri": "https://localhost:8080/"
        }
      },
      "execution_count": 47,
      "outputs": [
        {
          "output_type": "execute_result",
          "data": {
            "text/plain": [
              "7"
            ]
          },
          "metadata": {},
          "execution_count": 47
        }
      ]
    },
    {
      "cell_type": "code",
      "source": [
        "np.where(arr2 == 9)"
      ],
      "metadata": {
        "id": "_CtmgwYgj_Jy",
        "outputId": "4d83ef3a-3c0a-48fa-c109-0c244662811c",
        "colab": {
          "base_uri": "https://localhost:8080/"
        }
      },
      "execution_count": 48,
      "outputs": [
        {
          "output_type": "execute_result",
          "data": {
            "text/plain": [
              "(array([1, 2, 2, 3, 4]), array([2, 2, 4, 3, 2]))"
            ]
          },
          "metadata": {},
          "execution_count": 48
        }
      ]
    }
  ]
}