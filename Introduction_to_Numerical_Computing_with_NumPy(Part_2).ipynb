{
  "nbformat": 4,
  "nbformat_minor": 0,
  "metadata": {
    "colab": {
      "name": "Introduction to Numerical Computing with NumPy(Part-2).ipynb",
      "provenance": [],
      "authorship_tag": "ABX9TyPtH1mwRaj2m4PLpVFJl63S",
      "include_colab_link": true
    },
    "kernelspec": {
      "name": "python3",
      "display_name": "Python 3"
    },
    "language_info": {
      "name": "python"
    }
  },
  "cells": [
    {
      "cell_type": "markdown",
      "metadata": {
        "id": "view-in-github",
        "colab_type": "text"
      },
      "source": [
        "<a href=\"https://colab.research.google.com/github/AnantaJoy/numpy_basics/blob/main/Introduction_to_Numerical_Computing_with_NumPy(Part_2).ipynb\" target=\"_parent\"><img src=\"https://colab.research.google.com/assets/colab-badge.svg\" alt=\"Open In Colab\"/></a>"
      ]
    },
    {
      "cell_type": "code",
      "execution_count": 1,
      "metadata": {
        "id": "F7aT2rilBnGX"
      },
      "outputs": [],
      "source": [
        "import numpy as np"
      ]
    },
    {
      "cell_type": "code",
      "source": [
        "# fancy indexing\n",
        "arr = np.arange(1,15,3)\n",
        "idx = np.array([1,3,-4])\n",
        "fancy = arr[idx]\n",
        "print(fancy) "
      ],
      "metadata": {
        "colab": {
          "base_uri": "https://localhost:8080/"
        },
        "id": "rLJM_wEFBwzJ",
        "outputId": "526243aa-b00e-478c-ad44-3676acae692b"
      },
      "execution_count": 15,
      "outputs": [
        {
          "output_type": "stream",
          "name": "stdout",
          "text": [
            "[ 4 10  4]\n"
          ]
        }
      ]
    },
    {
      "cell_type": "code",
      "source": [
        "arr[idx] = 21\n",
        "arr"
      ],
      "metadata": {
        "colab": {
          "base_uri": "https://localhost:8080/"
        },
        "id": "PKGVAarICOpJ",
        "outputId": "7ac435d1-0612-49f3-e9a6-2f89b40c8f3e"
      },
      "execution_count": 17,
      "outputs": [
        {
          "output_type": "execute_result",
          "data": {
            "text/plain": [
              "array([ 1, 21,  7, 21, 13])"
            ]
          },
          "metadata": {},
          "execution_count": 17
        }
      ]
    },
    {
      "cell_type": "code",
      "source": [
        "# mask a array\n",
        "mask = np.random.randint(2,size=5, dtype=bool)\n",
        "mask_arr = arr[mask]\n",
        "print(mask_arr)"
      ],
      "metadata": {
        "colab": {
          "base_uri": "https://localhost:8080/"
        },
        "id": "h-x4KFItCYbU",
        "outputId": "9fe41ee5-4b6b-4c46-8de8-aa86de72a167"
      },
      "execution_count": 28,
      "outputs": [
        {
          "output_type": "stream",
          "name": "stdout",
          "text": [
            "[21 13]\n"
          ]
        }
      ]
    },
    {
      "cell_type": "code",
      "source": [
        "# select only  negative values using \n",
        "arr2 = np.array([-2,6,-5,-8,4,8,5])\n",
        "negative = arr2<0\n",
        "print(negative)\n",
        "arr2[negative]"
      ],
      "metadata": {
        "colab": {
          "base_uri": "https://localhost:8080/"
        },
        "id": "08DALaMrCepr",
        "outputId": "7328e9d7-fc31-4646-ebaf-d8f3208a5b5e"
      },
      "execution_count": 35,
      "outputs": [
        {
          "output_type": "stream",
          "name": "stdout",
          "text": [
            "[ True False  True  True False False False]\n"
          ]
        },
        {
          "output_type": "execute_result",
          "data": {
            "text/plain": [
              "array([-2, -5, -8])"
            ]
          },
          "metadata": {},
          "execution_count": 35
        }
      ]
    },
    {
      "cell_type": "code",
      "source": [
        ""
      ],
      "metadata": {
        "id": "RG3wEwwBEySK"
      },
      "execution_count": null,
      "outputs": []
    }
  ]
}