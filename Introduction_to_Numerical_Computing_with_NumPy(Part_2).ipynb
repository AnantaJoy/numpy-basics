{
  "nbformat": 4,
  "nbformat_minor": 0,
  "metadata": {
    "colab": {
      "name": "Introduction to Numerical Computing with NumPy(Part-2).ipynb",
      "provenance": [],
      "authorship_tag": "ABX9TyOUCh/LUu2/EeUUE0y+1x5V",
      "include_colab_link": true
    },
    "kernelspec": {
      "name": "python3",
      "display_name": "Python 3"
    },
    "language_info": {
      "name": "python"
    }
  },
  "cells": [
    {
      "cell_type": "markdown",
      "metadata": {
        "id": "view-in-github",
        "colab_type": "text"
      },
      "source": [
        "<a href=\"https://colab.research.google.com/github/AnantaJoy/numpy_basics/blob/main/Introduction_to_Numerical_Computing_with_NumPy(Part_2).ipynb\" target=\"_parent\"><img src=\"https://colab.research.google.com/assets/colab-badge.svg\" alt=\"Open In Colab\"/></a>"
      ]
    },
    {
      "cell_type": "code",
      "execution_count": 1,
      "metadata": {
        "id": "F7aT2rilBnGX"
      },
      "outputs": [],
      "source": [
        "import numpy as np"
      ]
    },
    {
      "cell_type": "code",
      "source": [
        "# fancy indexing\n",
        "arr = np.arange(1,15,3)\n",
        "idx = np.array([1,3,-4])\n",
        "fancy = arr[idx]\n",
        "print(fancy) "
      ],
      "metadata": {
        "colab": {
          "base_uri": "https://localhost:8080/"
        },
        "id": "rLJM_wEFBwzJ",
        "outputId": "526243aa-b00e-478c-ad44-3676acae692b"
      },
      "execution_count": 15,
      "outputs": [
        {
          "output_type": "stream",
          "name": "stdout",
          "text": [
            "[ 4 10  4]\n"
          ]
        }
      ]
    },
    {
      "cell_type": "code",
      "source": [
        "arr[idx] = 21\n",
        "arr"
      ],
      "metadata": {
        "colab": {
          "base_uri": "https://localhost:8080/"
        },
        "id": "PKGVAarICOpJ",
        "outputId": "7ac435d1-0612-49f3-e9a6-2f89b40c8f3e"
      },
      "execution_count": 17,
      "outputs": [
        {
          "output_type": "execute_result",
          "data": {
            "text/plain": [
              "array([ 1, 21,  7, 21, 13])"
            ]
          },
          "metadata": {},
          "execution_count": 17
        }
      ]
    },
    {
      "cell_type": "code",
      "source": [
        "# mask a array\n",
        "mask = np.random.randint(2,size=5, dtype=bool)\n",
        "mask_arr = arr[mask]\n",
        "print(mask_arr)"
      ],
      "metadata": {
        "colab": {
          "base_uri": "https://localhost:8080/"
        },
        "id": "h-x4KFItCYbU",
        "outputId": "9fe41ee5-4b6b-4c46-8de8-aa86de72a167"
      },
      "execution_count": 28,
      "outputs": [
        {
          "output_type": "stream",
          "name": "stdout",
          "text": [
            "[21 13]\n"
          ]
        }
      ]
    },
    {
      "cell_type": "code",
      "source": [
        "# select only  negative values using \n",
        "arr2 = np.array([-2,6,-5,-8,4,8,5])\n",
        "negative = arr2<0\n",
        "print(negative)\n",
        "arr2[negative]"
      ],
      "metadata": {
        "colab": {
          "base_uri": "https://localhost:8080/"
        },
        "id": "08DALaMrCepr",
        "outputId": "7328e9d7-fc31-4646-ebaf-d8f3208a5b5e"
      },
      "execution_count": 35,
      "outputs": [
        {
          "output_type": "stream",
          "name": "stdout",
          "text": [
            "[ True False  True  True False False False]\n"
          ]
        },
        {
          "output_type": "execute_result",
          "data": {
            "text/plain": [
              "array([-2, -5, -8])"
            ]
          },
          "metadata": {},
          "execution_count": 35
        }
      ]
    },
    {
      "cell_type": "code",
      "source": [
        "arr2[negative] = 0\n",
        "arr2"
      ],
      "metadata": {
        "colab": {
          "base_uri": "https://localhost:8080/"
        },
        "id": "RG3wEwwBEySK",
        "outputId": "051270f7-e283-43f8-ff11-ddd32616bc3a"
      },
      "execution_count": 36,
      "outputs": [
        {
          "output_type": "execute_result",
          "data": {
            "text/plain": [
              "array([0, 6, 0, 0, 4, 8, 5])"
            ]
          },
          "metadata": {},
          "execution_count": 36
        }
      ]
    },
    {
      "cell_type": "code",
      "source": [
        "arr1 = np.random.randint(10,size=(5,5))\n",
        "arr1\n"
      ],
      "metadata": {
        "colab": {
          "base_uri": "https://localhost:8080/"
        },
        "id": "ld-7-Ep2H4SB",
        "outputId": "968acbfb-2248-4146-fcd4-c4bf2d7e11c2"
      },
      "execution_count": 38,
      "outputs": [
        {
          "output_type": "execute_result",
          "data": {
            "text/plain": [
              "array([[5, 5, 8, 0, 6],\n",
              "       [9, 8, 4, 0, 7],\n",
              "       [7, 8, 1, 9, 8],\n",
              "       [7, 4, 9, 8, 2],\n",
              "       [5, 3, 1, 9, 7]])"
            ]
          },
          "metadata": {},
          "execution_count": 38
        }
      ]
    },
    {
      "cell_type": "code",
      "source": [
        "# access 5,4,9,2\n",
        "arr1[[0,1,2,3],\n",
        "       [1,2,3,4]]"
      ],
      "metadata": {
        "colab": {
          "base_uri": "https://localhost:8080/"
        },
        "id": "kKLR3pfFIs5P",
        "outputId": "1aea6c5e-d0fb-4467-f873-31480775ba41"
      },
      "execution_count": 40,
      "outputs": [
        {
          "output_type": "execute_result",
          "data": {
            "text/plain": [
              "array([5, 4, 9, 2])"
            ]
          },
          "metadata": {},
          "execution_count": 40
        }
      ]
    },
    {
      "cell_type": "code",
      "source": [
        "# access 8,4,3 and 9,8,9\n",
        "arr1[2:, [1,3]]"
      ],
      "metadata": {
        "colab": {
          "base_uri": "https://localhost:8080/"
        },
        "id": "R_6wds7MJDT3",
        "outputId": "0a34e5a5-c043-448a-b1b4-6114e90d9f18"
      },
      "execution_count": 41,
      "outputs": [
        {
          "output_type": "execute_result",
          "data": {
            "text/plain": [
              "array([[8, 9],\n",
              "       [4, 8],\n",
              "       [3, 9]])"
            ]
          },
          "metadata": {},
          "execution_count": 41
        }
      ]
    },
    {
      "cell_type": "code",
      "source": [
        "mask2 = np.array([0,1,0,1,1], dtype=bool)\n",
        "arr1[mask2, 2]"
      ],
      "metadata": {
        "colab": {
          "base_uri": "https://localhost:8080/"
        },
        "id": "j8nx8_YkJiW3",
        "outputId": "dae39766-bb4c-441c-f5cf-f444de0b4b09"
      },
      "execution_count": 51,
      "outputs": [
        {
          "output_type": "execute_result",
          "data": {
            "text/plain": [
              "array([4, 9, 1])"
            ]
          },
          "metadata": {},
          "execution_count": 51
        }
      ]
    },
    {
      "cell_type": "code",
      "source": [
        "# number divisible by 3\n",
        "mask3 = np.array(arr1%3==0)\n",
        "mask3"
      ],
      "metadata": {
        "colab": {
          "base_uri": "https://localhost:8080/"
        },
        "id": "2MLKBhuvJxyX",
        "outputId": "b28d7165-02c1-4692-ac93-5542e0b06223"
      },
      "execution_count": 52,
      "outputs": [
        {
          "output_type": "execute_result",
          "data": {
            "text/plain": [
              "array([[False, False, False,  True,  True],\n",
              "       [ True, False, False,  True, False],\n",
              "       [False, False, False,  True, False],\n",
              "       [False, False,  True, False, False],\n",
              "       [False,  True, False,  True, False]])"
            ]
          },
          "metadata": {},
          "execution_count": 52
        }
      ]
    },
    {
      "cell_type": "code",
      "source": [
        "arr1[mask3]"
      ],
      "metadata": {
        "colab": {
          "base_uri": "https://localhost:8080/"
        },
        "id": "-HRTB4M_KpX3",
        "outputId": "a3b13a18-ef59-4c4d-fa02-63e90f911d41"
      },
      "execution_count": 56,
      "outputs": [
        {
          "output_type": "execute_result",
          "data": {
            "text/plain": [
              "array([0, 6, 9, 0, 9, 9, 3, 9])"
            ]
          },
          "metadata": {},
          "execution_count": 56
        }
      ]
    },
    {
      "cell_type": "code",
      "source": [
        ""
      ],
      "metadata": {
        "id": "vQKMJT7fKzDW"
      },
      "execution_count": 56,
      "outputs": []
    },
    {
      "cell_type": "code",
      "source": [
        ""
      ],
      "metadata": {
        "id": "irIlDL4wMJnW"
      },
      "execution_count": null,
      "outputs": []
    }
  ]
}